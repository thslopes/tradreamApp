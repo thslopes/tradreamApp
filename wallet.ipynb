{
 "cells": [
  {
   "cell_type": "code",
   "execution_count": 1,
   "metadata": {},
   "outputs": [],
   "source": [
    "import requests\n",
    "\n",
    "ignore_cpts=[\"2023-05-06\",\"2023-09-02\",\"2023-09-09\",\"2023-09-20\",\"2023-09-21\"]\n",
    "\n",
    "api_key = \"\"\n",
    "\n",
    "def get_historical_stock_data(symbol, qtt, start_date, invested_amount, split=1, split_date = \"2030-01-01\"):\n",
    "    url = f\"https://www.alphavantage.co/query?function=TIME_SERIES_DAILY&symbol={symbol}&outputsize=full&apikey={api_key}\"\n",
    "\n",
    "    try:\n",
    "        response = requests.get(url)\n",
    "        data = response.json()\n",
    "\n",
    "        if \"Error Message\" in data:\n",
    "            raise Exception(data[\"Error Message\"])\n",
    "\n",
    "        series_key = \"Time Series (Daily)\"\n",
    "        stock_data = []\n",
    "        for date, values in data[series_key].items():\n",
    "            if date in ignore_cpts and symbol == \"CPTS11.SA\":\n",
    "                continue\n",
    "            if start_date <= date:\n",
    "                stock_data.append(parse_prices(qtt, invested_amount, date, values, split, split_date))\n",
    "\n",
    "        return stock_data\n",
    "\n",
    "    except Exception as e:\n",
    "        print(f\"An error occurred: {e}\")\n",
    "        return None\n",
    "\n",
    "\n",
    "def parse_prices(qtt, invested_amount, date, values, split, split_date = \"2030-01-01\"):\n",
    "    factor = 1\n",
    "    if split_date <= date:\n",
    "        factor = split\n",
    "    return {\n",
    "        \"date\": date,\n",
    "        \"open\": float(values[\"1. open\"])* factor,\n",
    "        \"high\": float(values[\"2. high\"])* factor,\n",
    "        \"low\": float(values[\"3. low\"])* factor,\n",
    "        \"close\": float(values[\"4. close\"])* factor,\n",
    "        \"open_profit\": float(values[\"1. open\"]) * factor * qtt - invested_amount,\n",
    "        \"high_profit\": float(values[\"2. high\"]) * factor * qtt - invested_amount,\n",
    "        \"low_profit\": float(values[\"3. low\"]) * factor * qtt - invested_amount,\n",
    "        \"close_profit\": float(values[\"4. close\"]) * factor * qtt - invested_amount,\n",
    "    }"
   ]
  },
  {
   "cell_type": "code",
   "execution_count": 2,
   "metadata": {},
   "outputs": [],
   "source": [
    "import plotly.graph_objects as go\n",
    "\n",
    "\n",
    "def plot_candlestick_chart(data, symbol, profit = False):\n",
    "    sufix = ''\n",
    "    title=\"Price\"\n",
    "    if profit:\n",
    "        sufix = '_profit'\n",
    "        title=\"Profit\"\n",
    "    # Extract the necessary data from the stock data\n",
    "    dates = [item[\"date\"] for item in data]\n",
    "    opens = [item[\"open\" + sufix] for item in data]\n",
    "    highs = [item[\"high\" + sufix] for item in data]\n",
    "    lows = [item[\"low\" + sufix] for item in data]\n",
    "    closes = [item[\"close\" + sufix] for item in data]\n",
    "\n",
    "    # Create the candlestick trace\n",
    "    trace = go.Candlestick(x=dates, open=opens, high=highs, low=lows, close=closes)\n",
    "\n",
    "    # Create the layout\n",
    "    layout = go.Layout(title=symbol, yaxis=dict(title=title))\n",
    "\n",
    "    # Create the figure and add the trace\n",
    "    fig = go.Figure(data=[trace], layout=layout)\n",
    "\n",
    "    # Show the figure\n",
    "    fig.show()"
   ]
  },
  {
   "cell_type": "code",
   "execution_count": 3,
   "metadata": {},
   "outputs": [],
   "source": [
    "def merge(d1, d2):\n",
    "    d3 = []\n",
    "    idxD1, idxD2 = 0, 0\n",
    "    while idxD1 < len(d1) or idxD2 < len(d2):\n",
    "        if idxD2 >= len(d2) or (\n",
    "            idxD1 < len(d1) and d1[idxD1][\"date\"] > d2[idxD2][\"date\"]\n",
    "        ):\n",
    "            d3.append(d1[idxD1])\n",
    "            idxD1 += 1\n",
    "        elif idxD1 >= len(d1) or (\n",
    "            idxD2 < len(d2) and d1[idxD1][\"date\"] < d2[idxD2][\"date\"]\n",
    "        ):\n",
    "            d3.append(d2[idxD2])\n",
    "            idxD2 += 1\n",
    "        else:\n",
    "            d3.append(\n",
    "                {\n",
    "                    \"date\": d1[idxD1][\"date\"],\n",
    "                    \"open_profit\": d1[idxD1][\"open_profit\"] + d2[idxD2][\"open_profit\"],\n",
    "                    \"high_profit\": d1[idxD1][\"high_profit\"] + d2[idxD2][\"high_profit\"],\n",
    "                    \"low_profit\": d1[idxD1][\"low_profit\"] + d2[idxD2][\"low_profit\"],\n",
    "                    \"close_profit\": d1[idxD1][\"close_profit\"] + d2[idxD2][\"close_profit\"],\n",
    "                }\n",
    "            )\n",
    "            idxD1 += 1\n",
    "            idxD2 += 1\n",
    "    return d3"
   ]
  },
  {
   "cell_type": "code",
   "execution_count": 4,
   "metadata": {},
   "outputs": [
    {
     "name": "stdout",
     "output_type": "stream",
     "text": [
      "An error occurred: 'Time Series (Daily)'\n",
      "An error occurred: 'Time Series (Daily)'\n"
     ]
    },
    {
     "ename": "KeyboardInterrupt",
     "evalue": "",
     "output_type": "error",
     "traceback": [
      "\u001b[0;31m---------------------------------------------------------------------------\u001b[0m",
      "\u001b[0;31mKeyboardInterrupt\u001b[0m                         Traceback (most recent call last)",
      "\u001b[1;32m/home/thiago/workspace/tradreamApp/wallet.ipynb Cell 4\u001b[0m line \u001b[0;36m5\n\u001b[1;32m      <a href='vscode-notebook-cell:/home/thiago/workspace/tradreamApp/wallet.ipynb#W3sZmlsZQ%3D%3D?line=2'>3</a>\u001b[0m time\u001b[39m.\u001b[39msleep(\u001b[39m15\u001b[39m)\n\u001b[1;32m      <a href='vscode-notebook-cell:/home/thiago/workspace/tradreamApp/wallet.ipynb#W3sZmlsZQ%3D%3D?line=3'>4</a>\u001b[0m CPTS11 \u001b[39m=\u001b[39m get_historical_stock_data(\u001b[39m\"\u001b[39m\u001b[39mCPTS11.SA\u001b[39m\u001b[39m\"\u001b[39m, \u001b[39m30\u001b[39m, invested_amount\u001b[39m=\u001b[39m\u001b[39m2295.00\u001b[39m, start_date\u001b[39m=\u001b[39m\u001b[39m'\u001b[39m\u001b[39m2023-05-05\u001b[39m\u001b[39m'\u001b[39m, split\u001b[39m=\u001b[39m\u001b[39m10\u001b[39m, split_date\u001b[39m=\u001b[39m\u001b[39m'\u001b[39m\u001b[39m2023-09-20\u001b[39m\u001b[39m'\u001b[39m)\n\u001b[0;32m----> <a href='vscode-notebook-cell:/home/thiago/workspace/tradreamApp/wallet.ipynb#W3sZmlsZQ%3D%3D?line=4'>5</a>\u001b[0m time\u001b[39m.\u001b[39;49msleep(\u001b[39m15\u001b[39;49m)\n\u001b[1;32m      <a href='vscode-notebook-cell:/home/thiago/workspace/tradreamApp/wallet.ipynb#W3sZmlsZQ%3D%3D?line=5'>6</a>\u001b[0m KNCR11 \u001b[39m=\u001b[39m get_historical_stock_data(\u001b[39m\"\u001b[39m\u001b[39mKNCR11.SA\u001b[39m\u001b[39m\"\u001b[39m, \u001b[39m25\u001b[39m, invested_amount\u001b[39m=\u001b[39m\u001b[39m2378.75\u001b[39m, start_date\u001b[39m=\u001b[39m\u001b[39m'\u001b[39m\u001b[39m2023-05-05\u001b[39m\u001b[39m'\u001b[39m)\n\u001b[1;32m      <a href='vscode-notebook-cell:/home/thiago/workspace/tradreamApp/wallet.ipynb#W3sZmlsZQ%3D%3D?line=6'>7</a>\u001b[0m time\u001b[39m.\u001b[39msleep(\u001b[39m15\u001b[39m)\n",
      "\u001b[0;31mKeyboardInterrupt\u001b[0m: "
     ]
    }
   ],
   "source": [
    "import time\n",
    "XPCI11 = get_historical_stock_data(\"XPCI11.SA\", 29, invested_amount=2362.05, start_date='2023-05-05')\n",
    "time.sleep(15)\n",
    "CPTS11 = get_historical_stock_data(\"CPTS11.SA\", 30, invested_amount=2295.00, start_date='2023-05-05', split=10, split_date='2023-09-20')\n",
    "time.sleep(15)\n",
    "KNCR11 = get_historical_stock_data(\"KNCR11.SA\", 25, invested_amount=2378.75, start_date='2023-05-05')\n",
    "time.sleep(15)\n",
    "CPTR11 = get_historical_stock_data(symbol=\"CPTR11.SA\", qtt=20, start_date='2023-06-29', invested_amount=1943.20, split=10, split_date='2023-09-20')\n",
    "time.sleep(15)\n",
    "HABT11 = get_historical_stock_data(symbol=\"HABT11.SA\", qtt=20, start_date='2023-06-29', invested_amount=1924.40)\n",
    "time.sleep(15)\n",
    "ITUB4 = get_historical_stock_data(\"ITUB4.SA\", 38, '2023-06-05', 1026.38)\n",
    "time.sleep(15)\n",
    "PETR4 = get_historical_stock_data(\"PETR4.SA\", 71, '2023-06-05', 1951.79)\n"
   ]
  },
  {
   "cell_type": "code",
   "execution_count": null,
   "metadata": {},
   "outputs": [
    {
     "data": {
      "application/vnd.plotly.v1+json": {
       "config": {
        "plotlyServerURL": "https://plot.ly"
       },
       "data": [
        {
         "close": [
          87.98,
          87.48,
          86.8,
          87,
          86.9,
          88.43,
          87.06,
          86.83,
          87.9,
          87.33,
          88.8,
          87.79,
          87.11,
          87.45,
          87.09,
          87.74,
          87.74,
          86.48,
          85.2,
          86.34,
          86.5,
          86.5,
          87.03,
          87.59,
          89.25,
          89.21,
          88.99,
          88.12,
          87.09,
          87,
          87.99,
          87.83,
          87.14,
          87.2,
          87.39,
          87.3,
          87.3,
          87.1,
          86.9,
          86.84,
          86.49,
          85.59,
          85.49,
          85.63,
          84.61,
          86.89,
          86.99,
          85.8,
          85.6,
          85.9,
          86,
          85.54,
          85.45,
          85.11,
          85.56,
          86.08,
          86.84,
          85.98,
          85.29,
          84.86,
          84.48,
          87.94,
          88.37,
          87.29,
          87.5,
          86.69,
          88,
          86.67,
          87,
          86.12,
          86.89,
          86.74,
          86.02,
          87,
          85.74,
          85.13,
          85.64,
          85.58,
          85.2,
          83.31,
          83.6,
          83.54,
          83.6,
          82.92,
          81.97,
          81.37,
          83,
          83.52,
          83.61,
          83.51,
          83.75,
          83.38,
          83.3,
          83.17,
          83.28,
          83.36,
          83.78,
          83.2,
          82.98,
          82.72,
          81.2,
          82.69,
          83.71,
          81.63,
          83.08,
          81.49,
          81.49
         ],
         "high": [
          88,
          87.89,
          87.88,
          87.67,
          88.92,
          88.7,
          87.49,
          88.47,
          88.44,
          88.75,
          88.98,
          87.85,
          87.94,
          87.88,
          87.94,
          88,
          88,
          86.7,
          86.78,
          87.02,
          86.85,
          86.85,
          88.78,
          89.25,
          89.33,
          89.21,
          89.19,
          88.14,
          87.16,
          87.99,
          88.24,
          88.85,
          87.88,
          88,
          87.54,
          87.74,
          87.89,
          87.47,
          87.48,
          86.99,
          86.56,
          86.57,
          86.2,
          86.03,
          86.14,
          87.73,
          87.01,
          86.4,
          86.21,
          85.99,
          86.01,
          86.08,
          85.55,
          85.89,
          86.08,
          86.83,
          86.88,
          86,
          85.47,
          85.4,
          87.92,
          89.35,
          88.47,
          88.74,
          87.54,
          87.98,
          88,
          87,
          87,
          86.89,
          87,
          87,
          87,
          87.15,
          85.75,
          85.87,
          85.87,
          85.97,
          85.3,
          83.87,
          83.9,
          83.56,
          83.65,
          83.24,
          82.26,
          83.99,
          83.51,
          83.75,
          83.78,
          83.8,
          83.8,
          83.51,
          83.35,
          83.33,
          83.33,
          83.76,
          83.8,
          83.5,
          83.55,
          82.98,
          83.5,
          83.7,
          83.78,
          84.34,
          85,
          82.5,
          82.5
         ],
         "low": [
          87.55,
          86.8,
          86.8,
          86.8,
          86.67,
          87.08,
          86.75,
          86.56,
          87.37,
          87.13,
          87.05,
          86.57,
          86.44,
          86.07,
          86.68,
          86.44,
          86.44,
          85.04,
          84.39,
          85.85,
          85.62,
          85.62,
          86.82,
          86.9,
          88.58,
          88,
          87.52,
          87,
          86.66,
          86.65,
          87.72,
          87.14,
          87,
          87.07,
          86.39,
          87.06,
          87.01,
          86.78,
          86.7,
          86,
          85.5,
          85.12,
          84.76,
          84.74,
          83.8,
          86.53,
          85.5,
          85.51,
          85.5,
          85.15,
          85.1,
          85.02,
          84.69,
          85.06,
          85.47,
          86.02,
          85.84,
          85.03,
          84.31,
          84.3,
          83.84,
          87.61,
          87,
          86.88,
          85.1,
          86.06,
          86.68,
          86.12,
          85.33,
          85.61,
          86.58,
          85.65,
          85.32,
          85.16,
          85.13,
          84.62,
          83.72,
          84.19,
          83.09,
          82.76,
          83.31,
          82.53,
          82.2,
          82,
          81.27,
          80.11,
          81.86,
          83.16,
          83.09,
          83.12,
          82.5,
          83.15,
          83,
          83,
          83,
          83,
          82.6,
          82.08,
          82.75,
          81.21,
          81.19,
          82.5,
          81.52,
          81.63,
          81.49,
          80.35,
          80.35
         ],
         "open": [
          87.95,
          87.09,
          87,
          86.88,
          88.59,
          87.3,
          86.83,
          87.9,
          88.3,
          88.6,
          87.8,
          87.11,
          87.94,
          86.63,
          87.94,
          86.7,
          86.7,
          85.62,
          86.2,
          86.5,
          86.57,
          86.57,
          87.6,
          89.25,
          88.92,
          88.86,
          88.02,
          87.43,
          87,
          87.99,
          88.14,
          87.3,
          87.15,
          87.07,
          87.54,
          87.64,
          87.25,
          86.95,
          86.7,
          86,
          85.59,
          85.46,
          85.69,
          84.74,
          85.89,
          87.2,
          85.8,
          85.51,
          85.69,
          85.98,
          85.25,
          85.45,
          85.47,
          85.56,
          86,
          86.83,
          86,
          85.03,
          85.16,
          84.62,
          87.65,
          88.23,
          87.29,
          87.3,
          86.21,
          87.08,
          86.68,
          87,
          86.74,
          86.3,
          86.74,
          86,
          86.8,
          85.35,
          85.13,
          85.61,
          85.58,
          85,
          83.31,
          83.74,
          83.52,
          83.44,
          82.92,
          82.23,
          81.41,
          83,
          82.39,
          83.61,
          83.76,
          83.74,
          83.54,
          83.27,
          83.15,
          83.26,
          83.27,
          83.68,
          83.09,
          82.98,
          82.78,
          81.21,
          82.56,
          83.7,
          82.01,
          83.08,
          81.49,
          81.7,
          81.7
         ],
         "type": "candlestick",
         "x": [
          "2023-09-29",
          "2023-09-28",
          "2023-09-27",
          "2023-09-26",
          "2023-09-25",
          "2023-09-22",
          "2023-09-21",
          "2023-09-20",
          "2023-09-19",
          "2023-09-18",
          "2023-09-15",
          "2023-09-14",
          "2023-09-13",
          "2023-09-12",
          "2023-09-11",
          "2023-09-09",
          "2023-09-08",
          "2023-09-06",
          "2023-09-05",
          "2023-09-04",
          "2023-09-02",
          "2023-09-01",
          "2023-08-31",
          "2023-08-30",
          "2023-08-29",
          "2023-08-28",
          "2023-08-25",
          "2023-08-24",
          "2023-08-23",
          "2023-08-22",
          "2023-08-21",
          "2023-08-18",
          "2023-08-17",
          "2023-08-16",
          "2023-08-15",
          "2023-08-14",
          "2023-08-11",
          "2023-08-10",
          "2023-08-09",
          "2023-08-08",
          "2023-08-07",
          "2023-08-04",
          "2023-08-03",
          "2023-08-02",
          "2023-08-01",
          "2023-07-31",
          "2023-07-28",
          "2023-07-27",
          "2023-07-26",
          "2023-07-25",
          "2023-07-24",
          "2023-07-21",
          "2023-07-20",
          "2023-07-19",
          "2023-07-18",
          "2023-07-17",
          "2023-07-14",
          "2023-07-13",
          "2023-07-12",
          "2023-07-11",
          "2023-07-10",
          "2023-07-07",
          "2023-07-06",
          "2023-07-05",
          "2023-07-04",
          "2023-07-03",
          "2023-06-30",
          "2023-06-29",
          "2023-06-28",
          "2023-06-27",
          "2023-06-26",
          "2023-06-23",
          "2023-06-22",
          "2023-06-21",
          "2023-06-20",
          "2023-06-19",
          "2023-06-16",
          "2023-06-15",
          "2023-06-14",
          "2023-06-13",
          "2023-06-12",
          "2023-06-09",
          "2023-06-07",
          "2023-06-06",
          "2023-06-05",
          "2023-06-02",
          "2023-06-01",
          "2023-05-31",
          "2023-05-30",
          "2023-05-29",
          "2023-05-26",
          "2023-05-25",
          "2023-05-24",
          "2023-05-23",
          "2023-05-22",
          "2023-05-19",
          "2023-05-18",
          "2023-05-17",
          "2023-05-16",
          "2023-05-15",
          "2023-05-12",
          "2023-05-11",
          "2023-05-10",
          "2023-05-09",
          "2023-05-08",
          "2023-05-06",
          "2023-05-05"
         ]
        }
       ],
       "layout": {
        "template": {
         "data": {
          "bar": [
           {
            "error_x": {
             "color": "#2a3f5f"
            },
            "error_y": {
             "color": "#2a3f5f"
            },
            "marker": {
             "line": {
              "color": "#E5ECF6",
              "width": 0.5
             },
             "pattern": {
              "fillmode": "overlay",
              "size": 10,
              "solidity": 0.2
             }
            },
            "type": "bar"
           }
          ],
          "barpolar": [
           {
            "marker": {
             "line": {
              "color": "#E5ECF6",
              "width": 0.5
             },
             "pattern": {
              "fillmode": "overlay",
              "size": 10,
              "solidity": 0.2
             }
            },
            "type": "barpolar"
           }
          ],
          "carpet": [
           {
            "aaxis": {
             "endlinecolor": "#2a3f5f",
             "gridcolor": "white",
             "linecolor": "white",
             "minorgridcolor": "white",
             "startlinecolor": "#2a3f5f"
            },
            "baxis": {
             "endlinecolor": "#2a3f5f",
             "gridcolor": "white",
             "linecolor": "white",
             "minorgridcolor": "white",
             "startlinecolor": "#2a3f5f"
            },
            "type": "carpet"
           }
          ],
          "choropleth": [
           {
            "colorbar": {
             "outlinewidth": 0,
             "ticks": ""
            },
            "type": "choropleth"
           }
          ],
          "contour": [
           {
            "colorbar": {
             "outlinewidth": 0,
             "ticks": ""
            },
            "colorscale": [
             [
              0,
              "#0d0887"
             ],
             [
              0.1111111111111111,
              "#46039f"
             ],
             [
              0.2222222222222222,
              "#7201a8"
             ],
             [
              0.3333333333333333,
              "#9c179e"
             ],
             [
              0.4444444444444444,
              "#bd3786"
             ],
             [
              0.5555555555555556,
              "#d8576b"
             ],
             [
              0.6666666666666666,
              "#ed7953"
             ],
             [
              0.7777777777777778,
              "#fb9f3a"
             ],
             [
              0.8888888888888888,
              "#fdca26"
             ],
             [
              1,
              "#f0f921"
             ]
            ],
            "type": "contour"
           }
          ],
          "contourcarpet": [
           {
            "colorbar": {
             "outlinewidth": 0,
             "ticks": ""
            },
            "type": "contourcarpet"
           }
          ],
          "heatmap": [
           {
            "colorbar": {
             "outlinewidth": 0,
             "ticks": ""
            },
            "colorscale": [
             [
              0,
              "#0d0887"
             ],
             [
              0.1111111111111111,
              "#46039f"
             ],
             [
              0.2222222222222222,
              "#7201a8"
             ],
             [
              0.3333333333333333,
              "#9c179e"
             ],
             [
              0.4444444444444444,
              "#bd3786"
             ],
             [
              0.5555555555555556,
              "#d8576b"
             ],
             [
              0.6666666666666666,
              "#ed7953"
             ],
             [
              0.7777777777777778,
              "#fb9f3a"
             ],
             [
              0.8888888888888888,
              "#fdca26"
             ],
             [
              1,
              "#f0f921"
             ]
            ],
            "type": "heatmap"
           }
          ],
          "heatmapgl": [
           {
            "colorbar": {
             "outlinewidth": 0,
             "ticks": ""
            },
            "colorscale": [
             [
              0,
              "#0d0887"
             ],
             [
              0.1111111111111111,
              "#46039f"
             ],
             [
              0.2222222222222222,
              "#7201a8"
             ],
             [
              0.3333333333333333,
              "#9c179e"
             ],
             [
              0.4444444444444444,
              "#bd3786"
             ],
             [
              0.5555555555555556,
              "#d8576b"
             ],
             [
              0.6666666666666666,
              "#ed7953"
             ],
             [
              0.7777777777777778,
              "#fb9f3a"
             ],
             [
              0.8888888888888888,
              "#fdca26"
             ],
             [
              1,
              "#f0f921"
             ]
            ],
            "type": "heatmapgl"
           }
          ],
          "histogram": [
           {
            "marker": {
             "pattern": {
              "fillmode": "overlay",
              "size": 10,
              "solidity": 0.2
             }
            },
            "type": "histogram"
           }
          ],
          "histogram2d": [
           {
            "colorbar": {
             "outlinewidth": 0,
             "ticks": ""
            },
            "colorscale": [
             [
              0,
              "#0d0887"
             ],
             [
              0.1111111111111111,
              "#46039f"
             ],
             [
              0.2222222222222222,
              "#7201a8"
             ],
             [
              0.3333333333333333,
              "#9c179e"
             ],
             [
              0.4444444444444444,
              "#bd3786"
             ],
             [
              0.5555555555555556,
              "#d8576b"
             ],
             [
              0.6666666666666666,
              "#ed7953"
             ],
             [
              0.7777777777777778,
              "#fb9f3a"
             ],
             [
              0.8888888888888888,
              "#fdca26"
             ],
             [
              1,
              "#f0f921"
             ]
            ],
            "type": "histogram2d"
           }
          ],
          "histogram2dcontour": [
           {
            "colorbar": {
             "outlinewidth": 0,
             "ticks": ""
            },
            "colorscale": [
             [
              0,
              "#0d0887"
             ],
             [
              0.1111111111111111,
              "#46039f"
             ],
             [
              0.2222222222222222,
              "#7201a8"
             ],
             [
              0.3333333333333333,
              "#9c179e"
             ],
             [
              0.4444444444444444,
              "#bd3786"
             ],
             [
              0.5555555555555556,
              "#d8576b"
             ],
             [
              0.6666666666666666,
              "#ed7953"
             ],
             [
              0.7777777777777778,
              "#fb9f3a"
             ],
             [
              0.8888888888888888,
              "#fdca26"
             ],
             [
              1,
              "#f0f921"
             ]
            ],
            "type": "histogram2dcontour"
           }
          ],
          "mesh3d": [
           {
            "colorbar": {
             "outlinewidth": 0,
             "ticks": ""
            },
            "type": "mesh3d"
           }
          ],
          "parcoords": [
           {
            "line": {
             "colorbar": {
              "outlinewidth": 0,
              "ticks": ""
             }
            },
            "type": "parcoords"
           }
          ],
          "pie": [
           {
            "automargin": true,
            "type": "pie"
           }
          ],
          "scatter": [
           {
            "marker": {
             "colorbar": {
              "outlinewidth": 0,
              "ticks": ""
             }
            },
            "type": "scatter"
           }
          ],
          "scatter3d": [
           {
            "line": {
             "colorbar": {
              "outlinewidth": 0,
              "ticks": ""
             }
            },
            "marker": {
             "colorbar": {
              "outlinewidth": 0,
              "ticks": ""
             }
            },
            "type": "scatter3d"
           }
          ],
          "scattercarpet": [
           {
            "marker": {
             "colorbar": {
              "outlinewidth": 0,
              "ticks": ""
             }
            },
            "type": "scattercarpet"
           }
          ],
          "scattergeo": [
           {
            "marker": {
             "colorbar": {
              "outlinewidth": 0,
              "ticks": ""
             }
            },
            "type": "scattergeo"
           }
          ],
          "scattergl": [
           {
            "marker": {
             "colorbar": {
              "outlinewidth": 0,
              "ticks": ""
             }
            },
            "type": "scattergl"
           }
          ],
          "scattermapbox": [
           {
            "marker": {
             "colorbar": {
              "outlinewidth": 0,
              "ticks": ""
             }
            },
            "type": "scattermapbox"
           }
          ],
          "scatterpolar": [
           {
            "marker": {
             "colorbar": {
              "outlinewidth": 0,
              "ticks": ""
             }
            },
            "type": "scatterpolar"
           }
          ],
          "scatterpolargl": [
           {
            "marker": {
             "colorbar": {
              "outlinewidth": 0,
              "ticks": ""
             }
            },
            "type": "scatterpolargl"
           }
          ],
          "scatterternary": [
           {
            "marker": {
             "colorbar": {
              "outlinewidth": 0,
              "ticks": ""
             }
            },
            "type": "scatterternary"
           }
          ],
          "surface": [
           {
            "colorbar": {
             "outlinewidth": 0,
             "ticks": ""
            },
            "colorscale": [
             [
              0,
              "#0d0887"
             ],
             [
              0.1111111111111111,
              "#46039f"
             ],
             [
              0.2222222222222222,
              "#7201a8"
             ],
             [
              0.3333333333333333,
              "#9c179e"
             ],
             [
              0.4444444444444444,
              "#bd3786"
             ],
             [
              0.5555555555555556,
              "#d8576b"
             ],
             [
              0.6666666666666666,
              "#ed7953"
             ],
             [
              0.7777777777777778,
              "#fb9f3a"
             ],
             [
              0.8888888888888888,
              "#fdca26"
             ],
             [
              1,
              "#f0f921"
             ]
            ],
            "type": "surface"
           }
          ],
          "table": [
           {
            "cells": {
             "fill": {
              "color": "#EBF0F8"
             },
             "line": {
              "color": "white"
             }
            },
            "header": {
             "fill": {
              "color": "#C8D4E3"
             },
             "line": {
              "color": "white"
             }
            },
            "type": "table"
           }
          ]
         },
         "layout": {
          "annotationdefaults": {
           "arrowcolor": "#2a3f5f",
           "arrowhead": 0,
           "arrowwidth": 1
          },
          "autotypenumbers": "strict",
          "coloraxis": {
           "colorbar": {
            "outlinewidth": 0,
            "ticks": ""
           }
          },
          "colorscale": {
           "diverging": [
            [
             0,
             "#8e0152"
            ],
            [
             0.1,
             "#c51b7d"
            ],
            [
             0.2,
             "#de77ae"
            ],
            [
             0.3,
             "#f1b6da"
            ],
            [
             0.4,
             "#fde0ef"
            ],
            [
             0.5,
             "#f7f7f7"
            ],
            [
             0.6,
             "#e6f5d0"
            ],
            [
             0.7,
             "#b8e186"
            ],
            [
             0.8,
             "#7fbc41"
            ],
            [
             0.9,
             "#4d9221"
            ],
            [
             1,
             "#276419"
            ]
           ],
           "sequential": [
            [
             0,
             "#0d0887"
            ],
            [
             0.1111111111111111,
             "#46039f"
            ],
            [
             0.2222222222222222,
             "#7201a8"
            ],
            [
             0.3333333333333333,
             "#9c179e"
            ],
            [
             0.4444444444444444,
             "#bd3786"
            ],
            [
             0.5555555555555556,
             "#d8576b"
            ],
            [
             0.6666666666666666,
             "#ed7953"
            ],
            [
             0.7777777777777778,
             "#fb9f3a"
            ],
            [
             0.8888888888888888,
             "#fdca26"
            ],
            [
             1,
             "#f0f921"
            ]
           ],
           "sequentialminus": [
            [
             0,
             "#0d0887"
            ],
            [
             0.1111111111111111,
             "#46039f"
            ],
            [
             0.2222222222222222,
             "#7201a8"
            ],
            [
             0.3333333333333333,
             "#9c179e"
            ],
            [
             0.4444444444444444,
             "#bd3786"
            ],
            [
             0.5555555555555556,
             "#d8576b"
            ],
            [
             0.6666666666666666,
             "#ed7953"
            ],
            [
             0.7777777777777778,
             "#fb9f3a"
            ],
            [
             0.8888888888888888,
             "#fdca26"
            ],
            [
             1,
             "#f0f921"
            ]
           ]
          },
          "colorway": [
           "#636efa",
           "#EF553B",
           "#00cc96",
           "#ab63fa",
           "#FFA15A",
           "#19d3f3",
           "#FF6692",
           "#B6E880",
           "#FF97FF",
           "#FECB52"
          ],
          "font": {
           "color": "#2a3f5f"
          },
          "geo": {
           "bgcolor": "white",
           "lakecolor": "white",
           "landcolor": "#E5ECF6",
           "showlakes": true,
           "showland": true,
           "subunitcolor": "white"
          },
          "hoverlabel": {
           "align": "left"
          },
          "hovermode": "closest",
          "mapbox": {
           "style": "light"
          },
          "paper_bgcolor": "white",
          "plot_bgcolor": "#E5ECF6",
          "polar": {
           "angularaxis": {
            "gridcolor": "white",
            "linecolor": "white",
            "ticks": ""
           },
           "bgcolor": "#E5ECF6",
           "radialaxis": {
            "gridcolor": "white",
            "linecolor": "white",
            "ticks": ""
           }
          },
          "scene": {
           "xaxis": {
            "backgroundcolor": "#E5ECF6",
            "gridcolor": "white",
            "gridwidth": 2,
            "linecolor": "white",
            "showbackground": true,
            "ticks": "",
            "zerolinecolor": "white"
           },
           "yaxis": {
            "backgroundcolor": "#E5ECF6",
            "gridcolor": "white",
            "gridwidth": 2,
            "linecolor": "white",
            "showbackground": true,
            "ticks": "",
            "zerolinecolor": "white"
           },
           "zaxis": {
            "backgroundcolor": "#E5ECF6",
            "gridcolor": "white",
            "gridwidth": 2,
            "linecolor": "white",
            "showbackground": true,
            "ticks": "",
            "zerolinecolor": "white"
           }
          },
          "shapedefaults": {
           "line": {
            "color": "#2a3f5f"
           }
          },
          "ternary": {
           "aaxis": {
            "gridcolor": "white",
            "linecolor": "white",
            "ticks": ""
           },
           "baxis": {
            "gridcolor": "white",
            "linecolor": "white",
            "ticks": ""
           },
           "bgcolor": "#E5ECF6",
           "caxis": {
            "gridcolor": "white",
            "linecolor": "white",
            "ticks": ""
           }
          },
          "title": {
           "x": 0.05
          },
          "xaxis": {
           "automargin": true,
           "gridcolor": "white",
           "linecolor": "white",
           "ticks": "",
           "title": {
            "standoff": 15
           },
           "zerolinecolor": "white",
           "zerolinewidth": 2
          },
          "yaxis": {
           "automargin": true,
           "gridcolor": "white",
           "linecolor": "white",
           "ticks": "",
           "title": {
            "standoff": 15
           },
           "zerolinecolor": "white",
           "zerolinewidth": 2
          }
         }
        },
        "title": {
         "text": "XPCI11"
        },
        "yaxis": {
         "title": {
          "text": "Price"
         }
        }
       }
      }
     },
     "metadata": {},
     "output_type": "display_data"
    },
    {
     "data": {
      "application/vnd.plotly.v1+json": {
       "config": {
        "plotlyServerURL": "https://plot.ly"
       },
       "data": [
        {
         "close": [
          87.2,
          86.19999999999999,
          87.4,
          86.1,
          85.58999999999999,
          881.5,
          90.05,
          89.89,
          88.64,
          89.49,
          89.49,
          90.1,
          89.98,
          89.63,
          88.82,
          88.59,
          88.35,
          88.01,
          87.65,
          87.35,
          86.6,
          86.05,
          86.81,
          86.27,
          86.22,
          86.1,
          87.25,
          87.3,
          86.5,
          86.37,
          85.7,
          86.23,
          87.34,
          87.88,
          87.44,
          87.19,
          87.15,
          86.19,
          85.49,
          84.61,
          84.07,
          85.37,
          85.18,
          84.48,
          84,
          84.61,
          84.88,
          86.87,
          86.56,
          86.5,
          88.46,
          87.82,
          87.36,
          87.35,
          87.56,
          87.95,
          87.88,
          88.68,
          88.23,
          88.17,
          85.99,
          85.71,
          85.24,
          84.8,
          83.94,
          83,
          82.76,
          82.82,
          81.98,
          82.13,
          82.66,
          82.24,
          81.87,
          81.46,
          81.28,
          81.87,
          81.9,
          81.98,
          80.15,
          81.09,
          81.11,
          80.75,
          80.38,
          81.05,
          81.26,
          81.15,
          80.93,
          81.36,
          81.06,
          80.83,
          80.31,
          80.64,
          79.45,
          79.73,
          79.1,
          78.99,
          78.18,
          78.68,
          78.28,
          77.8,
          77.2,
          76.4
         ],
         "high": [
          87.69999999999999,
          88.5,
          87.89999999999999,
          88.80000000000001,
          88.42,
          893.1999999999999,
          90.05,
          89.89,
          90.55,
          90.64,
          90.41,
          90.29,
          90.12,
          89.85,
          89.4,
          88.94,
          88.35,
          88.18,
          87.99,
          87.49,
          86.71,
          87.1,
          87,
          86.43,
          86.92,
          88.16,
          87.67,
          87.4,
          86.98,
          86.8,
          86.35,
          87.5,
          87.5,
          87.97,
          87.5,
          87.19,
          87.2,
          86.42,
          85.81,
          85.2,
          85.43,
          85.44,
          85.24,
          84.75,
          84.92,
          85.29,
          87,
          87.1,
          87.3,
          88.79,
          88.66,
          87.93,
          87.78,
          87.66,
          88.35,
          88.39,
          88.94,
          88.8,
          88.4,
          88.43,
          87.7,
          85.9,
          85.48,
          84.8,
          84.76,
          83.95,
          82.8,
          82.82,
          82.45,
          82.9,
          83.03,
          82.7,
          83.23,
          81.72,
          81.45,
          82.5,
          82.29,
          82,
          82.2,
          81.29,
          81.6,
          81.2,
          81.5,
          81.55,
          82,
          81.5,
          81.96,
          81.81,
          81.58,
          80.95,
          81,
          80.88,
          80.43,
          80,
          79.45,
          79.48,
          79.6,
          78.97,
          78.3,
          77.9,
          77.2,
          76.5
         ],
         "low": [
          86.19999999999999,
          86.19999999999999,
          86.7,
          85.60000000000001,
          85.1,
          879.9,
          88.39,
          88.14,
          88.64,
          87.15,
          89,
          89.6,
          89.41,
          88.83,
          88.41,
          88,
          87.05,
          87.55,
          87.4,
          86.6,
          86.17,
          85.95,
          86.25,
          86,
          86.1,
          85.91,
          86.78,
          86.3,
          86.23,
          85.23,
          85,
          85.71,
          86.26,
          86.7,
          86.53,
          86.38,
          86.12,
          85.49,
          84.52,
          84.3,
          83.8,
          85,
          84.2,
          84.08,
          84,
          84.18,
          84.63,
          86.05,
          86.5,
          86.17,
          87.57,
          87.25,
          86.62,
          86.12,
          87.12,
          87.84,
          87.7,
          88.06,
          87,
          86.15,
          85.34,
          85.05,
          84.63,
          83.94,
          82.74,
          82.4,
          82.13,
          81.88,
          81.9,
          81.83,
          82.27,
          81.83,
          81.5,
          80.87,
          80.64,
          81.41,
          81.66,
          80.23,
          79.7,
          80.9,
          80.8,
          79.51,
          80.32,
          80.78,
          80.21,
          80.5,
          80.76,
          80.65,
          80.52,
          80.3,
          80,
          79.8,
          79.32,
          78.93,
          78.82,
          77.78,
          77.76,
          77.77,
          77.8,
          77.13,
          76.44,
          76.03
         ],
         "open": [
          86.8,
          87.6,
          87.2,
          86,
          88.29,
          889.7,
          89.85,
          88.9,
          89.5,
          87.88,
          89.96,
          90,
          89.63,
          88.83,
          88.59,
          88.39,
          88.1,
          87.65,
          87.4,
          86.6,
          86.31,
          86.81,
          86.27,
          86.22,
          86.3,
          87.6,
          87.18,
          86.5,
          86.37,
          86.05,
          86.25,
          87.34,
          86.26,
          87.43,
          87.18,
          87.15,
          86.5,
          85.49,
          84.75,
          84.46,
          85.37,
          85.18,
          84.5,
          84.23,
          84.61,
          84.81,
          86.84,
          86.8,
          86.5,
          88.46,
          87.81,
          87.35,
          86.72,
          87.56,
          87.99,
          87.88,
          88.52,
          88.23,
          88.17,
          86.2,
          85.9,
          85.24,
          84.8,
          83.94,
          83.27,
          82.79,
          82.8,
          81.98,
          82.17,
          82.75,
          82.27,
          82.02,
          81.53,
          81.28,
          81,
          81.85,
          81.98,
          80.56,
          81.15,
          81.15,
          80.8,
          80.56,
          81.25,
          81.26,
          81.15,
          81.01,
          81.5,
          81.08,
          80.8,
          80.4,
          80.6,
          79.8,
          80,
          79.12,
          79,
          78.37,
          78.5,
          78.27,
          77.8,
          77.33,
          76.5,
          76.31
         ],
         "type": "candlestick",
         "x": [
          "2023-09-29",
          "2023-09-28",
          "2023-09-27",
          "2023-09-26",
          "2023-09-25",
          "2023-09-22",
          "2023-09-19",
          "2023-09-18",
          "2023-09-15",
          "2023-09-14",
          "2023-09-13",
          "2023-09-12",
          "2023-09-11",
          "2023-09-08",
          "2023-09-06",
          "2023-09-05",
          "2023-09-04",
          "2023-09-01",
          "2023-08-31",
          "2023-08-30",
          "2023-08-29",
          "2023-08-28",
          "2023-08-25",
          "2023-08-24",
          "2023-08-23",
          "2023-08-22",
          "2023-08-21",
          "2023-08-18",
          "2023-08-17",
          "2023-08-16",
          "2023-08-15",
          "2023-08-14",
          "2023-08-11",
          "2023-08-10",
          "2023-08-09",
          "2023-08-08",
          "2023-08-07",
          "2023-08-04",
          "2023-08-03",
          "2023-08-02",
          "2023-08-01",
          "2023-07-31",
          "2023-07-28",
          "2023-07-27",
          "2023-07-26",
          "2023-07-25",
          "2023-07-24",
          "2023-07-21",
          "2023-07-20",
          "2023-07-19",
          "2023-07-18",
          "2023-07-17",
          "2023-07-14",
          "2023-07-13",
          "2023-07-12",
          "2023-07-11",
          "2023-07-10",
          "2023-07-07",
          "2023-07-06",
          "2023-07-05",
          "2023-07-04",
          "2023-07-03",
          "2023-06-30",
          "2023-06-29",
          "2023-06-28",
          "2023-06-27",
          "2023-06-26",
          "2023-06-23",
          "2023-06-22",
          "2023-06-21",
          "2023-06-20",
          "2023-06-19",
          "2023-06-16",
          "2023-06-15",
          "2023-06-14",
          "2023-06-13",
          "2023-06-12",
          "2023-06-09",
          "2023-06-07",
          "2023-06-06",
          "2023-06-05",
          "2023-06-02",
          "2023-06-01",
          "2023-05-31",
          "2023-05-30",
          "2023-05-29",
          "2023-05-26",
          "2023-05-25",
          "2023-05-24",
          "2023-05-23",
          "2023-05-22",
          "2023-05-19",
          "2023-05-18",
          "2023-05-17",
          "2023-05-16",
          "2023-05-15",
          "2023-05-12",
          "2023-05-11",
          "2023-05-10",
          "2023-05-09",
          "2023-05-08",
          "2023-05-05"
         ]
        }
       ],
       "layout": {
        "template": {
         "data": {
          "bar": [
           {
            "error_x": {
             "color": "#2a3f5f"
            },
            "error_y": {
             "color": "#2a3f5f"
            },
            "marker": {
             "line": {
              "color": "#E5ECF6",
              "width": 0.5
             },
             "pattern": {
              "fillmode": "overlay",
              "size": 10,
              "solidity": 0.2
             }
            },
            "type": "bar"
           }
          ],
          "barpolar": [
           {
            "marker": {
             "line": {
              "color": "#E5ECF6",
              "width": 0.5
             },
             "pattern": {
              "fillmode": "overlay",
              "size": 10,
              "solidity": 0.2
             }
            },
            "type": "barpolar"
           }
          ],
          "carpet": [
           {
            "aaxis": {
             "endlinecolor": "#2a3f5f",
             "gridcolor": "white",
             "linecolor": "white",
             "minorgridcolor": "white",
             "startlinecolor": "#2a3f5f"
            },
            "baxis": {
             "endlinecolor": "#2a3f5f",
             "gridcolor": "white",
             "linecolor": "white",
             "minorgridcolor": "white",
             "startlinecolor": "#2a3f5f"
            },
            "type": "carpet"
           }
          ],
          "choropleth": [
           {
            "colorbar": {
             "outlinewidth": 0,
             "ticks": ""
            },
            "type": "choropleth"
           }
          ],
          "contour": [
           {
            "colorbar": {
             "outlinewidth": 0,
             "ticks": ""
            },
            "colorscale": [
             [
              0,
              "#0d0887"
             ],
             [
              0.1111111111111111,
              "#46039f"
             ],
             [
              0.2222222222222222,
              "#7201a8"
             ],
             [
              0.3333333333333333,
              "#9c179e"
             ],
             [
              0.4444444444444444,
              "#bd3786"
             ],
             [
              0.5555555555555556,
              "#d8576b"
             ],
             [
              0.6666666666666666,
              "#ed7953"
             ],
             [
              0.7777777777777778,
              "#fb9f3a"
             ],
             [
              0.8888888888888888,
              "#fdca26"
             ],
             [
              1,
              "#f0f921"
             ]
            ],
            "type": "contour"
           }
          ],
          "contourcarpet": [
           {
            "colorbar": {
             "outlinewidth": 0,
             "ticks": ""
            },
            "type": "contourcarpet"
           }
          ],
          "heatmap": [
           {
            "colorbar": {
             "outlinewidth": 0,
             "ticks": ""
            },
            "colorscale": [
             [
              0,
              "#0d0887"
             ],
             [
              0.1111111111111111,
              "#46039f"
             ],
             [
              0.2222222222222222,
              "#7201a8"
             ],
             [
              0.3333333333333333,
              "#9c179e"
             ],
             [
              0.4444444444444444,
              "#bd3786"
             ],
             [
              0.5555555555555556,
              "#d8576b"
             ],
             [
              0.6666666666666666,
              "#ed7953"
             ],
             [
              0.7777777777777778,
              "#fb9f3a"
             ],
             [
              0.8888888888888888,
              "#fdca26"
             ],
             [
              1,
              "#f0f921"
             ]
            ],
            "type": "heatmap"
           }
          ],
          "heatmapgl": [
           {
            "colorbar": {
             "outlinewidth": 0,
             "ticks": ""
            },
            "colorscale": [
             [
              0,
              "#0d0887"
             ],
             [
              0.1111111111111111,
              "#46039f"
             ],
             [
              0.2222222222222222,
              "#7201a8"
             ],
             [
              0.3333333333333333,
              "#9c179e"
             ],
             [
              0.4444444444444444,
              "#bd3786"
             ],
             [
              0.5555555555555556,
              "#d8576b"
             ],
             [
              0.6666666666666666,
              "#ed7953"
             ],
             [
              0.7777777777777778,
              "#fb9f3a"
             ],
             [
              0.8888888888888888,
              "#fdca26"
             ],
             [
              1,
              "#f0f921"
             ]
            ],
            "type": "heatmapgl"
           }
          ],
          "histogram": [
           {
            "marker": {
             "pattern": {
              "fillmode": "overlay",
              "size": 10,
              "solidity": 0.2
             }
            },
            "type": "histogram"
           }
          ],
          "histogram2d": [
           {
            "colorbar": {
             "outlinewidth": 0,
             "ticks": ""
            },
            "colorscale": [
             [
              0,
              "#0d0887"
             ],
             [
              0.1111111111111111,
              "#46039f"
             ],
             [
              0.2222222222222222,
              "#7201a8"
             ],
             [
              0.3333333333333333,
              "#9c179e"
             ],
             [
              0.4444444444444444,
              "#bd3786"
             ],
             [
              0.5555555555555556,
              "#d8576b"
             ],
             [
              0.6666666666666666,
              "#ed7953"
             ],
             [
              0.7777777777777778,
              "#fb9f3a"
             ],
             [
              0.8888888888888888,
              "#fdca26"
             ],
             [
              1,
              "#f0f921"
             ]
            ],
            "type": "histogram2d"
           }
          ],
          "histogram2dcontour": [
           {
            "colorbar": {
             "outlinewidth": 0,
             "ticks": ""
            },
            "colorscale": [
             [
              0,
              "#0d0887"
             ],
             [
              0.1111111111111111,
              "#46039f"
             ],
             [
              0.2222222222222222,
              "#7201a8"
             ],
             [
              0.3333333333333333,
              "#9c179e"
             ],
             [
              0.4444444444444444,
              "#bd3786"
             ],
             [
              0.5555555555555556,
              "#d8576b"
             ],
             [
              0.6666666666666666,
              "#ed7953"
             ],
             [
              0.7777777777777778,
              "#fb9f3a"
             ],
             [
              0.8888888888888888,
              "#fdca26"
             ],
             [
              1,
              "#f0f921"
             ]
            ],
            "type": "histogram2dcontour"
           }
          ],
          "mesh3d": [
           {
            "colorbar": {
             "outlinewidth": 0,
             "ticks": ""
            },
            "type": "mesh3d"
           }
          ],
          "parcoords": [
           {
            "line": {
             "colorbar": {
              "outlinewidth": 0,
              "ticks": ""
             }
            },
            "type": "parcoords"
           }
          ],
          "pie": [
           {
            "automargin": true,
            "type": "pie"
           }
          ],
          "scatter": [
           {
            "marker": {
             "colorbar": {
              "outlinewidth": 0,
              "ticks": ""
             }
            },
            "type": "scatter"
           }
          ],
          "scatter3d": [
           {
            "line": {
             "colorbar": {
              "outlinewidth": 0,
              "ticks": ""
             }
            },
            "marker": {
             "colorbar": {
              "outlinewidth": 0,
              "ticks": ""
             }
            },
            "type": "scatter3d"
           }
          ],
          "scattercarpet": [
           {
            "marker": {
             "colorbar": {
              "outlinewidth": 0,
              "ticks": ""
             }
            },
            "type": "scattercarpet"
           }
          ],
          "scattergeo": [
           {
            "marker": {
             "colorbar": {
              "outlinewidth": 0,
              "ticks": ""
             }
            },
            "type": "scattergeo"
           }
          ],
          "scattergl": [
           {
            "marker": {
             "colorbar": {
              "outlinewidth": 0,
              "ticks": ""
             }
            },
            "type": "scattergl"
           }
          ],
          "scattermapbox": [
           {
            "marker": {
             "colorbar": {
              "outlinewidth": 0,
              "ticks": ""
             }
            },
            "type": "scattermapbox"
           }
          ],
          "scatterpolar": [
           {
            "marker": {
             "colorbar": {
              "outlinewidth": 0,
              "ticks": ""
             }
            },
            "type": "scatterpolar"
           }
          ],
          "scatterpolargl": [
           {
            "marker": {
             "colorbar": {
              "outlinewidth": 0,
              "ticks": ""
             }
            },
            "type": "scatterpolargl"
           }
          ],
          "scatterternary": [
           {
            "marker": {
             "colorbar": {
              "outlinewidth": 0,
              "ticks": ""
             }
            },
            "type": "scatterternary"
           }
          ],
          "surface": [
           {
            "colorbar": {
             "outlinewidth": 0,
             "ticks": ""
            },
            "colorscale": [
             [
              0,
              "#0d0887"
             ],
             [
              0.1111111111111111,
              "#46039f"
             ],
             [
              0.2222222222222222,
              "#7201a8"
             ],
             [
              0.3333333333333333,
              "#9c179e"
             ],
             [
              0.4444444444444444,
              "#bd3786"
             ],
             [
              0.5555555555555556,
              "#d8576b"
             ],
             [
              0.6666666666666666,
              "#ed7953"
             ],
             [
              0.7777777777777778,
              "#fb9f3a"
             ],
             [
              0.8888888888888888,
              "#fdca26"
             ],
             [
              1,
              "#f0f921"
             ]
            ],
            "type": "surface"
           }
          ],
          "table": [
           {
            "cells": {
             "fill": {
              "color": "#EBF0F8"
             },
             "line": {
              "color": "white"
             }
            },
            "header": {
             "fill": {
              "color": "#C8D4E3"
             },
             "line": {
              "color": "white"
             }
            },
            "type": "table"
           }
          ]
         },
         "layout": {
          "annotationdefaults": {
           "arrowcolor": "#2a3f5f",
           "arrowhead": 0,
           "arrowwidth": 1
          },
          "autotypenumbers": "strict",
          "coloraxis": {
           "colorbar": {
            "outlinewidth": 0,
            "ticks": ""
           }
          },
          "colorscale": {
           "diverging": [
            [
             0,
             "#8e0152"
            ],
            [
             0.1,
             "#c51b7d"
            ],
            [
             0.2,
             "#de77ae"
            ],
            [
             0.3,
             "#f1b6da"
            ],
            [
             0.4,
             "#fde0ef"
            ],
            [
             0.5,
             "#f7f7f7"
            ],
            [
             0.6,
             "#e6f5d0"
            ],
            [
             0.7,
             "#b8e186"
            ],
            [
             0.8,
             "#7fbc41"
            ],
            [
             0.9,
             "#4d9221"
            ],
            [
             1,
             "#276419"
            ]
           ],
           "sequential": [
            [
             0,
             "#0d0887"
            ],
            [
             0.1111111111111111,
             "#46039f"
            ],
            [
             0.2222222222222222,
             "#7201a8"
            ],
            [
             0.3333333333333333,
             "#9c179e"
            ],
            [
             0.4444444444444444,
             "#bd3786"
            ],
            [
             0.5555555555555556,
             "#d8576b"
            ],
            [
             0.6666666666666666,
             "#ed7953"
            ],
            [
             0.7777777777777778,
             "#fb9f3a"
            ],
            [
             0.8888888888888888,
             "#fdca26"
            ],
            [
             1,
             "#f0f921"
            ]
           ],
           "sequentialminus": [
            [
             0,
             "#0d0887"
            ],
            [
             0.1111111111111111,
             "#46039f"
            ],
            [
             0.2222222222222222,
             "#7201a8"
            ],
            [
             0.3333333333333333,
             "#9c179e"
            ],
            [
             0.4444444444444444,
             "#bd3786"
            ],
            [
             0.5555555555555556,
             "#d8576b"
            ],
            [
             0.6666666666666666,
             "#ed7953"
            ],
            [
             0.7777777777777778,
             "#fb9f3a"
            ],
            [
             0.8888888888888888,
             "#fdca26"
            ],
            [
             1,
             "#f0f921"
            ]
           ]
          },
          "colorway": [
           "#636efa",
           "#EF553B",
           "#00cc96",
           "#ab63fa",
           "#FFA15A",
           "#19d3f3",
           "#FF6692",
           "#B6E880",
           "#FF97FF",
           "#FECB52"
          ],
          "font": {
           "color": "#2a3f5f"
          },
          "geo": {
           "bgcolor": "white",
           "lakecolor": "white",
           "landcolor": "#E5ECF6",
           "showlakes": true,
           "showland": true,
           "subunitcolor": "white"
          },
          "hoverlabel": {
           "align": "left"
          },
          "hovermode": "closest",
          "mapbox": {
           "style": "light"
          },
          "paper_bgcolor": "white",
          "plot_bgcolor": "#E5ECF6",
          "polar": {
           "angularaxis": {
            "gridcolor": "white",
            "linecolor": "white",
            "ticks": ""
           },
           "bgcolor": "#E5ECF6",
           "radialaxis": {
            "gridcolor": "white",
            "linecolor": "white",
            "ticks": ""
           }
          },
          "scene": {
           "xaxis": {
            "backgroundcolor": "#E5ECF6",
            "gridcolor": "white",
            "gridwidth": 2,
            "linecolor": "white",
            "showbackground": true,
            "ticks": "",
            "zerolinecolor": "white"
           },
           "yaxis": {
            "backgroundcolor": "#E5ECF6",
            "gridcolor": "white",
            "gridwidth": 2,
            "linecolor": "white",
            "showbackground": true,
            "ticks": "",
            "zerolinecolor": "white"
           },
           "zaxis": {
            "backgroundcolor": "#E5ECF6",
            "gridcolor": "white",
            "gridwidth": 2,
            "linecolor": "white",
            "showbackground": true,
            "ticks": "",
            "zerolinecolor": "white"
           }
          },
          "shapedefaults": {
           "line": {
            "color": "#2a3f5f"
           }
          },
          "ternary": {
           "aaxis": {
            "gridcolor": "white",
            "linecolor": "white",
            "ticks": ""
           },
           "baxis": {
            "gridcolor": "white",
            "linecolor": "white",
            "ticks": ""
           },
           "bgcolor": "#E5ECF6",
           "caxis": {
            "gridcolor": "white",
            "linecolor": "white",
            "ticks": ""
           }
          },
          "title": {
           "x": 0.05
          },
          "xaxis": {
           "automargin": true,
           "gridcolor": "white",
           "linecolor": "white",
           "ticks": "",
           "title": {
            "standoff": 15
           },
           "zerolinecolor": "white",
           "zerolinewidth": 2
          },
          "yaxis": {
           "automargin": true,
           "gridcolor": "white",
           "linecolor": "white",
           "ticks": "",
           "title": {
            "standoff": 15
           },
           "zerolinecolor": "white",
           "zerolinewidth": 2
          }
         }
        },
        "title": {
         "text": "CPTS11"
        },
        "yaxis": {
         "title": {
          "text": "Price"
         }
        }
       }
      }
     },
     "metadata": {},
     "output_type": "display_data"
    },
    {
     "data": {
      "application/vnd.plotly.v1+json": {
       "config": {
        "plotlyServerURL": "https://plot.ly"
       },
       "data": [
        {
         "close": [
          100.9,
          100.82,
          100.5,
          99.75,
          99.37,
          99,
          99.45,
          99.62,
          99.36,
          99.77,
          99.79,
          99.1,
          98.82,
          98.9,
          98.89,
          99.1,
          99.1,
          99,
          98.8,
          98.16,
          98.41,
          98.41,
          99.63,
          99.35,
          99.35,
          99.18,
          99.21,
          99.05,
          99,
          98.88,
          99.2,
          99.3,
          98.85,
          99.05,
          98.97,
          98.85,
          98.87,
          98.5,
          98.79,
          98.59,
          98.5,
          97.4,
          97.01,
          97.02,
          97.15,
          98.92,
          98.5,
          98,
          98.12,
          98.25,
          98.1,
          97.86,
          96.69,
          97.35,
          97.61,
          99.05,
          98.96,
          98.88,
          98.52,
          98.6,
          98.29,
          99,
          97.9,
          97.5,
          97.28,
          96.63,
          97.65,
          97.09,
          96.9,
          97.3,
          98,
          97.5,
          97.86,
          97.76,
          97.08,
          96.5,
          95.98,
          94.9,
          94.24,
          93.64,
          93.4,
          93.69,
          93.67,
          93.41,
          93.69,
          93.05,
          93,
          95.24,
          94.98,
          95,
          95.02,
          95,
          95.03,
          95.31,
          95.23,
          95.24,
          95.19,
          94.85,
          95,
          95.17,
          95.1,
          95.37,
          95.55,
          96.03,
          95.64,
          95.37,
          95.37
         ],
         "high": [
          101.34,
          101.34,
          100.83,
          99.81,
          99.9,
          99.7,
          99.76,
          99.89,
          99.76,
          99.87,
          99.81,
          99.22,
          98.97,
          99,
          99.17,
          99.22,
          99.22,
          99.35,
          99.5,
          98.8,
          98.9,
          98.9,
          99.77,
          99.38,
          99.35,
          99.29,
          99.35,
          99.16,
          99.18,
          99.3,
          99.39,
          99.39,
          99.23,
          99.05,
          98.97,
          98.95,
          98.99,
          99,
          98.8,
          98.86,
          98.68,
          97.7,
          97.89,
          97.69,
          98.35,
          98.98,
          98.55,
          98.32,
          98.35,
          98.58,
          98.25,
          98,
          97.45,
          98.32,
          99.17,
          99.2,
          99.12,
          98.97,
          98.6,
          98.6,
          99,
          99.14,
          98.48,
          97.93,
          97.31,
          96.88,
          98,
          97.33,
          98.5,
          98.19,
          98.09,
          98.18,
          98.21,
          97.97,
          97.08,
          96.63,
          96.13,
          95,
          94.43,
          93.83,
          93.97,
          93.8,
          93.8,
          93.99,
          93.8,
          93.77,
          94.44,
          95.25,
          95.14,
          95.07,
          95.18,
          95.29,
          95.36,
          95.36,
          95.39,
          95.41,
          95.3,
          95.15,
          95.44,
          95.49,
          95.49,
          95.78,
          96.24,
          96.22,
          96,
          95.52,
          95.52
         ],
         "low": [
          100.9,
          100.62,
          99.66,
          99.33,
          99.1,
          98.9,
          99.14,
          99,
          99.3,
          99.4,
          99.09,
          98.74,
          98.58,
          98.8,
          98.84,
          98.74,
          98.74,
          98.5,
          98.16,
          97.9,
          98.19,
          98.19,
          99.43,
          99.08,
          99,
          99.08,
          98.95,
          98.8,
          98.62,
          98.35,
          98.99,
          98.9,
          98.78,
          98.61,
          98.7,
          98.59,
          98.51,
          98.2,
          98.2,
          98.06,
          97.4,
          97.13,
          96.85,
          96.98,
          96.75,
          98.5,
          98.05,
          97.55,
          97.65,
          98.13,
          97.6,
          96.25,
          96.35,
          97,
          97.51,
          98.75,
          98.76,
          98.31,
          98.01,
          97.91,
          98,
          98,
          97.45,
          97.1,
          96.1,
          95.31,
          96.8,
          96.66,
          96.62,
          97.15,
          97.5,
          97.5,
          97.31,
          97.08,
          96.3,
          95.79,
          94.8,
          94.26,
          93.57,
          93.5,
          93.4,
          93.41,
          92.9,
          93.4,
          92.75,
          91.1,
          92.34,
          94.95,
          94.91,
          94.89,
          94.84,
          94.9,
          94.9,
          94.95,
          95.05,
          95.1,
          94.72,
          94.38,
          94.9,
          95.04,
          95.01,
          95.08,
          95.55,
          95.34,
          94.99,
          94.9,
          94.9
         ],
         "open": [
          101,
          100.62,
          99.84,
          99.5,
          99.15,
          99.46,
          99.69,
          99.49,
          99.72,
          99.79,
          99.1,
          98.85,
          98.97,
          98.97,
          99.16,
          99,
          99,
          99.1,
          98.39,
          98.5,
          98.43,
          98.43,
          99.5,
          99.35,
          99.29,
          99.29,
          99.03,
          99,
          98.88,
          99.3,
          99.34,
          99.22,
          99.23,
          98.97,
          98.85,
          98.83,
          98.7,
          98.67,
          98.59,
          98.41,
          97.4,
          97.13,
          97.32,
          97.2,
          98,
          98.5,
          98.19,
          98.23,
          98.25,
          98.14,
          97.83,
          96.68,
          97.34,
          97.86,
          99.09,
          99,
          98.99,
          98.45,
          98.6,
          98.42,
          98.42,
          98,
          97.5,
          97.28,
          96.64,
          96.88,
          97.45,
          97,
          97.79,
          98,
          97.68,
          98.07,
          97.76,
          97.27,
          96.5,
          95.98,
          94.93,
          94.3,
          93.57,
          93.56,
          93.77,
          93.6,
          93.5,
          93.69,
          93.1,
          93,
          94.2,
          95.02,
          95.02,
          95.06,
          95,
          95.04,
          95.31,
          95.23,
          95.31,
          95.19,
          94.85,
          95,
          95.19,
          95.28,
          95.37,
          95.6,
          96.06,
          95.64,
          95.35,
          95.1,
          95.1
         ],
         "type": "candlestick",
         "x": [
          "2023-09-29",
          "2023-09-28",
          "2023-09-27",
          "2023-09-26",
          "2023-09-25",
          "2023-09-22",
          "2023-09-21",
          "2023-09-20",
          "2023-09-19",
          "2023-09-18",
          "2023-09-15",
          "2023-09-14",
          "2023-09-13",
          "2023-09-12",
          "2023-09-11",
          "2023-09-09",
          "2023-09-08",
          "2023-09-06",
          "2023-09-05",
          "2023-09-04",
          "2023-09-02",
          "2023-09-01",
          "2023-08-31",
          "2023-08-30",
          "2023-08-29",
          "2023-08-28",
          "2023-08-25",
          "2023-08-24",
          "2023-08-23",
          "2023-08-22",
          "2023-08-21",
          "2023-08-18",
          "2023-08-17",
          "2023-08-16",
          "2023-08-15",
          "2023-08-14",
          "2023-08-11",
          "2023-08-10",
          "2023-08-09",
          "2023-08-08",
          "2023-08-07",
          "2023-08-04",
          "2023-08-03",
          "2023-08-02",
          "2023-08-01",
          "2023-07-31",
          "2023-07-28",
          "2023-07-27",
          "2023-07-26",
          "2023-07-25",
          "2023-07-24",
          "2023-07-21",
          "2023-07-20",
          "2023-07-19",
          "2023-07-18",
          "2023-07-17",
          "2023-07-14",
          "2023-07-13",
          "2023-07-12",
          "2023-07-11",
          "2023-07-10",
          "2023-07-07",
          "2023-07-06",
          "2023-07-05",
          "2023-07-04",
          "2023-07-03",
          "2023-06-30",
          "2023-06-29",
          "2023-06-28",
          "2023-06-27",
          "2023-06-26",
          "2023-06-23",
          "2023-06-22",
          "2023-06-21",
          "2023-06-20",
          "2023-06-19",
          "2023-06-16",
          "2023-06-15",
          "2023-06-14",
          "2023-06-13",
          "2023-06-12",
          "2023-06-09",
          "2023-06-07",
          "2023-06-06",
          "2023-06-05",
          "2023-06-02",
          "2023-06-01",
          "2023-05-31",
          "2023-05-30",
          "2023-05-29",
          "2023-05-26",
          "2023-05-25",
          "2023-05-24",
          "2023-05-23",
          "2023-05-22",
          "2023-05-19",
          "2023-05-18",
          "2023-05-17",
          "2023-05-16",
          "2023-05-15",
          "2023-05-12",
          "2023-05-11",
          "2023-05-10",
          "2023-05-09",
          "2023-05-08",
          "2023-05-06",
          "2023-05-05"
         ]
        }
       ],
       "layout": {
        "template": {
         "data": {
          "bar": [
           {
            "error_x": {
             "color": "#2a3f5f"
            },
            "error_y": {
             "color": "#2a3f5f"
            },
            "marker": {
             "line": {
              "color": "#E5ECF6",
              "width": 0.5
             },
             "pattern": {
              "fillmode": "overlay",
              "size": 10,
              "solidity": 0.2
             }
            },
            "type": "bar"
           }
          ],
          "barpolar": [
           {
            "marker": {
             "line": {
              "color": "#E5ECF6",
              "width": 0.5
             },
             "pattern": {
              "fillmode": "overlay",
              "size": 10,
              "solidity": 0.2
             }
            },
            "type": "barpolar"
           }
          ],
          "carpet": [
           {
            "aaxis": {
             "endlinecolor": "#2a3f5f",
             "gridcolor": "white",
             "linecolor": "white",
             "minorgridcolor": "white",
             "startlinecolor": "#2a3f5f"
            },
            "baxis": {
             "endlinecolor": "#2a3f5f",
             "gridcolor": "white",
             "linecolor": "white",
             "minorgridcolor": "white",
             "startlinecolor": "#2a3f5f"
            },
            "type": "carpet"
           }
          ],
          "choropleth": [
           {
            "colorbar": {
             "outlinewidth": 0,
             "ticks": ""
            },
            "type": "choropleth"
           }
          ],
          "contour": [
           {
            "colorbar": {
             "outlinewidth": 0,
             "ticks": ""
            },
            "colorscale": [
             [
              0,
              "#0d0887"
             ],
             [
              0.1111111111111111,
              "#46039f"
             ],
             [
              0.2222222222222222,
              "#7201a8"
             ],
             [
              0.3333333333333333,
              "#9c179e"
             ],
             [
              0.4444444444444444,
              "#bd3786"
             ],
             [
              0.5555555555555556,
              "#d8576b"
             ],
             [
              0.6666666666666666,
              "#ed7953"
             ],
             [
              0.7777777777777778,
              "#fb9f3a"
             ],
             [
              0.8888888888888888,
              "#fdca26"
             ],
             [
              1,
              "#f0f921"
             ]
            ],
            "type": "contour"
           }
          ],
          "contourcarpet": [
           {
            "colorbar": {
             "outlinewidth": 0,
             "ticks": ""
            },
            "type": "contourcarpet"
           }
          ],
          "heatmap": [
           {
            "colorbar": {
             "outlinewidth": 0,
             "ticks": ""
            },
            "colorscale": [
             [
              0,
              "#0d0887"
             ],
             [
              0.1111111111111111,
              "#46039f"
             ],
             [
              0.2222222222222222,
              "#7201a8"
             ],
             [
              0.3333333333333333,
              "#9c179e"
             ],
             [
              0.4444444444444444,
              "#bd3786"
             ],
             [
              0.5555555555555556,
              "#d8576b"
             ],
             [
              0.6666666666666666,
              "#ed7953"
             ],
             [
              0.7777777777777778,
              "#fb9f3a"
             ],
             [
              0.8888888888888888,
              "#fdca26"
             ],
             [
              1,
              "#f0f921"
             ]
            ],
            "type": "heatmap"
           }
          ],
          "heatmapgl": [
           {
            "colorbar": {
             "outlinewidth": 0,
             "ticks": ""
            },
            "colorscale": [
             [
              0,
              "#0d0887"
             ],
             [
              0.1111111111111111,
              "#46039f"
             ],
             [
              0.2222222222222222,
              "#7201a8"
             ],
             [
              0.3333333333333333,
              "#9c179e"
             ],
             [
              0.4444444444444444,
              "#bd3786"
             ],
             [
              0.5555555555555556,
              "#d8576b"
             ],
             [
              0.6666666666666666,
              "#ed7953"
             ],
             [
              0.7777777777777778,
              "#fb9f3a"
             ],
             [
              0.8888888888888888,
              "#fdca26"
             ],
             [
              1,
              "#f0f921"
             ]
            ],
            "type": "heatmapgl"
           }
          ],
          "histogram": [
           {
            "marker": {
             "pattern": {
              "fillmode": "overlay",
              "size": 10,
              "solidity": 0.2
             }
            },
            "type": "histogram"
           }
          ],
          "histogram2d": [
           {
            "colorbar": {
             "outlinewidth": 0,
             "ticks": ""
            },
            "colorscale": [
             [
              0,
              "#0d0887"
             ],
             [
              0.1111111111111111,
              "#46039f"
             ],
             [
              0.2222222222222222,
              "#7201a8"
             ],
             [
              0.3333333333333333,
              "#9c179e"
             ],
             [
              0.4444444444444444,
              "#bd3786"
             ],
             [
              0.5555555555555556,
              "#d8576b"
             ],
             [
              0.6666666666666666,
              "#ed7953"
             ],
             [
              0.7777777777777778,
              "#fb9f3a"
             ],
             [
              0.8888888888888888,
              "#fdca26"
             ],
             [
              1,
              "#f0f921"
             ]
            ],
            "type": "histogram2d"
           }
          ],
          "histogram2dcontour": [
           {
            "colorbar": {
             "outlinewidth": 0,
             "ticks": ""
            },
            "colorscale": [
             [
              0,
              "#0d0887"
             ],
             [
              0.1111111111111111,
              "#46039f"
             ],
             [
              0.2222222222222222,
              "#7201a8"
             ],
             [
              0.3333333333333333,
              "#9c179e"
             ],
             [
              0.4444444444444444,
              "#bd3786"
             ],
             [
              0.5555555555555556,
              "#d8576b"
             ],
             [
              0.6666666666666666,
              "#ed7953"
             ],
             [
              0.7777777777777778,
              "#fb9f3a"
             ],
             [
              0.8888888888888888,
              "#fdca26"
             ],
             [
              1,
              "#f0f921"
             ]
            ],
            "type": "histogram2dcontour"
           }
          ],
          "mesh3d": [
           {
            "colorbar": {
             "outlinewidth": 0,
             "ticks": ""
            },
            "type": "mesh3d"
           }
          ],
          "parcoords": [
           {
            "line": {
             "colorbar": {
              "outlinewidth": 0,
              "ticks": ""
             }
            },
            "type": "parcoords"
           }
          ],
          "pie": [
           {
            "automargin": true,
            "type": "pie"
           }
          ],
          "scatter": [
           {
            "marker": {
             "colorbar": {
              "outlinewidth": 0,
              "ticks": ""
             }
            },
            "type": "scatter"
           }
          ],
          "scatter3d": [
           {
            "line": {
             "colorbar": {
              "outlinewidth": 0,
              "ticks": ""
             }
            },
            "marker": {
             "colorbar": {
              "outlinewidth": 0,
              "ticks": ""
             }
            },
            "type": "scatter3d"
           }
          ],
          "scattercarpet": [
           {
            "marker": {
             "colorbar": {
              "outlinewidth": 0,
              "ticks": ""
             }
            },
            "type": "scattercarpet"
           }
          ],
          "scattergeo": [
           {
            "marker": {
             "colorbar": {
              "outlinewidth": 0,
              "ticks": ""
             }
            },
            "type": "scattergeo"
           }
          ],
          "scattergl": [
           {
            "marker": {
             "colorbar": {
              "outlinewidth": 0,
              "ticks": ""
             }
            },
            "type": "scattergl"
           }
          ],
          "scattermapbox": [
           {
            "marker": {
             "colorbar": {
              "outlinewidth": 0,
              "ticks": ""
             }
            },
            "type": "scattermapbox"
           }
          ],
          "scatterpolar": [
           {
            "marker": {
             "colorbar": {
              "outlinewidth": 0,
              "ticks": ""
             }
            },
            "type": "scatterpolar"
           }
          ],
          "scatterpolargl": [
           {
            "marker": {
             "colorbar": {
              "outlinewidth": 0,
              "ticks": ""
             }
            },
            "type": "scatterpolargl"
           }
          ],
          "scatterternary": [
           {
            "marker": {
             "colorbar": {
              "outlinewidth": 0,
              "ticks": ""
             }
            },
            "type": "scatterternary"
           }
          ],
          "surface": [
           {
            "colorbar": {
             "outlinewidth": 0,
             "ticks": ""
            },
            "colorscale": [
             [
              0,
              "#0d0887"
             ],
             [
              0.1111111111111111,
              "#46039f"
             ],
             [
              0.2222222222222222,
              "#7201a8"
             ],
             [
              0.3333333333333333,
              "#9c179e"
             ],
             [
              0.4444444444444444,
              "#bd3786"
             ],
             [
              0.5555555555555556,
              "#d8576b"
             ],
             [
              0.6666666666666666,
              "#ed7953"
             ],
             [
              0.7777777777777778,
              "#fb9f3a"
             ],
             [
              0.8888888888888888,
              "#fdca26"
             ],
             [
              1,
              "#f0f921"
             ]
            ],
            "type": "surface"
           }
          ],
          "table": [
           {
            "cells": {
             "fill": {
              "color": "#EBF0F8"
             },
             "line": {
              "color": "white"
             }
            },
            "header": {
             "fill": {
              "color": "#C8D4E3"
             },
             "line": {
              "color": "white"
             }
            },
            "type": "table"
           }
          ]
         },
         "layout": {
          "annotationdefaults": {
           "arrowcolor": "#2a3f5f",
           "arrowhead": 0,
           "arrowwidth": 1
          },
          "autotypenumbers": "strict",
          "coloraxis": {
           "colorbar": {
            "outlinewidth": 0,
            "ticks": ""
           }
          },
          "colorscale": {
           "diverging": [
            [
             0,
             "#8e0152"
            ],
            [
             0.1,
             "#c51b7d"
            ],
            [
             0.2,
             "#de77ae"
            ],
            [
             0.3,
             "#f1b6da"
            ],
            [
             0.4,
             "#fde0ef"
            ],
            [
             0.5,
             "#f7f7f7"
            ],
            [
             0.6,
             "#e6f5d0"
            ],
            [
             0.7,
             "#b8e186"
            ],
            [
             0.8,
             "#7fbc41"
            ],
            [
             0.9,
             "#4d9221"
            ],
            [
             1,
             "#276419"
            ]
           ],
           "sequential": [
            [
             0,
             "#0d0887"
            ],
            [
             0.1111111111111111,
             "#46039f"
            ],
            [
             0.2222222222222222,
             "#7201a8"
            ],
            [
             0.3333333333333333,
             "#9c179e"
            ],
            [
             0.4444444444444444,
             "#bd3786"
            ],
            [
             0.5555555555555556,
             "#d8576b"
            ],
            [
             0.6666666666666666,
             "#ed7953"
            ],
            [
             0.7777777777777778,
             "#fb9f3a"
            ],
            [
             0.8888888888888888,
             "#fdca26"
            ],
            [
             1,
             "#f0f921"
            ]
           ],
           "sequentialminus": [
            [
             0,
             "#0d0887"
            ],
            [
             0.1111111111111111,
             "#46039f"
            ],
            [
             0.2222222222222222,
             "#7201a8"
            ],
            [
             0.3333333333333333,
             "#9c179e"
            ],
            [
             0.4444444444444444,
             "#bd3786"
            ],
            [
             0.5555555555555556,
             "#d8576b"
            ],
            [
             0.6666666666666666,
             "#ed7953"
            ],
            [
             0.7777777777777778,
             "#fb9f3a"
            ],
            [
             0.8888888888888888,
             "#fdca26"
            ],
            [
             1,
             "#f0f921"
            ]
           ]
          },
          "colorway": [
           "#636efa",
           "#EF553B",
           "#00cc96",
           "#ab63fa",
           "#FFA15A",
           "#19d3f3",
           "#FF6692",
           "#B6E880",
           "#FF97FF",
           "#FECB52"
          ],
          "font": {
           "color": "#2a3f5f"
          },
          "geo": {
           "bgcolor": "white",
           "lakecolor": "white",
           "landcolor": "#E5ECF6",
           "showlakes": true,
           "showland": true,
           "subunitcolor": "white"
          },
          "hoverlabel": {
           "align": "left"
          },
          "hovermode": "closest",
          "mapbox": {
           "style": "light"
          },
          "paper_bgcolor": "white",
          "plot_bgcolor": "#E5ECF6",
          "polar": {
           "angularaxis": {
            "gridcolor": "white",
            "linecolor": "white",
            "ticks": ""
           },
           "bgcolor": "#E5ECF6",
           "radialaxis": {
            "gridcolor": "white",
            "linecolor": "white",
            "ticks": ""
           }
          },
          "scene": {
           "xaxis": {
            "backgroundcolor": "#E5ECF6",
            "gridcolor": "white",
            "gridwidth": 2,
            "linecolor": "white",
            "showbackground": true,
            "ticks": "",
            "zerolinecolor": "white"
           },
           "yaxis": {
            "backgroundcolor": "#E5ECF6",
            "gridcolor": "white",
            "gridwidth": 2,
            "linecolor": "white",
            "showbackground": true,
            "ticks": "",
            "zerolinecolor": "white"
           },
           "zaxis": {
            "backgroundcolor": "#E5ECF6",
            "gridcolor": "white",
            "gridwidth": 2,
            "linecolor": "white",
            "showbackground": true,
            "ticks": "",
            "zerolinecolor": "white"
           }
          },
          "shapedefaults": {
           "line": {
            "color": "#2a3f5f"
           }
          },
          "ternary": {
           "aaxis": {
            "gridcolor": "white",
            "linecolor": "white",
            "ticks": ""
           },
           "baxis": {
            "gridcolor": "white",
            "linecolor": "white",
            "ticks": ""
           },
           "bgcolor": "#E5ECF6",
           "caxis": {
            "gridcolor": "white",
            "linecolor": "white",
            "ticks": ""
           }
          },
          "title": {
           "x": 0.05
          },
          "xaxis": {
           "automargin": true,
           "gridcolor": "white",
           "linecolor": "white",
           "ticks": "",
           "title": {
            "standoff": 15
           },
           "zerolinecolor": "white",
           "zerolinewidth": 2
          },
          "yaxis": {
           "automargin": true,
           "gridcolor": "white",
           "linecolor": "white",
           "ticks": "",
           "title": {
            "standoff": 15
           },
           "zerolinecolor": "white",
           "zerolinewidth": 2
          }
         }
        },
        "title": {
         "text": "KNCR11"
        },
        "yaxis": {
         "title": {
          "text": "Price"
         }
        }
       }
      }
     },
     "metadata": {},
     "output_type": "display_data"
    },
    {
     "data": {
      "application/vnd.plotly.v1+json": {
       "config": {
        "plotlyServerURL": "https://plot.ly"
       },
       "data": [
        {
         "close": [
          99.39999999999999,
          98.9,
          97.69999999999999,
          96.8,
          97.19,
          98.07000000000001,
          97.19,
          97,
          96.79,
          97,
          96.51,
          96.4,
          97.4,
          97.01,
          97.2,
          96.99,
          96.99,
          96.51,
          96.45,
          96.36,
          96.38,
          96.38,
          96.13,
          96.7,
          96.5,
          96.73,
          96.74,
          96.69,
          96.88,
          96.69,
          96.97,
          96.23,
          96.28,
          96.24,
          96.61,
          96.84,
          96.99,
          97.99,
          97.8,
          98.01,
          97.89,
          97.94,
          97.79,
          96.69,
          96.45,
          96.52,
          96.47,
          96.25,
          96.02,
          96.1,
          95.9,
          95.75,
          95.74,
          95.93,
          96.07,
          95.95,
          95.87,
          96.04,
          97.19,
          97.15,
          97.15,
          97.24,
          97.25,
          97.13,
          97.13,
          97.31,
          97.2,
          97.12
         ],
         "high": [
          99.5,
          99.2,
          98.3,
          98.5,
          98.5,
          98.48,
          97.84,
          98,
          97.21,
          97.2,
          97.99,
          96.74,
          97.48,
          97.27,
          97.2,
          97,
          96.99,
          96.99,
          96.59,
          96.75,
          96.75,
          96.75,
          96.89,
          96.99,
          97,
          96.79,
          97,
          97.05,
          97.05,
          97.04,
          96.97,
          96.51,
          96.56,
          96.89,
          97,
          97.07,
          96.99,
          98.13,
          98.15,
          98.03,
          98.15,
          98,
          97.98,
          96.7,
          96.7,
          96.84,
          96.47,
          96.47,
          96.29,
          96.2,
          96.18,
          95.87,
          96.28,
          96.37,
          96.33,
          96.4,
          96.12,
          96.28,
          97.5,
          97.59,
          97.85,
          97.45,
          97.53,
          97.55,
          97.93,
          98.08,
          97.46,
          97.7
         ],
         "low": [
          98.2,
          97.4,
          96.8,
          96.30000000000001,
          97.15,
          97.01,
          96.82000000000001,
          96.77,
          96.68,
          96.55,
          96.41,
          96.05,
          97,
          96.71,
          96.2,
          96.57,
          96.57,
          96.24,
          96.11,
          96,
          96.1,
          96.1,
          96.1,
          96.5,
          96.35,
          96,
          96.44,
          96.5,
          96.5,
          96.5,
          96.23,
          96.1,
          96.23,
          96.12,
          96.52,
          96.2,
          96.13,
          97.79,
          97.66,
          97.5,
          97.21,
          97.35,
          96.43,
          96.39,
          96.15,
          96.3,
          96.17,
          96.06,
          95.91,
          95.75,
          95.7,
          95.4,
          95.55,
          95.61,
          95.87,
          95.88,
          95.85,
          95.85,
          97,
          97.15,
          97.05,
          97,
          96.99,
          97.01,
          97,
          97.2,
          96.9,
          96.81
         ],
         "open": [
          98.9,
          97.8,
          97.4,
          97,
          98.24,
          97.33000000000001,
          97.84,
          96.92,
          96.81,
          97.01,
          96.41,
          96.4,
          97.01,
          97.15,
          97,
          96.85,
          96.85,
          96.58,
          96.11,
          96.5,
          96.6,
          96.6,
          96.82,
          96.7,
          96.73,
          96.79,
          96.85,
          96.97,
          96.69,
          96.93,
          96.37,
          96.24,
          96.43,
          96.47,
          96.84,
          97.07,
          96.5,
          97.8,
          97.72,
          98.01,
          97.99,
          97.86,
          96.68,
          96.4,
          96.52,
          96.4,
          96.29,
          96.06,
          96.1,
          95.96,
          95.7,
          95.53,
          95.83,
          96.07,
          96,
          96.05,
          96,
          96.22,
          97.48,
          97.57,
          97.3,
          97.25,
          97.13,
          97.13,
          97.39,
          97.45,
          97.12,
          97.38
         ],
         "type": "candlestick",
         "x": [
          "2023-09-29",
          "2023-09-28",
          "2023-09-27",
          "2023-09-26",
          "2023-09-25",
          "2023-09-22",
          "2023-09-21",
          "2023-09-20",
          "2023-09-19",
          "2023-09-18",
          "2023-09-15",
          "2023-09-14",
          "2023-09-13",
          "2023-09-12",
          "2023-09-11",
          "2023-09-09",
          "2023-09-08",
          "2023-09-06",
          "2023-09-05",
          "2023-09-04",
          "2023-09-02",
          "2023-09-01",
          "2023-08-31",
          "2023-08-30",
          "2023-08-29",
          "2023-08-28",
          "2023-08-25",
          "2023-08-24",
          "2023-08-23",
          "2023-08-22",
          "2023-08-21",
          "2023-08-18",
          "2023-08-17",
          "2023-08-16",
          "2023-08-15",
          "2023-08-14",
          "2023-08-11",
          "2023-08-10",
          "2023-08-09",
          "2023-08-08",
          "2023-08-07",
          "2023-08-04",
          "2023-08-03",
          "2023-08-02",
          "2023-08-01",
          "2023-07-31",
          "2023-07-28",
          "2023-07-27",
          "2023-07-26",
          "2023-07-25",
          "2023-07-24",
          "2023-07-21",
          "2023-07-20",
          "2023-07-19",
          "2023-07-18",
          "2023-07-17",
          "2023-07-14",
          "2023-07-13",
          "2023-07-12",
          "2023-07-11",
          "2023-07-10",
          "2023-07-07",
          "2023-07-06",
          "2023-07-05",
          "2023-07-04",
          "2023-07-03",
          "2023-06-30",
          "2023-06-29"
         ]
        }
       ],
       "layout": {
        "template": {
         "data": {
          "bar": [
           {
            "error_x": {
             "color": "#2a3f5f"
            },
            "error_y": {
             "color": "#2a3f5f"
            },
            "marker": {
             "line": {
              "color": "#E5ECF6",
              "width": 0.5
             },
             "pattern": {
              "fillmode": "overlay",
              "size": 10,
              "solidity": 0.2
             }
            },
            "type": "bar"
           }
          ],
          "barpolar": [
           {
            "marker": {
             "line": {
              "color": "#E5ECF6",
              "width": 0.5
             },
             "pattern": {
              "fillmode": "overlay",
              "size": 10,
              "solidity": 0.2
             }
            },
            "type": "barpolar"
           }
          ],
          "carpet": [
           {
            "aaxis": {
             "endlinecolor": "#2a3f5f",
             "gridcolor": "white",
             "linecolor": "white",
             "minorgridcolor": "white",
             "startlinecolor": "#2a3f5f"
            },
            "baxis": {
             "endlinecolor": "#2a3f5f",
             "gridcolor": "white",
             "linecolor": "white",
             "minorgridcolor": "white",
             "startlinecolor": "#2a3f5f"
            },
            "type": "carpet"
           }
          ],
          "choropleth": [
           {
            "colorbar": {
             "outlinewidth": 0,
             "ticks": ""
            },
            "type": "choropleth"
           }
          ],
          "contour": [
           {
            "colorbar": {
             "outlinewidth": 0,
             "ticks": ""
            },
            "colorscale": [
             [
              0,
              "#0d0887"
             ],
             [
              0.1111111111111111,
              "#46039f"
             ],
             [
              0.2222222222222222,
              "#7201a8"
             ],
             [
              0.3333333333333333,
              "#9c179e"
             ],
             [
              0.4444444444444444,
              "#bd3786"
             ],
             [
              0.5555555555555556,
              "#d8576b"
             ],
             [
              0.6666666666666666,
              "#ed7953"
             ],
             [
              0.7777777777777778,
              "#fb9f3a"
             ],
             [
              0.8888888888888888,
              "#fdca26"
             ],
             [
              1,
              "#f0f921"
             ]
            ],
            "type": "contour"
           }
          ],
          "contourcarpet": [
           {
            "colorbar": {
             "outlinewidth": 0,
             "ticks": ""
            },
            "type": "contourcarpet"
           }
          ],
          "heatmap": [
           {
            "colorbar": {
             "outlinewidth": 0,
             "ticks": ""
            },
            "colorscale": [
             [
              0,
              "#0d0887"
             ],
             [
              0.1111111111111111,
              "#46039f"
             ],
             [
              0.2222222222222222,
              "#7201a8"
             ],
             [
              0.3333333333333333,
              "#9c179e"
             ],
             [
              0.4444444444444444,
              "#bd3786"
             ],
             [
              0.5555555555555556,
              "#d8576b"
             ],
             [
              0.6666666666666666,
              "#ed7953"
             ],
             [
              0.7777777777777778,
              "#fb9f3a"
             ],
             [
              0.8888888888888888,
              "#fdca26"
             ],
             [
              1,
              "#f0f921"
             ]
            ],
            "type": "heatmap"
           }
          ],
          "heatmapgl": [
           {
            "colorbar": {
             "outlinewidth": 0,
             "ticks": ""
            },
            "colorscale": [
             [
              0,
              "#0d0887"
             ],
             [
              0.1111111111111111,
              "#46039f"
             ],
             [
              0.2222222222222222,
              "#7201a8"
             ],
             [
              0.3333333333333333,
              "#9c179e"
             ],
             [
              0.4444444444444444,
              "#bd3786"
             ],
             [
              0.5555555555555556,
              "#d8576b"
             ],
             [
              0.6666666666666666,
              "#ed7953"
             ],
             [
              0.7777777777777778,
              "#fb9f3a"
             ],
             [
              0.8888888888888888,
              "#fdca26"
             ],
             [
              1,
              "#f0f921"
             ]
            ],
            "type": "heatmapgl"
           }
          ],
          "histogram": [
           {
            "marker": {
             "pattern": {
              "fillmode": "overlay",
              "size": 10,
              "solidity": 0.2
             }
            },
            "type": "histogram"
           }
          ],
          "histogram2d": [
           {
            "colorbar": {
             "outlinewidth": 0,
             "ticks": ""
            },
            "colorscale": [
             [
              0,
              "#0d0887"
             ],
             [
              0.1111111111111111,
              "#46039f"
             ],
             [
              0.2222222222222222,
              "#7201a8"
             ],
             [
              0.3333333333333333,
              "#9c179e"
             ],
             [
              0.4444444444444444,
              "#bd3786"
             ],
             [
              0.5555555555555556,
              "#d8576b"
             ],
             [
              0.6666666666666666,
              "#ed7953"
             ],
             [
              0.7777777777777778,
              "#fb9f3a"
             ],
             [
              0.8888888888888888,
              "#fdca26"
             ],
             [
              1,
              "#f0f921"
             ]
            ],
            "type": "histogram2d"
           }
          ],
          "histogram2dcontour": [
           {
            "colorbar": {
             "outlinewidth": 0,
             "ticks": ""
            },
            "colorscale": [
             [
              0,
              "#0d0887"
             ],
             [
              0.1111111111111111,
              "#46039f"
             ],
             [
              0.2222222222222222,
              "#7201a8"
             ],
             [
              0.3333333333333333,
              "#9c179e"
             ],
             [
              0.4444444444444444,
              "#bd3786"
             ],
             [
              0.5555555555555556,
              "#d8576b"
             ],
             [
              0.6666666666666666,
              "#ed7953"
             ],
             [
              0.7777777777777778,
              "#fb9f3a"
             ],
             [
              0.8888888888888888,
              "#fdca26"
             ],
             [
              1,
              "#f0f921"
             ]
            ],
            "type": "histogram2dcontour"
           }
          ],
          "mesh3d": [
           {
            "colorbar": {
             "outlinewidth": 0,
             "ticks": ""
            },
            "type": "mesh3d"
           }
          ],
          "parcoords": [
           {
            "line": {
             "colorbar": {
              "outlinewidth": 0,
              "ticks": ""
             }
            },
            "type": "parcoords"
           }
          ],
          "pie": [
           {
            "automargin": true,
            "type": "pie"
           }
          ],
          "scatter": [
           {
            "marker": {
             "colorbar": {
              "outlinewidth": 0,
              "ticks": ""
             }
            },
            "type": "scatter"
           }
          ],
          "scatter3d": [
           {
            "line": {
             "colorbar": {
              "outlinewidth": 0,
              "ticks": ""
             }
            },
            "marker": {
             "colorbar": {
              "outlinewidth": 0,
              "ticks": ""
             }
            },
            "type": "scatter3d"
           }
          ],
          "scattercarpet": [
           {
            "marker": {
             "colorbar": {
              "outlinewidth": 0,
              "ticks": ""
             }
            },
            "type": "scattercarpet"
           }
          ],
          "scattergeo": [
           {
            "marker": {
             "colorbar": {
              "outlinewidth": 0,
              "ticks": ""
             }
            },
            "type": "scattergeo"
           }
          ],
          "scattergl": [
           {
            "marker": {
             "colorbar": {
              "outlinewidth": 0,
              "ticks": ""
             }
            },
            "type": "scattergl"
           }
          ],
          "scattermapbox": [
           {
            "marker": {
             "colorbar": {
              "outlinewidth": 0,
              "ticks": ""
             }
            },
            "type": "scattermapbox"
           }
          ],
          "scatterpolar": [
           {
            "marker": {
             "colorbar": {
              "outlinewidth": 0,
              "ticks": ""
             }
            },
            "type": "scatterpolar"
           }
          ],
          "scatterpolargl": [
           {
            "marker": {
             "colorbar": {
              "outlinewidth": 0,
              "ticks": ""
             }
            },
            "type": "scatterpolargl"
           }
          ],
          "scatterternary": [
           {
            "marker": {
             "colorbar": {
              "outlinewidth": 0,
              "ticks": ""
             }
            },
            "type": "scatterternary"
           }
          ],
          "surface": [
           {
            "colorbar": {
             "outlinewidth": 0,
             "ticks": ""
            },
            "colorscale": [
             [
              0,
              "#0d0887"
             ],
             [
              0.1111111111111111,
              "#46039f"
             ],
             [
              0.2222222222222222,
              "#7201a8"
             ],
             [
              0.3333333333333333,
              "#9c179e"
             ],
             [
              0.4444444444444444,
              "#bd3786"
             ],
             [
              0.5555555555555556,
              "#d8576b"
             ],
             [
              0.6666666666666666,
              "#ed7953"
             ],
             [
              0.7777777777777778,
              "#fb9f3a"
             ],
             [
              0.8888888888888888,
              "#fdca26"
             ],
             [
              1,
              "#f0f921"
             ]
            ],
            "type": "surface"
           }
          ],
          "table": [
           {
            "cells": {
             "fill": {
              "color": "#EBF0F8"
             },
             "line": {
              "color": "white"
             }
            },
            "header": {
             "fill": {
              "color": "#C8D4E3"
             },
             "line": {
              "color": "white"
             }
            },
            "type": "table"
           }
          ]
         },
         "layout": {
          "annotationdefaults": {
           "arrowcolor": "#2a3f5f",
           "arrowhead": 0,
           "arrowwidth": 1
          },
          "autotypenumbers": "strict",
          "coloraxis": {
           "colorbar": {
            "outlinewidth": 0,
            "ticks": ""
           }
          },
          "colorscale": {
           "diverging": [
            [
             0,
             "#8e0152"
            ],
            [
             0.1,
             "#c51b7d"
            ],
            [
             0.2,
             "#de77ae"
            ],
            [
             0.3,
             "#f1b6da"
            ],
            [
             0.4,
             "#fde0ef"
            ],
            [
             0.5,
             "#f7f7f7"
            ],
            [
             0.6,
             "#e6f5d0"
            ],
            [
             0.7,
             "#b8e186"
            ],
            [
             0.8,
             "#7fbc41"
            ],
            [
             0.9,
             "#4d9221"
            ],
            [
             1,
             "#276419"
            ]
           ],
           "sequential": [
            [
             0,
             "#0d0887"
            ],
            [
             0.1111111111111111,
             "#46039f"
            ],
            [
             0.2222222222222222,
             "#7201a8"
            ],
            [
             0.3333333333333333,
             "#9c179e"
            ],
            [
             0.4444444444444444,
             "#bd3786"
            ],
            [
             0.5555555555555556,
             "#d8576b"
            ],
            [
             0.6666666666666666,
             "#ed7953"
            ],
            [
             0.7777777777777778,
             "#fb9f3a"
            ],
            [
             0.8888888888888888,
             "#fdca26"
            ],
            [
             1,
             "#f0f921"
            ]
           ],
           "sequentialminus": [
            [
             0,
             "#0d0887"
            ],
            [
             0.1111111111111111,
             "#46039f"
            ],
            [
             0.2222222222222222,
             "#7201a8"
            ],
            [
             0.3333333333333333,
             "#9c179e"
            ],
            [
             0.4444444444444444,
             "#bd3786"
            ],
            [
             0.5555555555555556,
             "#d8576b"
            ],
            [
             0.6666666666666666,
             "#ed7953"
            ],
            [
             0.7777777777777778,
             "#fb9f3a"
            ],
            [
             0.8888888888888888,
             "#fdca26"
            ],
            [
             1,
             "#f0f921"
            ]
           ]
          },
          "colorway": [
           "#636efa",
           "#EF553B",
           "#00cc96",
           "#ab63fa",
           "#FFA15A",
           "#19d3f3",
           "#FF6692",
           "#B6E880",
           "#FF97FF",
           "#FECB52"
          ],
          "font": {
           "color": "#2a3f5f"
          },
          "geo": {
           "bgcolor": "white",
           "lakecolor": "white",
           "landcolor": "#E5ECF6",
           "showlakes": true,
           "showland": true,
           "subunitcolor": "white"
          },
          "hoverlabel": {
           "align": "left"
          },
          "hovermode": "closest",
          "mapbox": {
           "style": "light"
          },
          "paper_bgcolor": "white",
          "plot_bgcolor": "#E5ECF6",
          "polar": {
           "angularaxis": {
            "gridcolor": "white",
            "linecolor": "white",
            "ticks": ""
           },
           "bgcolor": "#E5ECF6",
           "radialaxis": {
            "gridcolor": "white",
            "linecolor": "white",
            "ticks": ""
           }
          },
          "scene": {
           "xaxis": {
            "backgroundcolor": "#E5ECF6",
            "gridcolor": "white",
            "gridwidth": 2,
            "linecolor": "white",
            "showbackground": true,
            "ticks": "",
            "zerolinecolor": "white"
           },
           "yaxis": {
            "backgroundcolor": "#E5ECF6",
            "gridcolor": "white",
            "gridwidth": 2,
            "linecolor": "white",
            "showbackground": true,
            "ticks": "",
            "zerolinecolor": "white"
           },
           "zaxis": {
            "backgroundcolor": "#E5ECF6",
            "gridcolor": "white",
            "gridwidth": 2,
            "linecolor": "white",
            "showbackground": true,
            "ticks": "",
            "zerolinecolor": "white"
           }
          },
          "shapedefaults": {
           "line": {
            "color": "#2a3f5f"
           }
          },
          "ternary": {
           "aaxis": {
            "gridcolor": "white",
            "linecolor": "white",
            "ticks": ""
           },
           "baxis": {
            "gridcolor": "white",
            "linecolor": "white",
            "ticks": ""
           },
           "bgcolor": "#E5ECF6",
           "caxis": {
            "gridcolor": "white",
            "linecolor": "white",
            "ticks": ""
           }
          },
          "title": {
           "x": 0.05
          },
          "xaxis": {
           "automargin": true,
           "gridcolor": "white",
           "linecolor": "white",
           "ticks": "",
           "title": {
            "standoff": 15
           },
           "zerolinecolor": "white",
           "zerolinewidth": 2
          },
          "yaxis": {
           "automargin": true,
           "gridcolor": "white",
           "linecolor": "white",
           "ticks": "",
           "title": {
            "standoff": 15
           },
           "zerolinecolor": "white",
           "zerolinewidth": 2
          }
         }
        },
        "title": {
         "text": "CPTR11"
        },
        "yaxis": {
         "title": {
          "text": "Price"
         }
        }
       }
      }
     },
     "metadata": {},
     "output_type": "display_data"
    },
    {
     "data": {
      "application/vnd.plotly.v1+json": {
       "config": {
        "plotlyServerURL": "https://plot.ly"
       },
       "data": [
        {
         "close": [
          93.7,
          93,
          91.6,
          92,
          93.13,
          93.47,
          93.35,
          93.45,
          93.44,
          93.79,
          94.16,
          93.17,
          93.35,
          93.52,
          93.65,
          93.72,
          93.72,
          93.97,
          94.22,
          95,
          95.59,
          95.59,
          97.96,
          97.52,
          97.4,
          97.46,
          97.25,
          97.16,
          97,
          96.75,
          97,
          96.72,
          96.64,
          97.06,
          96.83,
          96.19,
          95.92,
          95.61,
          95.92,
          95.9,
          95,
          95.1,
          95.04,
          94.97,
          94.8,
          95.9,
          96,
          95.75,
          96.4,
          96.53,
          96.55,
          96.2,
          96.26,
          95.74,
          96.15,
          95.6,
          95.79,
          95.02,
          95.34,
          94.88,
          95.3,
          95.2,
          94.55,
          94.68,
          95.43,
          94.76,
          97.2,
          96.33
         ],
         "high": [
          94.29,
          93.4,
          92.62,
          93.37,
          93.5,
          93.5,
          93.72,
          93.49,
          93.7,
          94.53,
          94.95,
          93.51,
          93.8,
          94.49,
          94.82,
          94.1,
          94.1,
          94.21,
          95.15,
          95.9,
          96.3,
          96.3,
          97.98,
          97.6,
          97.71,
          97.5,
          97.25,
          97.24,
          97,
          97.19,
          97.24,
          97,
          97.06,
          97.29,
          97.28,
          96.2,
          95.92,
          96,
          96,
          96,
          95.5,
          95.5,
          95.38,
          95,
          95.48,
          96.87,
          96.5,
          96.43,
          96.7,
          96.6,
          96.6,
          96.3,
          96.95,
          96.92,
          96.98,
          96.47,
          95.85,
          95.49,
          95.71,
          95.45,
          95.49,
          95.47,
          95.35,
          95.78,
          95.44,
          96,
          97.2,
          96.33
         ],
         "low": [
          92.52,
          91.5,
          91.51,
          91.7,
          93.11,
          93.25,
          93.12,
          93.02,
          93.16,
          93.7,
          93.17,
          93.16,
          93.3,
          93.22,
          93.5,
          93.22,
          93.22,
          93.8,
          94,
          95,
          95.11,
          95.11,
          97.21,
          97.1,
          97.05,
          97.01,
          96.91,
          96.91,
          96.58,
          96.5,
          96.33,
          96.2,
          95.5,
          96,
          96.19,
          95.6,
          95.5,
          95.38,
          95.6,
          95.2,
          94.8,
          95.04,
          94.75,
          94,
          94,
          95.8,
          95.75,
          95.1,
          96.01,
          96.3,
          95.7,
          95.85,
          95.9,
          95.61,
          95.9,
          95.15,
          95.02,
          94.72,
          95,
          94.83,
          94.65,
          94.54,
          94.35,
          94.45,
          93.02,
          94.3,
          96.22,
          96
         ],
         "open": [
          92.98,
          91.6,
          92,
          93.13,
          93.47,
          93.4,
          93.45,
          93.44,
          93.7,
          94.16,
          93.17,
          93.35,
          93.52,
          93.65,
          93.72,
          93.97,
          93.97,
          94.21,
          95,
          95.59,
          96.3,
          96.3,
          97.52,
          97.4,
          97.46,
          97.27,
          97.15,
          97.24,
          96.75,
          97,
          97.02,
          96.5,
          96.9,
          97,
          96.3,
          95.92,
          95.78,
          95.92,
          95.86,
          95.2,
          95.23,
          95.04,
          95,
          94.8,
          94.71,
          96,
          95.75,
          96.4,
          96.6,
          96.54,
          96.29,
          96.26,
          95.92,
          96.15,
          95.9,
          95.8,
          95.02,
          95.2,
          95,
          95.29,
          95.2,
          94.55,
          94.89,
          95.43,
          94.76,
          96,
          96.37,
          96.3
         ],
         "type": "candlestick",
         "x": [
          "2023-09-29",
          "2023-09-28",
          "2023-09-27",
          "2023-09-26",
          "2023-09-25",
          "2023-09-22",
          "2023-09-21",
          "2023-09-20",
          "2023-09-19",
          "2023-09-18",
          "2023-09-15",
          "2023-09-14",
          "2023-09-13",
          "2023-09-12",
          "2023-09-11",
          "2023-09-09",
          "2023-09-08",
          "2023-09-06",
          "2023-09-05",
          "2023-09-04",
          "2023-09-02",
          "2023-09-01",
          "2023-08-31",
          "2023-08-30",
          "2023-08-29",
          "2023-08-28",
          "2023-08-25",
          "2023-08-24",
          "2023-08-23",
          "2023-08-22",
          "2023-08-21",
          "2023-08-18",
          "2023-08-17",
          "2023-08-16",
          "2023-08-15",
          "2023-08-14",
          "2023-08-11",
          "2023-08-10",
          "2023-08-09",
          "2023-08-08",
          "2023-08-07",
          "2023-08-04",
          "2023-08-03",
          "2023-08-02",
          "2023-08-01",
          "2023-07-31",
          "2023-07-28",
          "2023-07-27",
          "2023-07-26",
          "2023-07-25",
          "2023-07-24",
          "2023-07-21",
          "2023-07-20",
          "2023-07-19",
          "2023-07-18",
          "2023-07-17",
          "2023-07-14",
          "2023-07-13",
          "2023-07-12",
          "2023-07-11",
          "2023-07-10",
          "2023-07-07",
          "2023-07-06",
          "2023-07-05",
          "2023-07-04",
          "2023-07-03",
          "2023-06-30",
          "2023-06-29"
         ]
        }
       ],
       "layout": {
        "template": {
         "data": {
          "bar": [
           {
            "error_x": {
             "color": "#2a3f5f"
            },
            "error_y": {
             "color": "#2a3f5f"
            },
            "marker": {
             "line": {
              "color": "#E5ECF6",
              "width": 0.5
             },
             "pattern": {
              "fillmode": "overlay",
              "size": 10,
              "solidity": 0.2
             }
            },
            "type": "bar"
           }
          ],
          "barpolar": [
           {
            "marker": {
             "line": {
              "color": "#E5ECF6",
              "width": 0.5
             },
             "pattern": {
              "fillmode": "overlay",
              "size": 10,
              "solidity": 0.2
             }
            },
            "type": "barpolar"
           }
          ],
          "carpet": [
           {
            "aaxis": {
             "endlinecolor": "#2a3f5f",
             "gridcolor": "white",
             "linecolor": "white",
             "minorgridcolor": "white",
             "startlinecolor": "#2a3f5f"
            },
            "baxis": {
             "endlinecolor": "#2a3f5f",
             "gridcolor": "white",
             "linecolor": "white",
             "minorgridcolor": "white",
             "startlinecolor": "#2a3f5f"
            },
            "type": "carpet"
           }
          ],
          "choropleth": [
           {
            "colorbar": {
             "outlinewidth": 0,
             "ticks": ""
            },
            "type": "choropleth"
           }
          ],
          "contour": [
           {
            "colorbar": {
             "outlinewidth": 0,
             "ticks": ""
            },
            "colorscale": [
             [
              0,
              "#0d0887"
             ],
             [
              0.1111111111111111,
              "#46039f"
             ],
             [
              0.2222222222222222,
              "#7201a8"
             ],
             [
              0.3333333333333333,
              "#9c179e"
             ],
             [
              0.4444444444444444,
              "#bd3786"
             ],
             [
              0.5555555555555556,
              "#d8576b"
             ],
             [
              0.6666666666666666,
              "#ed7953"
             ],
             [
              0.7777777777777778,
              "#fb9f3a"
             ],
             [
              0.8888888888888888,
              "#fdca26"
             ],
             [
              1,
              "#f0f921"
             ]
            ],
            "type": "contour"
           }
          ],
          "contourcarpet": [
           {
            "colorbar": {
             "outlinewidth": 0,
             "ticks": ""
            },
            "type": "contourcarpet"
           }
          ],
          "heatmap": [
           {
            "colorbar": {
             "outlinewidth": 0,
             "ticks": ""
            },
            "colorscale": [
             [
              0,
              "#0d0887"
             ],
             [
              0.1111111111111111,
              "#46039f"
             ],
             [
              0.2222222222222222,
              "#7201a8"
             ],
             [
              0.3333333333333333,
              "#9c179e"
             ],
             [
              0.4444444444444444,
              "#bd3786"
             ],
             [
              0.5555555555555556,
              "#d8576b"
             ],
             [
              0.6666666666666666,
              "#ed7953"
             ],
             [
              0.7777777777777778,
              "#fb9f3a"
             ],
             [
              0.8888888888888888,
              "#fdca26"
             ],
             [
              1,
              "#f0f921"
             ]
            ],
            "type": "heatmap"
           }
          ],
          "heatmapgl": [
           {
            "colorbar": {
             "outlinewidth": 0,
             "ticks": ""
            },
            "colorscale": [
             [
              0,
              "#0d0887"
             ],
             [
              0.1111111111111111,
              "#46039f"
             ],
             [
              0.2222222222222222,
              "#7201a8"
             ],
             [
              0.3333333333333333,
              "#9c179e"
             ],
             [
              0.4444444444444444,
              "#bd3786"
             ],
             [
              0.5555555555555556,
              "#d8576b"
             ],
             [
              0.6666666666666666,
              "#ed7953"
             ],
             [
              0.7777777777777778,
              "#fb9f3a"
             ],
             [
              0.8888888888888888,
              "#fdca26"
             ],
             [
              1,
              "#f0f921"
             ]
            ],
            "type": "heatmapgl"
           }
          ],
          "histogram": [
           {
            "marker": {
             "pattern": {
              "fillmode": "overlay",
              "size": 10,
              "solidity": 0.2
             }
            },
            "type": "histogram"
           }
          ],
          "histogram2d": [
           {
            "colorbar": {
             "outlinewidth": 0,
             "ticks": ""
            },
            "colorscale": [
             [
              0,
              "#0d0887"
             ],
             [
              0.1111111111111111,
              "#46039f"
             ],
             [
              0.2222222222222222,
              "#7201a8"
             ],
             [
              0.3333333333333333,
              "#9c179e"
             ],
             [
              0.4444444444444444,
              "#bd3786"
             ],
             [
              0.5555555555555556,
              "#d8576b"
             ],
             [
              0.6666666666666666,
              "#ed7953"
             ],
             [
              0.7777777777777778,
              "#fb9f3a"
             ],
             [
              0.8888888888888888,
              "#fdca26"
             ],
             [
              1,
              "#f0f921"
             ]
            ],
            "type": "histogram2d"
           }
          ],
          "histogram2dcontour": [
           {
            "colorbar": {
             "outlinewidth": 0,
             "ticks": ""
            },
            "colorscale": [
             [
              0,
              "#0d0887"
             ],
             [
              0.1111111111111111,
              "#46039f"
             ],
             [
              0.2222222222222222,
              "#7201a8"
             ],
             [
              0.3333333333333333,
              "#9c179e"
             ],
             [
              0.4444444444444444,
              "#bd3786"
             ],
             [
              0.5555555555555556,
              "#d8576b"
             ],
             [
              0.6666666666666666,
              "#ed7953"
             ],
             [
              0.7777777777777778,
              "#fb9f3a"
             ],
             [
              0.8888888888888888,
              "#fdca26"
             ],
             [
              1,
              "#f0f921"
             ]
            ],
            "type": "histogram2dcontour"
           }
          ],
          "mesh3d": [
           {
            "colorbar": {
             "outlinewidth": 0,
             "ticks": ""
            },
            "type": "mesh3d"
           }
          ],
          "parcoords": [
           {
            "line": {
             "colorbar": {
              "outlinewidth": 0,
              "ticks": ""
             }
            },
            "type": "parcoords"
           }
          ],
          "pie": [
           {
            "automargin": true,
            "type": "pie"
           }
          ],
          "scatter": [
           {
            "marker": {
             "colorbar": {
              "outlinewidth": 0,
              "ticks": ""
             }
            },
            "type": "scatter"
           }
          ],
          "scatter3d": [
           {
            "line": {
             "colorbar": {
              "outlinewidth": 0,
              "ticks": ""
             }
            },
            "marker": {
             "colorbar": {
              "outlinewidth": 0,
              "ticks": ""
             }
            },
            "type": "scatter3d"
           }
          ],
          "scattercarpet": [
           {
            "marker": {
             "colorbar": {
              "outlinewidth": 0,
              "ticks": ""
             }
            },
            "type": "scattercarpet"
           }
          ],
          "scattergeo": [
           {
            "marker": {
             "colorbar": {
              "outlinewidth": 0,
              "ticks": ""
             }
            },
            "type": "scattergeo"
           }
          ],
          "scattergl": [
           {
            "marker": {
             "colorbar": {
              "outlinewidth": 0,
              "ticks": ""
             }
            },
            "type": "scattergl"
           }
          ],
          "scattermapbox": [
           {
            "marker": {
             "colorbar": {
              "outlinewidth": 0,
              "ticks": ""
             }
            },
            "type": "scattermapbox"
           }
          ],
          "scatterpolar": [
           {
            "marker": {
             "colorbar": {
              "outlinewidth": 0,
              "ticks": ""
             }
            },
            "type": "scatterpolar"
           }
          ],
          "scatterpolargl": [
           {
            "marker": {
             "colorbar": {
              "outlinewidth": 0,
              "ticks": ""
             }
            },
            "type": "scatterpolargl"
           }
          ],
          "scatterternary": [
           {
            "marker": {
             "colorbar": {
              "outlinewidth": 0,
              "ticks": ""
             }
            },
            "type": "scatterternary"
           }
          ],
          "surface": [
           {
            "colorbar": {
             "outlinewidth": 0,
             "ticks": ""
            },
            "colorscale": [
             [
              0,
              "#0d0887"
             ],
             [
              0.1111111111111111,
              "#46039f"
             ],
             [
              0.2222222222222222,
              "#7201a8"
             ],
             [
              0.3333333333333333,
              "#9c179e"
             ],
             [
              0.4444444444444444,
              "#bd3786"
             ],
             [
              0.5555555555555556,
              "#d8576b"
             ],
             [
              0.6666666666666666,
              "#ed7953"
             ],
             [
              0.7777777777777778,
              "#fb9f3a"
             ],
             [
              0.8888888888888888,
              "#fdca26"
             ],
             [
              1,
              "#f0f921"
             ]
            ],
            "type": "surface"
           }
          ],
          "table": [
           {
            "cells": {
             "fill": {
              "color": "#EBF0F8"
             },
             "line": {
              "color": "white"
             }
            },
            "header": {
             "fill": {
              "color": "#C8D4E3"
             },
             "line": {
              "color": "white"
             }
            },
            "type": "table"
           }
          ]
         },
         "layout": {
          "annotationdefaults": {
           "arrowcolor": "#2a3f5f",
           "arrowhead": 0,
           "arrowwidth": 1
          },
          "autotypenumbers": "strict",
          "coloraxis": {
           "colorbar": {
            "outlinewidth": 0,
            "ticks": ""
           }
          },
          "colorscale": {
           "diverging": [
            [
             0,
             "#8e0152"
            ],
            [
             0.1,
             "#c51b7d"
            ],
            [
             0.2,
             "#de77ae"
            ],
            [
             0.3,
             "#f1b6da"
            ],
            [
             0.4,
             "#fde0ef"
            ],
            [
             0.5,
             "#f7f7f7"
            ],
            [
             0.6,
             "#e6f5d0"
            ],
            [
             0.7,
             "#b8e186"
            ],
            [
             0.8,
             "#7fbc41"
            ],
            [
             0.9,
             "#4d9221"
            ],
            [
             1,
             "#276419"
            ]
           ],
           "sequential": [
            [
             0,
             "#0d0887"
            ],
            [
             0.1111111111111111,
             "#46039f"
            ],
            [
             0.2222222222222222,
             "#7201a8"
            ],
            [
             0.3333333333333333,
             "#9c179e"
            ],
            [
             0.4444444444444444,
             "#bd3786"
            ],
            [
             0.5555555555555556,
             "#d8576b"
            ],
            [
             0.6666666666666666,
             "#ed7953"
            ],
            [
             0.7777777777777778,
             "#fb9f3a"
            ],
            [
             0.8888888888888888,
             "#fdca26"
            ],
            [
             1,
             "#f0f921"
            ]
           ],
           "sequentialminus": [
            [
             0,
             "#0d0887"
            ],
            [
             0.1111111111111111,
             "#46039f"
            ],
            [
             0.2222222222222222,
             "#7201a8"
            ],
            [
             0.3333333333333333,
             "#9c179e"
            ],
            [
             0.4444444444444444,
             "#bd3786"
            ],
            [
             0.5555555555555556,
             "#d8576b"
            ],
            [
             0.6666666666666666,
             "#ed7953"
            ],
            [
             0.7777777777777778,
             "#fb9f3a"
            ],
            [
             0.8888888888888888,
             "#fdca26"
            ],
            [
             1,
             "#f0f921"
            ]
           ]
          },
          "colorway": [
           "#636efa",
           "#EF553B",
           "#00cc96",
           "#ab63fa",
           "#FFA15A",
           "#19d3f3",
           "#FF6692",
           "#B6E880",
           "#FF97FF",
           "#FECB52"
          ],
          "font": {
           "color": "#2a3f5f"
          },
          "geo": {
           "bgcolor": "white",
           "lakecolor": "white",
           "landcolor": "#E5ECF6",
           "showlakes": true,
           "showland": true,
           "subunitcolor": "white"
          },
          "hoverlabel": {
           "align": "left"
          },
          "hovermode": "closest",
          "mapbox": {
           "style": "light"
          },
          "paper_bgcolor": "white",
          "plot_bgcolor": "#E5ECF6",
          "polar": {
           "angularaxis": {
            "gridcolor": "white",
            "linecolor": "white",
            "ticks": ""
           },
           "bgcolor": "#E5ECF6",
           "radialaxis": {
            "gridcolor": "white",
            "linecolor": "white",
            "ticks": ""
           }
          },
          "scene": {
           "xaxis": {
            "backgroundcolor": "#E5ECF6",
            "gridcolor": "white",
            "gridwidth": 2,
            "linecolor": "white",
            "showbackground": true,
            "ticks": "",
            "zerolinecolor": "white"
           },
           "yaxis": {
            "backgroundcolor": "#E5ECF6",
            "gridcolor": "white",
            "gridwidth": 2,
            "linecolor": "white",
            "showbackground": true,
            "ticks": "",
            "zerolinecolor": "white"
           },
           "zaxis": {
            "backgroundcolor": "#E5ECF6",
            "gridcolor": "white",
            "gridwidth": 2,
            "linecolor": "white",
            "showbackground": true,
            "ticks": "",
            "zerolinecolor": "white"
           }
          },
          "shapedefaults": {
           "line": {
            "color": "#2a3f5f"
           }
          },
          "ternary": {
           "aaxis": {
            "gridcolor": "white",
            "linecolor": "white",
            "ticks": ""
           },
           "baxis": {
            "gridcolor": "white",
            "linecolor": "white",
            "ticks": ""
           },
           "bgcolor": "#E5ECF6",
           "caxis": {
            "gridcolor": "white",
            "linecolor": "white",
            "ticks": ""
           }
          },
          "title": {
           "x": 0.05
          },
          "xaxis": {
           "automargin": true,
           "gridcolor": "white",
           "linecolor": "white",
           "ticks": "",
           "title": {
            "standoff": 15
           },
           "zerolinecolor": "white",
           "zerolinewidth": 2
          },
          "yaxis": {
           "automargin": true,
           "gridcolor": "white",
           "linecolor": "white",
           "ticks": "",
           "title": {
            "standoff": 15
           },
           "zerolinecolor": "white",
           "zerolinewidth": 2
          }
         }
        },
        "title": {
         "text": "HABT11"
        },
        "yaxis": {
         "title": {
          "text": "Price"
         }
        }
       }
      }
     },
     "metadata": {},
     "output_type": "display_data"
    },
    {
     "data": {
      "application/vnd.plotly.v1+json": {
       "config": {
        "plotlyServerURL": "https://plot.ly"
       },
       "data": [
        {
         "close": [
          27.21,
          27.25,
          26.55,
          26.6,
          27,
          26.92,
          26.99,
          27.62,
          27.16,
          27.51,
          27.58,
          27.64,
          27.75,
          27.61,
          27.45,
          26.77,
          26.73,
          26.99,
          27.4,
          27.65,
          27.43,
          27.67,
          28.21,
          27.77,
          26.86,
          27.29,
          27.61,
          27.27,
          26.85,
          26.96,
          26.75,
          27.07,
          27.09,
          27.24,
          27.64,
          27.59,
          27.5,
          27.6,
          27.66,
          27.88,
          28.4,
          28.62,
          28.71,
          28.64,
          28.54,
          28.12,
          28.76,
          28.6,
          28.54,
          29,
          28.49,
          27.97,
          28.27,
          28.83,
          28.28,
          28.58,
          28.27,
          28.44,
          28.95,
          29.14,
          28.6,
          29.03,
          28.78,
          28.96,
          28.42,
          28.49,
          28.15,
          28.31,
          28.63,
          28.67,
          28.76,
          29.04,
          28.76,
          29.04,
          28.65,
          28.56,
          28.19,
          27.81,
          27.5,
          27.8,
          27.42,
          27.34,
          27.15
         ],
         "high": [
          27.57,
          27.38,
          26.92,
          27,
          27.19,
          27.22,
          27.4,
          27.84,
          27.42,
          27.8,
          28,
          27.97,
          28.04,
          27.7,
          27.49,
          27.11,
          27.17,
          27.47,
          27.71,
          27.92,
          27.64,
          28.35,
          28.59,
          27.99,
          27.3,
          27.6,
          27.72,
          27.35,
          27.08,
          27.18,
          27.34,
          27.52,
          27.36,
          27.62,
          27.8,
          27.94,
          27.6,
          28.01,
          28.28,
          28.54,
          29.13,
          28.75,
          28.73,
          28.88,
          28.58,
          28.72,
          28.8,
          28.95,
          29.25,
          29,
          28.49,
          28.41,
          28.94,
          28.83,
          28.79,
          28.79,
          28.65,
          28.86,
          29.37,
          29.46,
          28.91,
          29.2,
          29.02,
          29.01,
          28.92,
          28.55,
          28.37,
          28.83,
          28.94,
          28.85,
          29,
          29.17,
          28.81,
          29.1,
          28.84,
          28.6,
          28.22,
          27.9,
          28.04,
          27.8,
          27.62,
          27.45,
          27.28
         ],
         "low": [
          27.02,
          26.45,
          26.36,
          26.58,
          26.93,
          26.89,
          26.96,
          27.23,
          27.06,
          27.36,
          27.44,
          27.47,
          27.49,
          27.32,
          26.89,
          26.53,
          26.6,
          26.95,
          27.32,
          27.33,
          27.18,
          27.58,
          27.89,
          26.72,
          26.67,
          27.14,
          27.11,
          26.93,
          26.72,
          26.54,
          26.74,
          26.99,
          26.87,
          27.17,
          27.46,
          27.52,
          26.92,
          27.11,
          27.62,
          27.7,
          28.28,
          28.31,
          28.28,
          28.49,
          28.06,
          28.09,
          28.33,
          28.32,
          28.34,
          28.43,
          27.7,
          27.89,
          28.17,
          28.16,
          28.16,
          28.16,
          28.2,
          28.1,
          28.85,
          28.65,
          28.6,
          28.66,
          28.73,
          28.36,
          28.35,
          28.21,
          28,
          27.98,
          28.43,
          28.48,
          28.56,
          28.69,
          28.36,
          28.54,
          28.25,
          28.08,
          27.77,
          27.54,
          27.42,
          27.33,
          27.18,
          27.15,
          26.83
         ],
         "open": [
          27.5,
          26.53,
          26.81,
          26.97,
          26.94,
          27.12,
          27.3,
          27.27,
          27.3,
          27.65,
          27.92,
          27.8,
          27.66,
          27.48,
          27,
          26.65,
          27.06,
          27.4,
          27.53,
          27.46,
          27.55,
          28.31,
          28,
          26.88,
          27.25,
          27.6,
          27.27,
          27,
          26.86,
          26.7,
          27.32,
          27.05,
          27.3,
          27.48,
          27.63,
          27.65,
          27.5,
          27.36,
          27.93,
          28.33,
          28.84,
          28.69,
          28.33,
          28.79,
          28.19,
          28.72,
          28.59,
          28.95,
          29,
          28.5,
          28.11,
          28.27,
          28.83,
          28.23,
          28.65,
          28.22,
          28.5,
          28.81,
          29.37,
          28.77,
          28.83,
          28.72,
          28.87,
          28.54,
          28.77,
          28.23,
          28.3,
          28.78,
          28.63,
          28.85,
          28.87,
          28.74,
          28.81,
          28.58,
          28.49,
          28.1,
          27.97,
          27.64,
          27.93,
          27.57,
          27.5,
          27.33,
          27.15
         ],
         "type": "candlestick",
         "x": [
          "2023-09-29",
          "2023-09-28",
          "2023-09-27",
          "2023-09-26",
          "2023-09-25",
          "2023-09-22",
          "2023-09-21",
          "2023-09-20",
          "2023-09-19",
          "2023-09-18",
          "2023-09-15",
          "2023-09-14",
          "2023-09-13",
          "2023-09-12",
          "2023-09-11",
          "2023-09-08",
          "2023-09-06",
          "2023-09-05",
          "2023-09-04",
          "2023-09-01",
          "2023-08-31",
          "2023-08-30",
          "2023-08-29",
          "2023-08-28",
          "2023-08-25",
          "2023-08-24",
          "2023-08-23",
          "2023-08-22",
          "2023-08-21",
          "2023-08-18",
          "2023-08-17",
          "2023-08-16",
          "2023-08-15",
          "2023-08-14",
          "2023-08-11",
          "2023-08-10",
          "2023-08-09",
          "2023-08-08",
          "2023-08-07",
          "2023-08-04",
          "2023-08-03",
          "2023-08-02",
          "2023-08-01",
          "2023-07-31",
          "2023-07-28",
          "2023-07-27",
          "2023-07-26",
          "2023-07-25",
          "2023-07-24",
          "2023-07-21",
          "2023-07-20",
          "2023-07-19",
          "2023-07-18",
          "2023-07-17",
          "2023-07-14",
          "2023-07-13",
          "2023-07-12",
          "2023-07-11",
          "2023-07-10",
          "2023-07-07",
          "2023-07-06",
          "2023-07-05",
          "2023-07-04",
          "2023-07-03",
          "2023-06-30",
          "2023-06-29",
          "2023-06-28",
          "2023-06-27",
          "2023-06-26",
          "2023-06-23",
          "2023-06-22",
          "2023-06-21",
          "2023-06-20",
          "2023-06-19",
          "2023-06-16",
          "2023-06-15",
          "2023-06-14",
          "2023-06-13",
          "2023-06-12",
          "2023-06-09",
          "2023-06-07",
          "2023-06-06",
          "2023-06-05"
         ]
        }
       ],
       "layout": {
        "template": {
         "data": {
          "bar": [
           {
            "error_x": {
             "color": "#2a3f5f"
            },
            "error_y": {
             "color": "#2a3f5f"
            },
            "marker": {
             "line": {
              "color": "#E5ECF6",
              "width": 0.5
             },
             "pattern": {
              "fillmode": "overlay",
              "size": 10,
              "solidity": 0.2
             }
            },
            "type": "bar"
           }
          ],
          "barpolar": [
           {
            "marker": {
             "line": {
              "color": "#E5ECF6",
              "width": 0.5
             },
             "pattern": {
              "fillmode": "overlay",
              "size": 10,
              "solidity": 0.2
             }
            },
            "type": "barpolar"
           }
          ],
          "carpet": [
           {
            "aaxis": {
             "endlinecolor": "#2a3f5f",
             "gridcolor": "white",
             "linecolor": "white",
             "minorgridcolor": "white",
             "startlinecolor": "#2a3f5f"
            },
            "baxis": {
             "endlinecolor": "#2a3f5f",
             "gridcolor": "white",
             "linecolor": "white",
             "minorgridcolor": "white",
             "startlinecolor": "#2a3f5f"
            },
            "type": "carpet"
           }
          ],
          "choropleth": [
           {
            "colorbar": {
             "outlinewidth": 0,
             "ticks": ""
            },
            "type": "choropleth"
           }
          ],
          "contour": [
           {
            "colorbar": {
             "outlinewidth": 0,
             "ticks": ""
            },
            "colorscale": [
             [
              0,
              "#0d0887"
             ],
             [
              0.1111111111111111,
              "#46039f"
             ],
             [
              0.2222222222222222,
              "#7201a8"
             ],
             [
              0.3333333333333333,
              "#9c179e"
             ],
             [
              0.4444444444444444,
              "#bd3786"
             ],
             [
              0.5555555555555556,
              "#d8576b"
             ],
             [
              0.6666666666666666,
              "#ed7953"
             ],
             [
              0.7777777777777778,
              "#fb9f3a"
             ],
             [
              0.8888888888888888,
              "#fdca26"
             ],
             [
              1,
              "#f0f921"
             ]
            ],
            "type": "contour"
           }
          ],
          "contourcarpet": [
           {
            "colorbar": {
             "outlinewidth": 0,
             "ticks": ""
            },
            "type": "contourcarpet"
           }
          ],
          "heatmap": [
           {
            "colorbar": {
             "outlinewidth": 0,
             "ticks": ""
            },
            "colorscale": [
             [
              0,
              "#0d0887"
             ],
             [
              0.1111111111111111,
              "#46039f"
             ],
             [
              0.2222222222222222,
              "#7201a8"
             ],
             [
              0.3333333333333333,
              "#9c179e"
             ],
             [
              0.4444444444444444,
              "#bd3786"
             ],
             [
              0.5555555555555556,
              "#d8576b"
             ],
             [
              0.6666666666666666,
              "#ed7953"
             ],
             [
              0.7777777777777778,
              "#fb9f3a"
             ],
             [
              0.8888888888888888,
              "#fdca26"
             ],
             [
              1,
              "#f0f921"
             ]
            ],
            "type": "heatmap"
           }
          ],
          "heatmapgl": [
           {
            "colorbar": {
             "outlinewidth": 0,
             "ticks": ""
            },
            "colorscale": [
             [
              0,
              "#0d0887"
             ],
             [
              0.1111111111111111,
              "#46039f"
             ],
             [
              0.2222222222222222,
              "#7201a8"
             ],
             [
              0.3333333333333333,
              "#9c179e"
             ],
             [
              0.4444444444444444,
              "#bd3786"
             ],
             [
              0.5555555555555556,
              "#d8576b"
             ],
             [
              0.6666666666666666,
              "#ed7953"
             ],
             [
              0.7777777777777778,
              "#fb9f3a"
             ],
             [
              0.8888888888888888,
              "#fdca26"
             ],
             [
              1,
              "#f0f921"
             ]
            ],
            "type": "heatmapgl"
           }
          ],
          "histogram": [
           {
            "marker": {
             "pattern": {
              "fillmode": "overlay",
              "size": 10,
              "solidity": 0.2
             }
            },
            "type": "histogram"
           }
          ],
          "histogram2d": [
           {
            "colorbar": {
             "outlinewidth": 0,
             "ticks": ""
            },
            "colorscale": [
             [
              0,
              "#0d0887"
             ],
             [
              0.1111111111111111,
              "#46039f"
             ],
             [
              0.2222222222222222,
              "#7201a8"
             ],
             [
              0.3333333333333333,
              "#9c179e"
             ],
             [
              0.4444444444444444,
              "#bd3786"
             ],
             [
              0.5555555555555556,
              "#d8576b"
             ],
             [
              0.6666666666666666,
              "#ed7953"
             ],
             [
              0.7777777777777778,
              "#fb9f3a"
             ],
             [
              0.8888888888888888,
              "#fdca26"
             ],
             [
              1,
              "#f0f921"
             ]
            ],
            "type": "histogram2d"
           }
          ],
          "histogram2dcontour": [
           {
            "colorbar": {
             "outlinewidth": 0,
             "ticks": ""
            },
            "colorscale": [
             [
              0,
              "#0d0887"
             ],
             [
              0.1111111111111111,
              "#46039f"
             ],
             [
              0.2222222222222222,
              "#7201a8"
             ],
             [
              0.3333333333333333,
              "#9c179e"
             ],
             [
              0.4444444444444444,
              "#bd3786"
             ],
             [
              0.5555555555555556,
              "#d8576b"
             ],
             [
              0.6666666666666666,
              "#ed7953"
             ],
             [
              0.7777777777777778,
              "#fb9f3a"
             ],
             [
              0.8888888888888888,
              "#fdca26"
             ],
             [
              1,
              "#f0f921"
             ]
            ],
            "type": "histogram2dcontour"
           }
          ],
          "mesh3d": [
           {
            "colorbar": {
             "outlinewidth": 0,
             "ticks": ""
            },
            "type": "mesh3d"
           }
          ],
          "parcoords": [
           {
            "line": {
             "colorbar": {
              "outlinewidth": 0,
              "ticks": ""
             }
            },
            "type": "parcoords"
           }
          ],
          "pie": [
           {
            "automargin": true,
            "type": "pie"
           }
          ],
          "scatter": [
           {
            "marker": {
             "colorbar": {
              "outlinewidth": 0,
              "ticks": ""
             }
            },
            "type": "scatter"
           }
          ],
          "scatter3d": [
           {
            "line": {
             "colorbar": {
              "outlinewidth": 0,
              "ticks": ""
             }
            },
            "marker": {
             "colorbar": {
              "outlinewidth": 0,
              "ticks": ""
             }
            },
            "type": "scatter3d"
           }
          ],
          "scattercarpet": [
           {
            "marker": {
             "colorbar": {
              "outlinewidth": 0,
              "ticks": ""
             }
            },
            "type": "scattercarpet"
           }
          ],
          "scattergeo": [
           {
            "marker": {
             "colorbar": {
              "outlinewidth": 0,
              "ticks": ""
             }
            },
            "type": "scattergeo"
           }
          ],
          "scattergl": [
           {
            "marker": {
             "colorbar": {
              "outlinewidth": 0,
              "ticks": ""
             }
            },
            "type": "scattergl"
           }
          ],
          "scattermapbox": [
           {
            "marker": {
             "colorbar": {
              "outlinewidth": 0,
              "ticks": ""
             }
            },
            "type": "scattermapbox"
           }
          ],
          "scatterpolar": [
           {
            "marker": {
             "colorbar": {
              "outlinewidth": 0,
              "ticks": ""
             }
            },
            "type": "scatterpolar"
           }
          ],
          "scatterpolargl": [
           {
            "marker": {
             "colorbar": {
              "outlinewidth": 0,
              "ticks": ""
             }
            },
            "type": "scatterpolargl"
           }
          ],
          "scatterternary": [
           {
            "marker": {
             "colorbar": {
              "outlinewidth": 0,
              "ticks": ""
             }
            },
            "type": "scatterternary"
           }
          ],
          "surface": [
           {
            "colorbar": {
             "outlinewidth": 0,
             "ticks": ""
            },
            "colorscale": [
             [
              0,
              "#0d0887"
             ],
             [
              0.1111111111111111,
              "#46039f"
             ],
             [
              0.2222222222222222,
              "#7201a8"
             ],
             [
              0.3333333333333333,
              "#9c179e"
             ],
             [
              0.4444444444444444,
              "#bd3786"
             ],
             [
              0.5555555555555556,
              "#d8576b"
             ],
             [
              0.6666666666666666,
              "#ed7953"
             ],
             [
              0.7777777777777778,
              "#fb9f3a"
             ],
             [
              0.8888888888888888,
              "#fdca26"
             ],
             [
              1,
              "#f0f921"
             ]
            ],
            "type": "surface"
           }
          ],
          "table": [
           {
            "cells": {
             "fill": {
              "color": "#EBF0F8"
             },
             "line": {
              "color": "white"
             }
            },
            "header": {
             "fill": {
              "color": "#C8D4E3"
             },
             "line": {
              "color": "white"
             }
            },
            "type": "table"
           }
          ]
         },
         "layout": {
          "annotationdefaults": {
           "arrowcolor": "#2a3f5f",
           "arrowhead": 0,
           "arrowwidth": 1
          },
          "autotypenumbers": "strict",
          "coloraxis": {
           "colorbar": {
            "outlinewidth": 0,
            "ticks": ""
           }
          },
          "colorscale": {
           "diverging": [
            [
             0,
             "#8e0152"
            ],
            [
             0.1,
             "#c51b7d"
            ],
            [
             0.2,
             "#de77ae"
            ],
            [
             0.3,
             "#f1b6da"
            ],
            [
             0.4,
             "#fde0ef"
            ],
            [
             0.5,
             "#f7f7f7"
            ],
            [
             0.6,
             "#e6f5d0"
            ],
            [
             0.7,
             "#b8e186"
            ],
            [
             0.8,
             "#7fbc41"
            ],
            [
             0.9,
             "#4d9221"
            ],
            [
             1,
             "#276419"
            ]
           ],
           "sequential": [
            [
             0,
             "#0d0887"
            ],
            [
             0.1111111111111111,
             "#46039f"
            ],
            [
             0.2222222222222222,
             "#7201a8"
            ],
            [
             0.3333333333333333,
             "#9c179e"
            ],
            [
             0.4444444444444444,
             "#bd3786"
            ],
            [
             0.5555555555555556,
             "#d8576b"
            ],
            [
             0.6666666666666666,
             "#ed7953"
            ],
            [
             0.7777777777777778,
             "#fb9f3a"
            ],
            [
             0.8888888888888888,
             "#fdca26"
            ],
            [
             1,
             "#f0f921"
            ]
           ],
           "sequentialminus": [
            [
             0,
             "#0d0887"
            ],
            [
             0.1111111111111111,
             "#46039f"
            ],
            [
             0.2222222222222222,
             "#7201a8"
            ],
            [
             0.3333333333333333,
             "#9c179e"
            ],
            [
             0.4444444444444444,
             "#bd3786"
            ],
            [
             0.5555555555555556,
             "#d8576b"
            ],
            [
             0.6666666666666666,
             "#ed7953"
            ],
            [
             0.7777777777777778,
             "#fb9f3a"
            ],
            [
             0.8888888888888888,
             "#fdca26"
            ],
            [
             1,
             "#f0f921"
            ]
           ]
          },
          "colorway": [
           "#636efa",
           "#EF553B",
           "#00cc96",
           "#ab63fa",
           "#FFA15A",
           "#19d3f3",
           "#FF6692",
           "#B6E880",
           "#FF97FF",
           "#FECB52"
          ],
          "font": {
           "color": "#2a3f5f"
          },
          "geo": {
           "bgcolor": "white",
           "lakecolor": "white",
           "landcolor": "#E5ECF6",
           "showlakes": true,
           "showland": true,
           "subunitcolor": "white"
          },
          "hoverlabel": {
           "align": "left"
          },
          "hovermode": "closest",
          "mapbox": {
           "style": "light"
          },
          "paper_bgcolor": "white",
          "plot_bgcolor": "#E5ECF6",
          "polar": {
           "angularaxis": {
            "gridcolor": "white",
            "linecolor": "white",
            "ticks": ""
           },
           "bgcolor": "#E5ECF6",
           "radialaxis": {
            "gridcolor": "white",
            "linecolor": "white",
            "ticks": ""
           }
          },
          "scene": {
           "xaxis": {
            "backgroundcolor": "#E5ECF6",
            "gridcolor": "white",
            "gridwidth": 2,
            "linecolor": "white",
            "showbackground": true,
            "ticks": "",
            "zerolinecolor": "white"
           },
           "yaxis": {
            "backgroundcolor": "#E5ECF6",
            "gridcolor": "white",
            "gridwidth": 2,
            "linecolor": "white",
            "showbackground": true,
            "ticks": "",
            "zerolinecolor": "white"
           },
           "zaxis": {
            "backgroundcolor": "#E5ECF6",
            "gridcolor": "white",
            "gridwidth": 2,
            "linecolor": "white",
            "showbackground": true,
            "ticks": "",
            "zerolinecolor": "white"
           }
          },
          "shapedefaults": {
           "line": {
            "color": "#2a3f5f"
           }
          },
          "ternary": {
           "aaxis": {
            "gridcolor": "white",
            "linecolor": "white",
            "ticks": ""
           },
           "baxis": {
            "gridcolor": "white",
            "linecolor": "white",
            "ticks": ""
           },
           "bgcolor": "#E5ECF6",
           "caxis": {
            "gridcolor": "white",
            "linecolor": "white",
            "ticks": ""
           }
          },
          "title": {
           "x": 0.05
          },
          "xaxis": {
           "automargin": true,
           "gridcolor": "white",
           "linecolor": "white",
           "ticks": "",
           "title": {
            "standoff": 15
           },
           "zerolinecolor": "white",
           "zerolinewidth": 2
          },
          "yaxis": {
           "automargin": true,
           "gridcolor": "white",
           "linecolor": "white",
           "ticks": "",
           "title": {
            "standoff": 15
           },
           "zerolinecolor": "white",
           "zerolinewidth": 2
          }
         }
        },
        "title": {
         "text": "ITUB4"
        },
        "yaxis": {
         "title": {
          "text": "Price"
         }
        }
       }
      }
     },
     "metadata": {},
     "output_type": "display_data"
    },
    {
     "data": {
      "application/vnd.plotly.v1+json": {
       "config": {
        "plotlyServerURL": "https://plot.ly"
       },
       "data": [
        {
         "close": [
          34.64,
          34.45,
          34.52,
          33.46,
          34.25,
          34.03,
          33.76,
          34.29,
          34.21,
          34.13,
          33.89,
          33.87,
          33.03,
          33.53,
          33.37,
          33.4,
          33.4,
          33.52,
          33.37,
          32.29,
          32.63,
          31.94,
          32.62,
          32.4,
          32.33,
          31.97,
          32.19,
          32.24,
          30.61,
          31.3,
          31.52,
          31.44,
          31.54,
          30.86,
          30.64,
          30.56,
          30.63,
          30.46,
          30.22,
          30.19,
          30,
          30.92,
          30.53,
          30.6,
          31.11,
          29.76,
          29.39,
          31,
          31,
          30.3,
          29.68,
          29.13,
          29.1,
          28.83,
          28.99,
          29.05,
          29.63,
          29.17,
          29.15,
          29.55,
          29.5,
          29.65,
          30.11,
          30.15,
          30.08,
          29.53,
          31.03,
          30.89,
          30.6,
          30.84,
          30.16,
          31.45,
          31.85,
          30.57,
          30.42,
          29.64,
          29.39,
          30.1,
          28.86,
          30.81,
          30.28,
          28.87,
          28.05,
          27.47
         ],
         "high": [
          34.69,
          34.54,
          34.52,
          34.09,
          34.33,
          34.19,
          34.29,
          34.61,
          34.62,
          34.71,
          33.99,
          34,
          33.7,
          33.78,
          33.69,
          33.67,
          33.67,
          33.8,
          33.49,
          32.72,
          32.69,
          32.79,
          32.7,
          32.5,
          32.34,
          32.47,
          32.72,
          32.24,
          30.61,
          32.03,
          31.68,
          32.19,
          31.98,
          32.15,
          30.74,
          31.04,
          30.86,
          30.72,
          30.39,
          30.5,
          31.14,
          31.13,
          30.58,
          31.09,
          31.15,
          29.95,
          30.89,
          31.22,
          31.05,
          30.41,
          29.86,
          29.35,
          29.13,
          29.2,
          29.09,
          29.58,
          29.72,
          29.77,
          29.53,
          29.67,
          30.2,
          30,
          30.55,
          30.39,
          30.18,
          31.08,
          31.12,
          31.18,
          31.2,
          31.05,
          31.28,
          31.69,
          32,
          30.75,
          30.46,
          29.92,
          30.85,
          30.1,
          29.24,
          30.99,
          30.39,
          29.06,
          28.25,
          27.56
         ],
         "low": [
          34.25,
          34.21,
          33.78,
          33.46,
          33.93,
          33.81,
          33.63,
          34.01,
          34.07,
          33.85,
          33.61,
          33.1,
          33.03,
          33.49,
          33.33,
          33.26,
          33.26,
          33.22,
          32.22,
          32.21,
          31.96,
          31.88,
          32.3,
          31.99,
          31.86,
          31.8,
          31.84,
          31.09,
          30.24,
          30.97,
          31.18,
          31.31,
          30.88,
          30.85,
          30.27,
          30.16,
          30.12,
          30.16,
          29.72,
          29.86,
          29.74,
          30.62,
          29.8,
          29.95,
          30.3,
          29.32,
          29.38,
          30.63,
          30.2,
          29.76,
          29.13,
          28.88,
          28.57,
          28.71,
          27.95,
          28.86,
          29.04,
          29.14,
          29,
          29.01,
          29.36,
          29.15,
          29.66,
          29.96,
          29.72,
          29.32,
          30.76,
          30.55,
          30.34,
          30.12,
          29.89,
          31.08,
          30.85,
          29.9,
          29.55,
          29.04,
          29.28,
          28.88,
          28.59,
          30.04,
          29.02,
          28.43,
          27.21,
          27.23
         ],
         "open": [
          34.5,
          34.45,
          33.86,
          34,
          33.95,
          34.02,
          34,
          34.15,
          34.21,
          34,
          33.87,
          33.1,
          33.65,
          33.55,
          33.47,
          33.48,
          33.48,
          33.35,
          32.27,
          32.68,
          32.21,
          32.71,
          32.41,
          32.4,
          32.1,
          32.38,
          32.27,
          31.2,
          30.5,
          31.7,
          31.41,
          31.75,
          31,
          32.05,
          30.48,
          30.61,
          30.3,
          30.21,
          29.91,
          29.86,
          30.7,
          30.93,
          30.51,
          31.09,
          30.3,
          29.43,
          30.85,
          30.95,
          30.5,
          29.8,
          29.15,
          29.07,
          28.81,
          29,
          28.41,
          29.5,
          29.07,
          29.2,
          29.53,
          29.11,
          29.76,
          29.85,
          30.16,
          29.96,
          29.72,
          31,
          31,
          30.58,
          30.93,
          30.12,
          31.2,
          31.46,
          30.93,
          30.3,
          29.63,
          29.23,
          30.2,
          28.94,
          29.24,
          30.22,
          29.1,
          28.65,
          27.45,
          27.54
         ],
         "type": "candlestick",
         "x": [
          "2023-09-29",
          "2023-09-28",
          "2023-09-27",
          "2023-09-26",
          "2023-09-25",
          "2023-09-22",
          "2023-09-21",
          "2023-09-20",
          "2023-09-19",
          "2023-09-18",
          "2023-09-15",
          "2023-09-14",
          "2023-09-13",
          "2023-09-12",
          "2023-09-11",
          "2023-09-09",
          "2023-09-08",
          "2023-09-06",
          "2023-09-05",
          "2023-09-04",
          "2023-09-01",
          "2023-08-31",
          "2023-08-30",
          "2023-08-29",
          "2023-08-28",
          "2023-08-25",
          "2023-08-24",
          "2023-08-23",
          "2023-08-22",
          "2023-08-21",
          "2023-08-18",
          "2023-08-17",
          "2023-08-16",
          "2023-08-15",
          "2023-08-14",
          "2023-08-11",
          "2023-08-10",
          "2023-08-09",
          "2023-08-08",
          "2023-08-07",
          "2023-08-04",
          "2023-08-03",
          "2023-08-02",
          "2023-08-01",
          "2023-07-31",
          "2023-07-28",
          "2023-07-27",
          "2023-07-26",
          "2023-07-25",
          "2023-07-24",
          "2023-07-21",
          "2023-07-20",
          "2023-07-19",
          "2023-07-18",
          "2023-07-17",
          "2023-07-14",
          "2023-07-13",
          "2023-07-12",
          "2023-07-11",
          "2023-07-10",
          "2023-07-07",
          "2023-07-06",
          "2023-07-05",
          "2023-07-04",
          "2023-07-03",
          "2023-06-30",
          "2023-06-29",
          "2023-06-28",
          "2023-06-27",
          "2023-06-26",
          "2023-06-23",
          "2023-06-22",
          "2023-06-21",
          "2023-06-20",
          "2023-06-19",
          "2023-06-16",
          "2023-06-15",
          "2023-06-14",
          "2023-06-13",
          "2023-06-12",
          "2023-06-09",
          "2023-06-07",
          "2023-06-06",
          "2023-06-05"
         ]
        }
       ],
       "layout": {
        "template": {
         "data": {
          "bar": [
           {
            "error_x": {
             "color": "#2a3f5f"
            },
            "error_y": {
             "color": "#2a3f5f"
            },
            "marker": {
             "line": {
              "color": "#E5ECF6",
              "width": 0.5
             },
             "pattern": {
              "fillmode": "overlay",
              "size": 10,
              "solidity": 0.2
             }
            },
            "type": "bar"
           }
          ],
          "barpolar": [
           {
            "marker": {
             "line": {
              "color": "#E5ECF6",
              "width": 0.5
             },
             "pattern": {
              "fillmode": "overlay",
              "size": 10,
              "solidity": 0.2
             }
            },
            "type": "barpolar"
           }
          ],
          "carpet": [
           {
            "aaxis": {
             "endlinecolor": "#2a3f5f",
             "gridcolor": "white",
             "linecolor": "white",
             "minorgridcolor": "white",
             "startlinecolor": "#2a3f5f"
            },
            "baxis": {
             "endlinecolor": "#2a3f5f",
             "gridcolor": "white",
             "linecolor": "white",
             "minorgridcolor": "white",
             "startlinecolor": "#2a3f5f"
            },
            "type": "carpet"
           }
          ],
          "choropleth": [
           {
            "colorbar": {
             "outlinewidth": 0,
             "ticks": ""
            },
            "type": "choropleth"
           }
          ],
          "contour": [
           {
            "colorbar": {
             "outlinewidth": 0,
             "ticks": ""
            },
            "colorscale": [
             [
              0,
              "#0d0887"
             ],
             [
              0.1111111111111111,
              "#46039f"
             ],
             [
              0.2222222222222222,
              "#7201a8"
             ],
             [
              0.3333333333333333,
              "#9c179e"
             ],
             [
              0.4444444444444444,
              "#bd3786"
             ],
             [
              0.5555555555555556,
              "#d8576b"
             ],
             [
              0.6666666666666666,
              "#ed7953"
             ],
             [
              0.7777777777777778,
              "#fb9f3a"
             ],
             [
              0.8888888888888888,
              "#fdca26"
             ],
             [
              1,
              "#f0f921"
             ]
            ],
            "type": "contour"
           }
          ],
          "contourcarpet": [
           {
            "colorbar": {
             "outlinewidth": 0,
             "ticks": ""
            },
            "type": "contourcarpet"
           }
          ],
          "heatmap": [
           {
            "colorbar": {
             "outlinewidth": 0,
             "ticks": ""
            },
            "colorscale": [
             [
              0,
              "#0d0887"
             ],
             [
              0.1111111111111111,
              "#46039f"
             ],
             [
              0.2222222222222222,
              "#7201a8"
             ],
             [
              0.3333333333333333,
              "#9c179e"
             ],
             [
              0.4444444444444444,
              "#bd3786"
             ],
             [
              0.5555555555555556,
              "#d8576b"
             ],
             [
              0.6666666666666666,
              "#ed7953"
             ],
             [
              0.7777777777777778,
              "#fb9f3a"
             ],
             [
              0.8888888888888888,
              "#fdca26"
             ],
             [
              1,
              "#f0f921"
             ]
            ],
            "type": "heatmap"
           }
          ],
          "heatmapgl": [
           {
            "colorbar": {
             "outlinewidth": 0,
             "ticks": ""
            },
            "colorscale": [
             [
              0,
              "#0d0887"
             ],
             [
              0.1111111111111111,
              "#46039f"
             ],
             [
              0.2222222222222222,
              "#7201a8"
             ],
             [
              0.3333333333333333,
              "#9c179e"
             ],
             [
              0.4444444444444444,
              "#bd3786"
             ],
             [
              0.5555555555555556,
              "#d8576b"
             ],
             [
              0.6666666666666666,
              "#ed7953"
             ],
             [
              0.7777777777777778,
              "#fb9f3a"
             ],
             [
              0.8888888888888888,
              "#fdca26"
             ],
             [
              1,
              "#f0f921"
             ]
            ],
            "type": "heatmapgl"
           }
          ],
          "histogram": [
           {
            "marker": {
             "pattern": {
              "fillmode": "overlay",
              "size": 10,
              "solidity": 0.2
             }
            },
            "type": "histogram"
           }
          ],
          "histogram2d": [
           {
            "colorbar": {
             "outlinewidth": 0,
             "ticks": ""
            },
            "colorscale": [
             [
              0,
              "#0d0887"
             ],
             [
              0.1111111111111111,
              "#46039f"
             ],
             [
              0.2222222222222222,
              "#7201a8"
             ],
             [
              0.3333333333333333,
              "#9c179e"
             ],
             [
              0.4444444444444444,
              "#bd3786"
             ],
             [
              0.5555555555555556,
              "#d8576b"
             ],
             [
              0.6666666666666666,
              "#ed7953"
             ],
             [
              0.7777777777777778,
              "#fb9f3a"
             ],
             [
              0.8888888888888888,
              "#fdca26"
             ],
             [
              1,
              "#f0f921"
             ]
            ],
            "type": "histogram2d"
           }
          ],
          "histogram2dcontour": [
           {
            "colorbar": {
             "outlinewidth": 0,
             "ticks": ""
            },
            "colorscale": [
             [
              0,
              "#0d0887"
             ],
             [
              0.1111111111111111,
              "#46039f"
             ],
             [
              0.2222222222222222,
              "#7201a8"
             ],
             [
              0.3333333333333333,
              "#9c179e"
             ],
             [
              0.4444444444444444,
              "#bd3786"
             ],
             [
              0.5555555555555556,
              "#d8576b"
             ],
             [
              0.6666666666666666,
              "#ed7953"
             ],
             [
              0.7777777777777778,
              "#fb9f3a"
             ],
             [
              0.8888888888888888,
              "#fdca26"
             ],
             [
              1,
              "#f0f921"
             ]
            ],
            "type": "histogram2dcontour"
           }
          ],
          "mesh3d": [
           {
            "colorbar": {
             "outlinewidth": 0,
             "ticks": ""
            },
            "type": "mesh3d"
           }
          ],
          "parcoords": [
           {
            "line": {
             "colorbar": {
              "outlinewidth": 0,
              "ticks": ""
             }
            },
            "type": "parcoords"
           }
          ],
          "pie": [
           {
            "automargin": true,
            "type": "pie"
           }
          ],
          "scatter": [
           {
            "marker": {
             "colorbar": {
              "outlinewidth": 0,
              "ticks": ""
             }
            },
            "type": "scatter"
           }
          ],
          "scatter3d": [
           {
            "line": {
             "colorbar": {
              "outlinewidth": 0,
              "ticks": ""
             }
            },
            "marker": {
             "colorbar": {
              "outlinewidth": 0,
              "ticks": ""
             }
            },
            "type": "scatter3d"
           }
          ],
          "scattercarpet": [
           {
            "marker": {
             "colorbar": {
              "outlinewidth": 0,
              "ticks": ""
             }
            },
            "type": "scattercarpet"
           }
          ],
          "scattergeo": [
           {
            "marker": {
             "colorbar": {
              "outlinewidth": 0,
              "ticks": ""
             }
            },
            "type": "scattergeo"
           }
          ],
          "scattergl": [
           {
            "marker": {
             "colorbar": {
              "outlinewidth": 0,
              "ticks": ""
             }
            },
            "type": "scattergl"
           }
          ],
          "scattermapbox": [
           {
            "marker": {
             "colorbar": {
              "outlinewidth": 0,
              "ticks": ""
             }
            },
            "type": "scattermapbox"
           }
          ],
          "scatterpolar": [
           {
            "marker": {
             "colorbar": {
              "outlinewidth": 0,
              "ticks": ""
             }
            },
            "type": "scatterpolar"
           }
          ],
          "scatterpolargl": [
           {
            "marker": {
             "colorbar": {
              "outlinewidth": 0,
              "ticks": ""
             }
            },
            "type": "scatterpolargl"
           }
          ],
          "scatterternary": [
           {
            "marker": {
             "colorbar": {
              "outlinewidth": 0,
              "ticks": ""
             }
            },
            "type": "scatterternary"
           }
          ],
          "surface": [
           {
            "colorbar": {
             "outlinewidth": 0,
             "ticks": ""
            },
            "colorscale": [
             [
              0,
              "#0d0887"
             ],
             [
              0.1111111111111111,
              "#46039f"
             ],
             [
              0.2222222222222222,
              "#7201a8"
             ],
             [
              0.3333333333333333,
              "#9c179e"
             ],
             [
              0.4444444444444444,
              "#bd3786"
             ],
             [
              0.5555555555555556,
              "#d8576b"
             ],
             [
              0.6666666666666666,
              "#ed7953"
             ],
             [
              0.7777777777777778,
              "#fb9f3a"
             ],
             [
              0.8888888888888888,
              "#fdca26"
             ],
             [
              1,
              "#f0f921"
             ]
            ],
            "type": "surface"
           }
          ],
          "table": [
           {
            "cells": {
             "fill": {
              "color": "#EBF0F8"
             },
             "line": {
              "color": "white"
             }
            },
            "header": {
             "fill": {
              "color": "#C8D4E3"
             },
             "line": {
              "color": "white"
             }
            },
            "type": "table"
           }
          ]
         },
         "layout": {
          "annotationdefaults": {
           "arrowcolor": "#2a3f5f",
           "arrowhead": 0,
           "arrowwidth": 1
          },
          "autotypenumbers": "strict",
          "coloraxis": {
           "colorbar": {
            "outlinewidth": 0,
            "ticks": ""
           }
          },
          "colorscale": {
           "diverging": [
            [
             0,
             "#8e0152"
            ],
            [
             0.1,
             "#c51b7d"
            ],
            [
             0.2,
             "#de77ae"
            ],
            [
             0.3,
             "#f1b6da"
            ],
            [
             0.4,
             "#fde0ef"
            ],
            [
             0.5,
             "#f7f7f7"
            ],
            [
             0.6,
             "#e6f5d0"
            ],
            [
             0.7,
             "#b8e186"
            ],
            [
             0.8,
             "#7fbc41"
            ],
            [
             0.9,
             "#4d9221"
            ],
            [
             1,
             "#276419"
            ]
           ],
           "sequential": [
            [
             0,
             "#0d0887"
            ],
            [
             0.1111111111111111,
             "#46039f"
            ],
            [
             0.2222222222222222,
             "#7201a8"
            ],
            [
             0.3333333333333333,
             "#9c179e"
            ],
            [
             0.4444444444444444,
             "#bd3786"
            ],
            [
             0.5555555555555556,
             "#d8576b"
            ],
            [
             0.6666666666666666,
             "#ed7953"
            ],
            [
             0.7777777777777778,
             "#fb9f3a"
            ],
            [
             0.8888888888888888,
             "#fdca26"
            ],
            [
             1,
             "#f0f921"
            ]
           ],
           "sequentialminus": [
            [
             0,
             "#0d0887"
            ],
            [
             0.1111111111111111,
             "#46039f"
            ],
            [
             0.2222222222222222,
             "#7201a8"
            ],
            [
             0.3333333333333333,
             "#9c179e"
            ],
            [
             0.4444444444444444,
             "#bd3786"
            ],
            [
             0.5555555555555556,
             "#d8576b"
            ],
            [
             0.6666666666666666,
             "#ed7953"
            ],
            [
             0.7777777777777778,
             "#fb9f3a"
            ],
            [
             0.8888888888888888,
             "#fdca26"
            ],
            [
             1,
             "#f0f921"
            ]
           ]
          },
          "colorway": [
           "#636efa",
           "#EF553B",
           "#00cc96",
           "#ab63fa",
           "#FFA15A",
           "#19d3f3",
           "#FF6692",
           "#B6E880",
           "#FF97FF",
           "#FECB52"
          ],
          "font": {
           "color": "#2a3f5f"
          },
          "geo": {
           "bgcolor": "white",
           "lakecolor": "white",
           "landcolor": "#E5ECF6",
           "showlakes": true,
           "showland": true,
           "subunitcolor": "white"
          },
          "hoverlabel": {
           "align": "left"
          },
          "hovermode": "closest",
          "mapbox": {
           "style": "light"
          },
          "paper_bgcolor": "white",
          "plot_bgcolor": "#E5ECF6",
          "polar": {
           "angularaxis": {
            "gridcolor": "white",
            "linecolor": "white",
            "ticks": ""
           },
           "bgcolor": "#E5ECF6",
           "radialaxis": {
            "gridcolor": "white",
            "linecolor": "white",
            "ticks": ""
           }
          },
          "scene": {
           "xaxis": {
            "backgroundcolor": "#E5ECF6",
            "gridcolor": "white",
            "gridwidth": 2,
            "linecolor": "white",
            "showbackground": true,
            "ticks": "",
            "zerolinecolor": "white"
           },
           "yaxis": {
            "backgroundcolor": "#E5ECF6",
            "gridcolor": "white",
            "gridwidth": 2,
            "linecolor": "white",
            "showbackground": true,
            "ticks": "",
            "zerolinecolor": "white"
           },
           "zaxis": {
            "backgroundcolor": "#E5ECF6",
            "gridcolor": "white",
            "gridwidth": 2,
            "linecolor": "white",
            "showbackground": true,
            "ticks": "",
            "zerolinecolor": "white"
           }
          },
          "shapedefaults": {
           "line": {
            "color": "#2a3f5f"
           }
          },
          "ternary": {
           "aaxis": {
            "gridcolor": "white",
            "linecolor": "white",
            "ticks": ""
           },
           "baxis": {
            "gridcolor": "white",
            "linecolor": "white",
            "ticks": ""
           },
           "bgcolor": "#E5ECF6",
           "caxis": {
            "gridcolor": "white",
            "linecolor": "white",
            "ticks": ""
           }
          },
          "title": {
           "x": 0.05
          },
          "xaxis": {
           "automargin": true,
           "gridcolor": "white",
           "linecolor": "white",
           "ticks": "",
           "title": {
            "standoff": 15
           },
           "zerolinecolor": "white",
           "zerolinewidth": 2
          },
          "yaxis": {
           "automargin": true,
           "gridcolor": "white",
           "linecolor": "white",
           "ticks": "",
           "title": {
            "standoff": 15
           },
           "zerolinecolor": "white",
           "zerolinewidth": 2
          }
         }
        },
        "title": {
         "text": "PETR4"
        },
        "yaxis": {
         "title": {
          "text": "Price"
         }
        }
       }
      }
     },
     "metadata": {},
     "output_type": "display_data"
    },
    {
     "data": {
      "application/vnd.plotly.v1+json": {
       "config": {
        "plotlyServerURL": "https://plot.ly"
       },
       "data": [
        {
         "close": [
          189.3699999999999,
          174.8699999999999,
          155.14999999999964,
          160.94999999999982,
          158.05000000000018,
          202.42000000000007,
          162.69000000000005,
          156.01999999999998,
          187.05000000000018,
          170.51999999999998,
          213.14999999999964,
          183.86000000000013,
          164.13999999999987,
          174,
          163.55999999999995,
          182.40999999999985,
          182.40999999999985,
          145.8699999999999,
          108.75,
          141.80999999999995,
          146.44999999999982,
          146.44999999999982,
          161.8199999999997,
          178.05999999999995,
          226.19999999999982,
          225.0399999999995,
          218.65999999999985,
          193.42999999999984,
          163.55999999999995,
          160.94999999999982,
          189.65999999999985,
          185.01999999999998,
          165.00999999999976,
          166.75,
          172.25999999999976,
          169.64999999999964,
          169.64999999999964,
          163.84999999999945,
          158.05000000000018,
          156.30999999999995,
          146.15999999999985,
          120.05999999999995,
          117.15999999999985,
          121.2199999999998,
          91.63999999999987,
          157.75999999999976,
          160.65999999999985,
          126.14999999999964,
          120.34999999999945,
          129.05000000000018,
          131.94999999999982,
          118.61000000000013,
          116,
          106.13999999999987,
          119.19000000000005,
          134.26999999999998,
          156.30999999999995,
          131.3699999999999,
          111.36000000000013,
          98.88999999999987,
          87.86999999999989,
          188.20999999999958,
          200.67999999999984,
          169.36000000000013,
          175.44999999999982,
          151.95999999999958,
          189.94999999999982,
          151.37999999999965,
          160.94999999999982,
          135.42999999999984,
          157.75999999999976,
          153.40999999999985,
          132.52999999999975,
          160.94999999999982,
          124.40999999999985,
          106.7199999999998,
          121.50999999999976,
          119.76999999999998,
          108.75,
          53.940000000000055,
          62.349999999999454,
          60.61000000000013,
          62.349999999999454,
          42.629999999999654,
          15.079999999999927,
          -2.3200000000001637,
          44.94999999999982,
          60.029999999999745,
          62.63999999999987,
          59.73999999999978,
          66.69999999999982,
          55.9699999999998,
          53.649999999999636,
          49.879999999999654,
          53.06999999999971,
          55.38999999999987,
          67.56999999999971,
          50.75,
          44.36999999999989,
          36.82999999999993,
          -7.25,
          35.95999999999958,
          65.53999999999951,
          5.2199999999998,
          47.26999999999998,
          1.1599999999998545,
          1.1599999999998545
         ],
         "high": [
          189.94999999999982,
          186.75999999999976,
          186.4699999999998,
          180.37999999999965,
          216.62999999999965,
          210.25,
          175.15999999999985,
          203.57999999999993,
          202.70999999999958,
          211.69999999999982,
          218.3699999999999,
          185.59999999999945,
          188.20999999999958,
          186.4699999999998,
          188.20999999999958,
          189.94999999999982,
          189.94999999999982,
          152.25,
          154.5699999999997,
          161.52999999999975,
          156.59999999999945,
          156.59999999999945,
          212.5699999999997,
          226.19999999999982,
          228.51999999999998,
          225.0399999999995,
          224.45999999999958,
          194.00999999999976,
          165.5899999999997,
          189.65999999999985,
          196.90999999999985,
          214.59999999999945,
          186.4699999999998,
          189.94999999999982,
          176.61000000000013,
          182.40999999999985,
          186.75999999999976,
          174.57999999999993,
          174.8699999999999,
          160.65999999999985,
          148.19000000000005,
          148.47999999999956,
          137.75,
          132.8199999999997,
          136.00999999999976,
          182.1199999999999,
          161.23999999999978,
          143.55000000000018,
          138.0399999999995,
          131.65999999999985,
          132.23999999999978,
          134.26999999999998,
          118.89999999999964,
          128.75999999999976,
          134.26999999999998,
          156.01999999999998,
          157.4699999999998,
          131.94999999999982,
          116.57999999999993,
          114.55000000000018,
          187.62999999999965,
          229.09999999999945,
          203.57999999999993,
          211.40999999999985,
          176.61000000000013,
          189.3699999999999,
          189.94999999999982,
          160.94999999999982,
          160.94999999999982,
          157.75999999999976,
          160.94999999999982,
          160.94999999999982,
          160.94999999999982,
          165.30000000000018,
          124.69999999999982,
          128.17999999999984,
          128.17999999999984,
          131.07999999999993,
          111.64999999999964,
          70.17999999999984,
          71.05000000000018,
          61.190000000000055,
          63.80000000000018,
          51.909999999999854,
          23.48999999999978,
          73.65999999999985,
          59.73999999999978,
          66.69999999999982,
          67.56999999999971,
          68.14999999999964,
          68.14999999999964,
          59.73999999999978,
          55.099999999999454,
          54.51999999999998,
          54.51999999999998,
          66.98999999999978,
          68.14999999999964,
          59.44999999999982,
          60.899999999999636,
          44.36999999999989,
          59.44999999999982,
          65.25,
          67.56999999999971,
          83.80999999999995,
          102.94999999999982,
          30.449999999999818,
          30.449999999999818
         ],
         "low": [
          176.89999999999964,
          155.14999999999964,
          155.14999999999964,
          155.14999999999964,
          151.37999999999965,
          163.26999999999998,
          153.69999999999982,
          148.19000000000005,
          171.67999999999984,
          164.7199999999998,
          162.39999999999964,
          148.47999999999956,
          144.70999999999958,
          133.97999999999956,
          151.67000000000007,
          144.70999999999958,
          144.70999999999958,
          104.11000000000013,
          85.25999999999976,
          127.59999999999945,
          120.92999999999984,
          120.92999999999984,
          155.72999999999956,
          158.05000000000018,
          206.76999999999998,
          189.94999999999982,
          176.02999999999975,
          160.94999999999982,
          151.0899999999997,
          150.80000000000018,
          181.82999999999993,
          165.00999999999976,
          160.94999999999982,
          162.97999999999956,
          143.25999999999976,
          162.69000000000005,
          161.23999999999978,
          154.5699999999997,
          152.25,
          131.94999999999982,
          117.44999999999982,
          106.42999999999984,
          95.98999999999978,
          95.40999999999985,
          68.14999999999964,
          147.3199999999997,
          117.44999999999982,
          117.73999999999978,
          117.44999999999982,
          107.30000000000018,
          105.84999999999945,
          103.52999999999975,
          93.95999999999958,
          104.69000000000005,
          116.57999999999993,
          132.52999999999975,
          127.30999999999995,
          103.81999999999971,
          82.94000000000005,
          82.64999999999964,
          69.30999999999995,
          178.63999999999987,
          160.94999999999982,
          157.4699999999998,
          105.84999999999945,
          133.69000000000005,
          151.67000000000007,
          135.42999999999984,
          112.51999999999998,
          120.63999999999987,
          148.76999999999998,
          121.80000000000018,
          112.22999999999956,
          107.58999999999969,
          106.7199999999998,
          91.92999999999984,
          65.82999999999993,
          79.45999999999958,
          47.559999999999945,
          37.98999999999978,
          53.940000000000055,
          31.31999999999971,
          21.75,
          15.949999999999818,
          -5.220000000000255,
          -38.86000000000013,
          11.889999999999873,
          49.58999999999969,
          47.559999999999945,
          48.429999999999836,
          30.449999999999818,
          49.30000000000018,
          44.94999999999982,
          44.94999999999982,
          44.94999999999982,
          44.94999999999982,
          33.349999999999454,
          18.269999999999982,
          37.69999999999982,
          -6.960000000000491,
          -7.540000000000418,
          30.449999999999818,
          2.0299999999997453,
          5.2199999999998,
          1.1599999999998545,
          -31.900000000000546,
          -31.900000000000546
         ],
         "open": [
          188.5,
          163.55999999999995,
          160.94999999999982,
          157.4699999999998,
          207.05999999999995,
          169.64999999999964,
          156.01999999999998,
          187.05000000000018,
          198.64999999999964,
          207.34999999999945,
          184.14999999999964,
          164.13999999999987,
          188.20999999999958,
          150.2199999999998,
          188.20999999999958,
          152.25,
          152.25,
          120.92999999999984,
          137.75,
          146.44999999999982,
          148.47999999999956,
          148.47999999999956,
          178.34999999999945,
          226.19999999999982,
          216.62999999999965,
          214.88999999999987,
          190.52999999999975,
          173.42000000000007,
          160.94999999999982,
          189.65999999999985,
          194.00999999999976,
          169.64999999999964,
          165.30000000000018,
          162.97999999999956,
          176.61000000000013,
          179.50999999999976,
          168.19999999999982,
          159.5,
          152.25,
          131.94999999999982,
          120.05999999999995,
          116.28999999999951,
          122.95999999999958,
          95.40999999999985,
          128.75999999999976,
          166.75,
          126.14999999999964,
          117.73999999999978,
          122.95999999999958,
          131.3699999999999,
          110.19999999999982,
          116,
          116.57999999999993,
          119.19000000000005,
          131.94999999999982,
          156.01999999999998,
          131.94999999999982,
          103.81999999999971,
          107.58999999999969,
          91.92999999999984,
          179.80000000000018,
          196.6199999999999,
          169.36000000000013,
          169.64999999999964,
          138.0399999999995,
          163.26999999999998,
          151.67000000000007,
          160.94999999999982,
          153.40999999999985,
          140.64999999999964,
          153.40999999999985,
          131.94999999999982,
          155.14999999999964,
          113.09999999999945,
          106.7199999999998,
          120.63999999999987,
          119.76999999999998,
          102.94999999999982,
          53.940000000000055,
          66.40999999999985,
          60.029999999999745,
          57.70999999999958,
          42.629999999999654,
          22.61999999999989,
          -1.1600000000003092,
          44.94999999999982,
          27.259999999999764,
          62.63999999999987,
          66.98999999999978,
          66.40999999999985,
          60.61000000000013,
          52.779999999999745,
          49.30000000000018,
          52.48999999999978,
          52.779999999999745,
          64.67000000000007,
          47.559999999999945,
          44.36999999999989,
          38.56999999999971,
          -6.960000000000491,
          32.190000000000055,
          65.25,
          16.23999999999978,
          47.26999999999998,
          1.1599999999998545,
          7.25,
          7.25
         ],
         "type": "candlestick",
         "x": [
          "2023-09-29",
          "2023-09-28",
          "2023-09-27",
          "2023-09-26",
          "2023-09-25",
          "2023-09-22",
          "2023-09-21",
          "2023-09-20",
          "2023-09-19",
          "2023-09-18",
          "2023-09-15",
          "2023-09-14",
          "2023-09-13",
          "2023-09-12",
          "2023-09-11",
          "2023-09-09",
          "2023-09-08",
          "2023-09-06",
          "2023-09-05",
          "2023-09-04",
          "2023-09-02",
          "2023-09-01",
          "2023-08-31",
          "2023-08-30",
          "2023-08-29",
          "2023-08-28",
          "2023-08-25",
          "2023-08-24",
          "2023-08-23",
          "2023-08-22",
          "2023-08-21",
          "2023-08-18",
          "2023-08-17",
          "2023-08-16",
          "2023-08-15",
          "2023-08-14",
          "2023-08-11",
          "2023-08-10",
          "2023-08-09",
          "2023-08-08",
          "2023-08-07",
          "2023-08-04",
          "2023-08-03",
          "2023-08-02",
          "2023-08-01",
          "2023-07-31",
          "2023-07-28",
          "2023-07-27",
          "2023-07-26",
          "2023-07-25",
          "2023-07-24",
          "2023-07-21",
          "2023-07-20",
          "2023-07-19",
          "2023-07-18",
          "2023-07-17",
          "2023-07-14",
          "2023-07-13",
          "2023-07-12",
          "2023-07-11",
          "2023-07-10",
          "2023-07-07",
          "2023-07-06",
          "2023-07-05",
          "2023-07-04",
          "2023-07-03",
          "2023-06-30",
          "2023-06-29",
          "2023-06-28",
          "2023-06-27",
          "2023-06-26",
          "2023-06-23",
          "2023-06-22",
          "2023-06-21",
          "2023-06-20",
          "2023-06-19",
          "2023-06-16",
          "2023-06-15",
          "2023-06-14",
          "2023-06-13",
          "2023-06-12",
          "2023-06-09",
          "2023-06-07",
          "2023-06-06",
          "2023-06-05",
          "2023-06-02",
          "2023-06-01",
          "2023-05-31",
          "2023-05-30",
          "2023-05-29",
          "2023-05-26",
          "2023-05-25",
          "2023-05-24",
          "2023-05-23",
          "2023-05-22",
          "2023-05-19",
          "2023-05-18",
          "2023-05-17",
          "2023-05-16",
          "2023-05-15",
          "2023-05-12",
          "2023-05-11",
          "2023-05-10",
          "2023-05-09",
          "2023-05-08",
          "2023-05-06",
          "2023-05-05"
         ]
        }
       ],
       "layout": {
        "template": {
         "data": {
          "bar": [
           {
            "error_x": {
             "color": "#2a3f5f"
            },
            "error_y": {
             "color": "#2a3f5f"
            },
            "marker": {
             "line": {
              "color": "#E5ECF6",
              "width": 0.5
             },
             "pattern": {
              "fillmode": "overlay",
              "size": 10,
              "solidity": 0.2
             }
            },
            "type": "bar"
           }
          ],
          "barpolar": [
           {
            "marker": {
             "line": {
              "color": "#E5ECF6",
              "width": 0.5
             },
             "pattern": {
              "fillmode": "overlay",
              "size": 10,
              "solidity": 0.2
             }
            },
            "type": "barpolar"
           }
          ],
          "carpet": [
           {
            "aaxis": {
             "endlinecolor": "#2a3f5f",
             "gridcolor": "white",
             "linecolor": "white",
             "minorgridcolor": "white",
             "startlinecolor": "#2a3f5f"
            },
            "baxis": {
             "endlinecolor": "#2a3f5f",
             "gridcolor": "white",
             "linecolor": "white",
             "minorgridcolor": "white",
             "startlinecolor": "#2a3f5f"
            },
            "type": "carpet"
           }
          ],
          "choropleth": [
           {
            "colorbar": {
             "outlinewidth": 0,
             "ticks": ""
            },
            "type": "choropleth"
           }
          ],
          "contour": [
           {
            "colorbar": {
             "outlinewidth": 0,
             "ticks": ""
            },
            "colorscale": [
             [
              0,
              "#0d0887"
             ],
             [
              0.1111111111111111,
              "#46039f"
             ],
             [
              0.2222222222222222,
              "#7201a8"
             ],
             [
              0.3333333333333333,
              "#9c179e"
             ],
             [
              0.4444444444444444,
              "#bd3786"
             ],
             [
              0.5555555555555556,
              "#d8576b"
             ],
             [
              0.6666666666666666,
              "#ed7953"
             ],
             [
              0.7777777777777778,
              "#fb9f3a"
             ],
             [
              0.8888888888888888,
              "#fdca26"
             ],
             [
              1,
              "#f0f921"
             ]
            ],
            "type": "contour"
           }
          ],
          "contourcarpet": [
           {
            "colorbar": {
             "outlinewidth": 0,
             "ticks": ""
            },
            "type": "contourcarpet"
           }
          ],
          "heatmap": [
           {
            "colorbar": {
             "outlinewidth": 0,
             "ticks": ""
            },
            "colorscale": [
             [
              0,
              "#0d0887"
             ],
             [
              0.1111111111111111,
              "#46039f"
             ],
             [
              0.2222222222222222,
              "#7201a8"
             ],
             [
              0.3333333333333333,
              "#9c179e"
             ],
             [
              0.4444444444444444,
              "#bd3786"
             ],
             [
              0.5555555555555556,
              "#d8576b"
             ],
             [
              0.6666666666666666,
              "#ed7953"
             ],
             [
              0.7777777777777778,
              "#fb9f3a"
             ],
             [
              0.8888888888888888,
              "#fdca26"
             ],
             [
              1,
              "#f0f921"
             ]
            ],
            "type": "heatmap"
           }
          ],
          "heatmapgl": [
           {
            "colorbar": {
             "outlinewidth": 0,
             "ticks": ""
            },
            "colorscale": [
             [
              0,
              "#0d0887"
             ],
             [
              0.1111111111111111,
              "#46039f"
             ],
             [
              0.2222222222222222,
              "#7201a8"
             ],
             [
              0.3333333333333333,
              "#9c179e"
             ],
             [
              0.4444444444444444,
              "#bd3786"
             ],
             [
              0.5555555555555556,
              "#d8576b"
             ],
             [
              0.6666666666666666,
              "#ed7953"
             ],
             [
              0.7777777777777778,
              "#fb9f3a"
             ],
             [
              0.8888888888888888,
              "#fdca26"
             ],
             [
              1,
              "#f0f921"
             ]
            ],
            "type": "heatmapgl"
           }
          ],
          "histogram": [
           {
            "marker": {
             "pattern": {
              "fillmode": "overlay",
              "size": 10,
              "solidity": 0.2
             }
            },
            "type": "histogram"
           }
          ],
          "histogram2d": [
           {
            "colorbar": {
             "outlinewidth": 0,
             "ticks": ""
            },
            "colorscale": [
             [
              0,
              "#0d0887"
             ],
             [
              0.1111111111111111,
              "#46039f"
             ],
             [
              0.2222222222222222,
              "#7201a8"
             ],
             [
              0.3333333333333333,
              "#9c179e"
             ],
             [
              0.4444444444444444,
              "#bd3786"
             ],
             [
              0.5555555555555556,
              "#d8576b"
             ],
             [
              0.6666666666666666,
              "#ed7953"
             ],
             [
              0.7777777777777778,
              "#fb9f3a"
             ],
             [
              0.8888888888888888,
              "#fdca26"
             ],
             [
              1,
              "#f0f921"
             ]
            ],
            "type": "histogram2d"
           }
          ],
          "histogram2dcontour": [
           {
            "colorbar": {
             "outlinewidth": 0,
             "ticks": ""
            },
            "colorscale": [
             [
              0,
              "#0d0887"
             ],
             [
              0.1111111111111111,
              "#46039f"
             ],
             [
              0.2222222222222222,
              "#7201a8"
             ],
             [
              0.3333333333333333,
              "#9c179e"
             ],
             [
              0.4444444444444444,
              "#bd3786"
             ],
             [
              0.5555555555555556,
              "#d8576b"
             ],
             [
              0.6666666666666666,
              "#ed7953"
             ],
             [
              0.7777777777777778,
              "#fb9f3a"
             ],
             [
              0.8888888888888888,
              "#fdca26"
             ],
             [
              1,
              "#f0f921"
             ]
            ],
            "type": "histogram2dcontour"
           }
          ],
          "mesh3d": [
           {
            "colorbar": {
             "outlinewidth": 0,
             "ticks": ""
            },
            "type": "mesh3d"
           }
          ],
          "parcoords": [
           {
            "line": {
             "colorbar": {
              "outlinewidth": 0,
              "ticks": ""
             }
            },
            "type": "parcoords"
           }
          ],
          "pie": [
           {
            "automargin": true,
            "type": "pie"
           }
          ],
          "scatter": [
           {
            "marker": {
             "colorbar": {
              "outlinewidth": 0,
              "ticks": ""
             }
            },
            "type": "scatter"
           }
          ],
          "scatter3d": [
           {
            "line": {
             "colorbar": {
              "outlinewidth": 0,
              "ticks": ""
             }
            },
            "marker": {
             "colorbar": {
              "outlinewidth": 0,
              "ticks": ""
             }
            },
            "type": "scatter3d"
           }
          ],
          "scattercarpet": [
           {
            "marker": {
             "colorbar": {
              "outlinewidth": 0,
              "ticks": ""
             }
            },
            "type": "scattercarpet"
           }
          ],
          "scattergeo": [
           {
            "marker": {
             "colorbar": {
              "outlinewidth": 0,
              "ticks": ""
             }
            },
            "type": "scattergeo"
           }
          ],
          "scattergl": [
           {
            "marker": {
             "colorbar": {
              "outlinewidth": 0,
              "ticks": ""
             }
            },
            "type": "scattergl"
           }
          ],
          "scattermapbox": [
           {
            "marker": {
             "colorbar": {
              "outlinewidth": 0,
              "ticks": ""
             }
            },
            "type": "scattermapbox"
           }
          ],
          "scatterpolar": [
           {
            "marker": {
             "colorbar": {
              "outlinewidth": 0,
              "ticks": ""
             }
            },
            "type": "scatterpolar"
           }
          ],
          "scatterpolargl": [
           {
            "marker": {
             "colorbar": {
              "outlinewidth": 0,
              "ticks": ""
             }
            },
            "type": "scatterpolargl"
           }
          ],
          "scatterternary": [
           {
            "marker": {
             "colorbar": {
              "outlinewidth": 0,
              "ticks": ""
             }
            },
            "type": "scatterternary"
           }
          ],
          "surface": [
           {
            "colorbar": {
             "outlinewidth": 0,
             "ticks": ""
            },
            "colorscale": [
             [
              0,
              "#0d0887"
             ],
             [
              0.1111111111111111,
              "#46039f"
             ],
             [
              0.2222222222222222,
              "#7201a8"
             ],
             [
              0.3333333333333333,
              "#9c179e"
             ],
             [
              0.4444444444444444,
              "#bd3786"
             ],
             [
              0.5555555555555556,
              "#d8576b"
             ],
             [
              0.6666666666666666,
              "#ed7953"
             ],
             [
              0.7777777777777778,
              "#fb9f3a"
             ],
             [
              0.8888888888888888,
              "#fdca26"
             ],
             [
              1,
              "#f0f921"
             ]
            ],
            "type": "surface"
           }
          ],
          "table": [
           {
            "cells": {
             "fill": {
              "color": "#EBF0F8"
             },
             "line": {
              "color": "white"
             }
            },
            "header": {
             "fill": {
              "color": "#C8D4E3"
             },
             "line": {
              "color": "white"
             }
            },
            "type": "table"
           }
          ]
         },
         "layout": {
          "annotationdefaults": {
           "arrowcolor": "#2a3f5f",
           "arrowhead": 0,
           "arrowwidth": 1
          },
          "autotypenumbers": "strict",
          "coloraxis": {
           "colorbar": {
            "outlinewidth": 0,
            "ticks": ""
           }
          },
          "colorscale": {
           "diverging": [
            [
             0,
             "#8e0152"
            ],
            [
             0.1,
             "#c51b7d"
            ],
            [
             0.2,
             "#de77ae"
            ],
            [
             0.3,
             "#f1b6da"
            ],
            [
             0.4,
             "#fde0ef"
            ],
            [
             0.5,
             "#f7f7f7"
            ],
            [
             0.6,
             "#e6f5d0"
            ],
            [
             0.7,
             "#b8e186"
            ],
            [
             0.8,
             "#7fbc41"
            ],
            [
             0.9,
             "#4d9221"
            ],
            [
             1,
             "#276419"
            ]
           ],
           "sequential": [
            [
             0,
             "#0d0887"
            ],
            [
             0.1111111111111111,
             "#46039f"
            ],
            [
             0.2222222222222222,
             "#7201a8"
            ],
            [
             0.3333333333333333,
             "#9c179e"
            ],
            [
             0.4444444444444444,
             "#bd3786"
            ],
            [
             0.5555555555555556,
             "#d8576b"
            ],
            [
             0.6666666666666666,
             "#ed7953"
            ],
            [
             0.7777777777777778,
             "#fb9f3a"
            ],
            [
             0.8888888888888888,
             "#fdca26"
            ],
            [
             1,
             "#f0f921"
            ]
           ],
           "sequentialminus": [
            [
             0,
             "#0d0887"
            ],
            [
             0.1111111111111111,
             "#46039f"
            ],
            [
             0.2222222222222222,
             "#7201a8"
            ],
            [
             0.3333333333333333,
             "#9c179e"
            ],
            [
             0.4444444444444444,
             "#bd3786"
            ],
            [
             0.5555555555555556,
             "#d8576b"
            ],
            [
             0.6666666666666666,
             "#ed7953"
            ],
            [
             0.7777777777777778,
             "#fb9f3a"
            ],
            [
             0.8888888888888888,
             "#fdca26"
            ],
            [
             1,
             "#f0f921"
            ]
           ]
          },
          "colorway": [
           "#636efa",
           "#EF553B",
           "#00cc96",
           "#ab63fa",
           "#FFA15A",
           "#19d3f3",
           "#FF6692",
           "#B6E880",
           "#FF97FF",
           "#FECB52"
          ],
          "font": {
           "color": "#2a3f5f"
          },
          "geo": {
           "bgcolor": "white",
           "lakecolor": "white",
           "landcolor": "#E5ECF6",
           "showlakes": true,
           "showland": true,
           "subunitcolor": "white"
          },
          "hoverlabel": {
           "align": "left"
          },
          "hovermode": "closest",
          "mapbox": {
           "style": "light"
          },
          "paper_bgcolor": "white",
          "plot_bgcolor": "#E5ECF6",
          "polar": {
           "angularaxis": {
            "gridcolor": "white",
            "linecolor": "white",
            "ticks": ""
           },
           "bgcolor": "#E5ECF6",
           "radialaxis": {
            "gridcolor": "white",
            "linecolor": "white",
            "ticks": ""
           }
          },
          "scene": {
           "xaxis": {
            "backgroundcolor": "#E5ECF6",
            "gridcolor": "white",
            "gridwidth": 2,
            "linecolor": "white",
            "showbackground": true,
            "ticks": "",
            "zerolinecolor": "white"
           },
           "yaxis": {
            "backgroundcolor": "#E5ECF6",
            "gridcolor": "white",
            "gridwidth": 2,
            "linecolor": "white",
            "showbackground": true,
            "ticks": "",
            "zerolinecolor": "white"
           },
           "zaxis": {
            "backgroundcolor": "#E5ECF6",
            "gridcolor": "white",
            "gridwidth": 2,
            "linecolor": "white",
            "showbackground": true,
            "ticks": "",
            "zerolinecolor": "white"
           }
          },
          "shapedefaults": {
           "line": {
            "color": "#2a3f5f"
           }
          },
          "ternary": {
           "aaxis": {
            "gridcolor": "white",
            "linecolor": "white",
            "ticks": ""
           },
           "baxis": {
            "gridcolor": "white",
            "linecolor": "white",
            "ticks": ""
           },
           "bgcolor": "#E5ECF6",
           "caxis": {
            "gridcolor": "white",
            "linecolor": "white",
            "ticks": ""
           }
          },
          "title": {
           "x": 0.05
          },
          "xaxis": {
           "automargin": true,
           "gridcolor": "white",
           "linecolor": "white",
           "ticks": "",
           "title": {
            "standoff": 15
           },
           "zerolinecolor": "white",
           "zerolinewidth": 2
          },
          "yaxis": {
           "automargin": true,
           "gridcolor": "white",
           "linecolor": "white",
           "ticks": "",
           "title": {
            "standoff": 15
           },
           "zerolinecolor": "white",
           "zerolinewidth": 2
          }
         }
        },
        "title": {
         "text": "XPCI11"
        },
        "yaxis": {
         "title": {
          "text": "Profit"
         }
        }
       }
      }
     },
     "metadata": {},
     "output_type": "display_data"
    },
    {
     "data": {
      "application/vnd.plotly.v1+json": {
       "config": {
        "plotlyServerURL": "https://plot.ly"
       },
       "data": [
        {
         "close": [
          321,
          290.99999999999955,
          327,
          288,
          272.6999999999998,
          24150,
          406.5,
          401.6999999999998,
          364.1999999999998,
          389.6999999999998,
          389.6999999999998,
          408,
          404.4000000000001,
          393.89999999999964,
          369.5999999999999,
          362.7000000000003,
          355.5,
          345.3000000000002,
          334.5,
          325.5,
          303,
          286.5,
          309.3000000000002,
          293.0999999999999,
          291.5999999999999,
          288,
          322.5,
          324,
          300,
          296.10000000000036,
          276,
          291.9000000000001,
          325.2000000000003,
          341.39999999999964,
          328.1999999999998,
          320.6999999999998,
          319.5,
          290.6999999999998,
          269.6999999999998,
          243.30000000000018,
          227.0999999999999,
          266.10000000000036,
          260.4000000000001,
          239.4000000000001,
          225,
          243.30000000000018,
          251.39999999999964,
          311.10000000000036,
          301.8000000000002,
          300,
          358.7999999999997,
          339.5999999999999,
          325.8000000000002,
          325.5,
          331.8000000000002,
          343.5,
          341.39999999999964,
          365.4000000000001,
          351.9000000000001,
          350.0999999999999,
          284.6999999999998,
          276.2999999999997,
          262.1999999999998,
          249,
          223.19999999999982,
          195,
          187.80000000000018,
          189.5999999999999,
          164.4000000000001,
          168.89999999999964,
          184.79999999999973,
          172.19999999999982,
          161.10000000000036,
          148.79999999999973,
          143.4000000000001,
          161.10000000000036,
          162,
          164.4000000000001,
          109.5,
          137.70000000000027,
          138.30000000000018,
          127.5,
          116.39999999999964,
          136.5,
          142.80000000000018,
          139.5,
          132.9000000000001,
          145.80000000000018,
          136.80000000000018,
          129.9000000000001,
          114.30000000000018,
          124.19999999999982,
          88.5,
          96.90000000000009,
          78,
          74.69999999999982,
          50.40000000000009,
          65.40000000000009,
          53.40000000000009,
          39,
          21,
          -3
         ],
         "high": [
          335.99999999999955,
          360,
          341.99999999999955,
          369.00000000000045,
          357.5999999999999,
          24500.999999999996,
          406.5,
          401.6999999999998,
          421.5,
          424.1999999999998,
          417.2999999999997,
          413.7000000000003,
          408.60000000000036,
          400.5,
          387,
          373.1999999999998,
          355.5,
          350.4000000000001,
          344.6999999999998,
          329.6999999999998,
          306.2999999999997,
          318,
          315,
          297.9000000000001,
          312.5999999999999,
          349.7999999999997,
          335.0999999999999,
          327,
          314.4000000000001,
          309,
          295.5,
          330,
          330,
          344.0999999999999,
          330,
          320.6999999999998,
          321,
          297.5999999999999,
          279.3000000000002,
          261,
          267.9000000000001,
          268.1999999999998,
          262.1999999999998,
          247.5,
          252.5999999999999,
          263.7000000000003,
          315,
          318,
          324,
          368.7000000000003,
          364.7999999999997,
          342.9000000000001,
          338.4000000000001,
          334.7999999999997,
          355.5,
          356.6999999999998,
          373.1999999999998,
          369,
          357,
          357.9000000000001,
          336,
          282,
          269.4000000000001,
          249,
          247.80000000000018,
          223.5,
          189,
          189.5999999999999,
          178.5,
          192,
          195.9000000000001,
          186,
          201.9000000000001,
          156.5999999999999,
          148.5,
          180,
          173.70000000000027,
          165,
          171,
          143.70000000000027,
          153,
          141,
          150,
          151.5,
          165,
          150,
          163.79999999999973,
          159.30000000000018,
          152.4000000000001,
          133.5,
          135,
          131.39999999999964,
          117.90000000000009,
          105,
          88.5,
          89.40000000000009,
          93,
          74.09999999999991,
          54,
          42,
          21,
          0
         ],
         "low": [
          290.99999999999955,
          290.99999999999955,
          306,
          273.00000000000045,
          258,
          24102,
          356.6999999999998,
          349.1999999999998,
          364.1999999999998,
          319.5,
          375,
          393,
          387.2999999999997,
          369.9000000000001,
          357.2999999999997,
          345,
          316.5,
          331.5,
          327,
          303,
          290.0999999999999,
          283.5,
          292.5,
          285,
          288,
          282.2999999999997,
          308.4000000000001,
          294,
          291.9000000000001,
          261.9000000000001,
          255,
          276.2999999999997,
          292.8000000000002,
          306,
          300.9000000000001,
          296.39999999999964,
          288.60000000000036,
          269.6999999999998,
          240.5999999999999,
          234,
          219,
          255,
          231,
          227.4000000000001,
          225,
          230.4000000000001,
          243.89999999999964,
          286.5,
          300,
          290.0999999999999,
          332.0999999999999,
          322.5,
          303.60000000000036,
          288.60000000000036,
          318.60000000000036,
          340.2000000000003,
          336,
          346.8000000000002,
          315,
          289.5,
          265.2000000000003,
          256.5,
          243.89999999999964,
          223.19999999999982,
          187.19999999999982,
          177,
          168.89999999999964,
          161.39999999999964,
          162,
          159.9000000000001,
          173.0999999999999,
          159.9000000000001,
          150,
          131.10000000000036,
          124.19999999999982,
          147.29999999999973,
          154.79999999999973,
          111.90000000000009,
          96,
          132,
          129,
          90.30000000000018,
          114.59999999999991,
          128.4000000000001,
          111.29999999999973,
          120,
          127.80000000000018,
          124.5,
          120.59999999999991,
          114,
          105,
          99,
          84.59999999999991,
          72.90000000000009,
          69.59999999999991,
          38.40000000000009,
          37.80000000000018,
          38.09999999999991,
          39,
          18.899999999999636,
          -1.800000000000182,
          -14.099999999999909
         ],
         "open": [
          309,
          333,
          321,
          285,
          353.7000000000003,
          24396,
          400.5,
          372,
          390,
          341.39999999999964,
          403.7999999999997,
          405,
          393.89999999999964,
          369.9000000000001,
          362.7000000000003,
          356.6999999999998,
          348,
          334.5,
          327,
          303,
          294.3000000000002,
          309.3000000000002,
          293.0999999999999,
          291.5999999999999,
          294,
          333,
          320.4000000000001,
          300,
          296.10000000000036,
          286.5,
          292.5,
          325.2000000000003,
          292.8000000000002,
          327.9000000000001,
          320.4000000000001,
          319.5,
          300,
          269.6999999999998,
          247.5,
          238.79999999999973,
          266.10000000000036,
          260.4000000000001,
          240,
          231.9000000000001,
          243.30000000000018,
          249.30000000000018,
          310.2000000000003,
          309,
          300,
          358.7999999999997,
          339.3000000000002,
          325.5,
          306.5999999999999,
          331.8000000000002,
          344.6999999999998,
          341.39999999999964,
          360.5999999999999,
          351.9000000000001,
          350.0999999999999,
          291,
          282,
          262.1999999999998,
          249,
          223.19999999999982,
          203.0999999999999,
          188.70000000000027,
          189,
          164.4000000000001,
          170.0999999999999,
          187.5,
          173.0999999999999,
          165.5999999999999,
          150.9000000000001,
          143.4000000000001,
          135,
          160.5,
          164.4000000000001,
          121.80000000000018,
          139.5,
          139.5,
          129,
          121.80000000000018,
          142.5,
          142.80000000000018,
          139.5,
          135.30000000000018,
          150,
          137.4000000000001,
          129,
          117,
          123,
          99,
          105,
          78.60000000000036,
          75,
          56.100000000000364,
          60,
          53.09999999999991,
          39,
          24.90000000000009,
          0,
          -5.699999999999818
         ],
         "type": "candlestick",
         "x": [
          "2023-09-29",
          "2023-09-28",
          "2023-09-27",
          "2023-09-26",
          "2023-09-25",
          "2023-09-22",
          "2023-09-19",
          "2023-09-18",
          "2023-09-15",
          "2023-09-14",
          "2023-09-13",
          "2023-09-12",
          "2023-09-11",
          "2023-09-08",
          "2023-09-06",
          "2023-09-05",
          "2023-09-04",
          "2023-09-01",
          "2023-08-31",
          "2023-08-30",
          "2023-08-29",
          "2023-08-28",
          "2023-08-25",
          "2023-08-24",
          "2023-08-23",
          "2023-08-22",
          "2023-08-21",
          "2023-08-18",
          "2023-08-17",
          "2023-08-16",
          "2023-08-15",
          "2023-08-14",
          "2023-08-11",
          "2023-08-10",
          "2023-08-09",
          "2023-08-08",
          "2023-08-07",
          "2023-08-04",
          "2023-08-03",
          "2023-08-02",
          "2023-08-01",
          "2023-07-31",
          "2023-07-28",
          "2023-07-27",
          "2023-07-26",
          "2023-07-25",
          "2023-07-24",
          "2023-07-21",
          "2023-07-20",
          "2023-07-19",
          "2023-07-18",
          "2023-07-17",
          "2023-07-14",
          "2023-07-13",
          "2023-07-12",
          "2023-07-11",
          "2023-07-10",
          "2023-07-07",
          "2023-07-06",
          "2023-07-05",
          "2023-07-04",
          "2023-07-03",
          "2023-06-30",
          "2023-06-29",
          "2023-06-28",
          "2023-06-27",
          "2023-06-26",
          "2023-06-23",
          "2023-06-22",
          "2023-06-21",
          "2023-06-20",
          "2023-06-19",
          "2023-06-16",
          "2023-06-15",
          "2023-06-14",
          "2023-06-13",
          "2023-06-12",
          "2023-06-09",
          "2023-06-07",
          "2023-06-06",
          "2023-06-05",
          "2023-06-02",
          "2023-06-01",
          "2023-05-31",
          "2023-05-30",
          "2023-05-29",
          "2023-05-26",
          "2023-05-25",
          "2023-05-24",
          "2023-05-23",
          "2023-05-22",
          "2023-05-19",
          "2023-05-18",
          "2023-05-17",
          "2023-05-16",
          "2023-05-15",
          "2023-05-12",
          "2023-05-11",
          "2023-05-10",
          "2023-05-09",
          "2023-05-08",
          "2023-05-05"
         ]
        }
       ],
       "layout": {
        "template": {
         "data": {
          "bar": [
           {
            "error_x": {
             "color": "#2a3f5f"
            },
            "error_y": {
             "color": "#2a3f5f"
            },
            "marker": {
             "line": {
              "color": "#E5ECF6",
              "width": 0.5
             },
             "pattern": {
              "fillmode": "overlay",
              "size": 10,
              "solidity": 0.2
             }
            },
            "type": "bar"
           }
          ],
          "barpolar": [
           {
            "marker": {
             "line": {
              "color": "#E5ECF6",
              "width": 0.5
             },
             "pattern": {
              "fillmode": "overlay",
              "size": 10,
              "solidity": 0.2
             }
            },
            "type": "barpolar"
           }
          ],
          "carpet": [
           {
            "aaxis": {
             "endlinecolor": "#2a3f5f",
             "gridcolor": "white",
             "linecolor": "white",
             "minorgridcolor": "white",
             "startlinecolor": "#2a3f5f"
            },
            "baxis": {
             "endlinecolor": "#2a3f5f",
             "gridcolor": "white",
             "linecolor": "white",
             "minorgridcolor": "white",
             "startlinecolor": "#2a3f5f"
            },
            "type": "carpet"
           }
          ],
          "choropleth": [
           {
            "colorbar": {
             "outlinewidth": 0,
             "ticks": ""
            },
            "type": "choropleth"
           }
          ],
          "contour": [
           {
            "colorbar": {
             "outlinewidth": 0,
             "ticks": ""
            },
            "colorscale": [
             [
              0,
              "#0d0887"
             ],
             [
              0.1111111111111111,
              "#46039f"
             ],
             [
              0.2222222222222222,
              "#7201a8"
             ],
             [
              0.3333333333333333,
              "#9c179e"
             ],
             [
              0.4444444444444444,
              "#bd3786"
             ],
             [
              0.5555555555555556,
              "#d8576b"
             ],
             [
              0.6666666666666666,
              "#ed7953"
             ],
             [
              0.7777777777777778,
              "#fb9f3a"
             ],
             [
              0.8888888888888888,
              "#fdca26"
             ],
             [
              1,
              "#f0f921"
             ]
            ],
            "type": "contour"
           }
          ],
          "contourcarpet": [
           {
            "colorbar": {
             "outlinewidth": 0,
             "ticks": ""
            },
            "type": "contourcarpet"
           }
          ],
          "heatmap": [
           {
            "colorbar": {
             "outlinewidth": 0,
             "ticks": ""
            },
            "colorscale": [
             [
              0,
              "#0d0887"
             ],
             [
              0.1111111111111111,
              "#46039f"
             ],
             [
              0.2222222222222222,
              "#7201a8"
             ],
             [
              0.3333333333333333,
              "#9c179e"
             ],
             [
              0.4444444444444444,
              "#bd3786"
             ],
             [
              0.5555555555555556,
              "#d8576b"
             ],
             [
              0.6666666666666666,
              "#ed7953"
             ],
             [
              0.7777777777777778,
              "#fb9f3a"
             ],
             [
              0.8888888888888888,
              "#fdca26"
             ],
             [
              1,
              "#f0f921"
             ]
            ],
            "type": "heatmap"
           }
          ],
          "heatmapgl": [
           {
            "colorbar": {
             "outlinewidth": 0,
             "ticks": ""
            },
            "colorscale": [
             [
              0,
              "#0d0887"
             ],
             [
              0.1111111111111111,
              "#46039f"
             ],
             [
              0.2222222222222222,
              "#7201a8"
             ],
             [
              0.3333333333333333,
              "#9c179e"
             ],
             [
              0.4444444444444444,
              "#bd3786"
             ],
             [
              0.5555555555555556,
              "#d8576b"
             ],
             [
              0.6666666666666666,
              "#ed7953"
             ],
             [
              0.7777777777777778,
              "#fb9f3a"
             ],
             [
              0.8888888888888888,
              "#fdca26"
             ],
             [
              1,
              "#f0f921"
             ]
            ],
            "type": "heatmapgl"
           }
          ],
          "histogram": [
           {
            "marker": {
             "pattern": {
              "fillmode": "overlay",
              "size": 10,
              "solidity": 0.2
             }
            },
            "type": "histogram"
           }
          ],
          "histogram2d": [
           {
            "colorbar": {
             "outlinewidth": 0,
             "ticks": ""
            },
            "colorscale": [
             [
              0,
              "#0d0887"
             ],
             [
              0.1111111111111111,
              "#46039f"
             ],
             [
              0.2222222222222222,
              "#7201a8"
             ],
             [
              0.3333333333333333,
              "#9c179e"
             ],
             [
              0.4444444444444444,
              "#bd3786"
             ],
             [
              0.5555555555555556,
              "#d8576b"
             ],
             [
              0.6666666666666666,
              "#ed7953"
             ],
             [
              0.7777777777777778,
              "#fb9f3a"
             ],
             [
              0.8888888888888888,
              "#fdca26"
             ],
             [
              1,
              "#f0f921"
             ]
            ],
            "type": "histogram2d"
           }
          ],
          "histogram2dcontour": [
           {
            "colorbar": {
             "outlinewidth": 0,
             "ticks": ""
            },
            "colorscale": [
             [
              0,
              "#0d0887"
             ],
             [
              0.1111111111111111,
              "#46039f"
             ],
             [
              0.2222222222222222,
              "#7201a8"
             ],
             [
              0.3333333333333333,
              "#9c179e"
             ],
             [
              0.4444444444444444,
              "#bd3786"
             ],
             [
              0.5555555555555556,
              "#d8576b"
             ],
             [
              0.6666666666666666,
              "#ed7953"
             ],
             [
              0.7777777777777778,
              "#fb9f3a"
             ],
             [
              0.8888888888888888,
              "#fdca26"
             ],
             [
              1,
              "#f0f921"
             ]
            ],
            "type": "histogram2dcontour"
           }
          ],
          "mesh3d": [
           {
            "colorbar": {
             "outlinewidth": 0,
             "ticks": ""
            },
            "type": "mesh3d"
           }
          ],
          "parcoords": [
           {
            "line": {
             "colorbar": {
              "outlinewidth": 0,
              "ticks": ""
             }
            },
            "type": "parcoords"
           }
          ],
          "pie": [
           {
            "automargin": true,
            "type": "pie"
           }
          ],
          "scatter": [
           {
            "marker": {
             "colorbar": {
              "outlinewidth": 0,
              "ticks": ""
             }
            },
            "type": "scatter"
           }
          ],
          "scatter3d": [
           {
            "line": {
             "colorbar": {
              "outlinewidth": 0,
              "ticks": ""
             }
            },
            "marker": {
             "colorbar": {
              "outlinewidth": 0,
              "ticks": ""
             }
            },
            "type": "scatter3d"
           }
          ],
          "scattercarpet": [
           {
            "marker": {
             "colorbar": {
              "outlinewidth": 0,
              "ticks": ""
             }
            },
            "type": "scattercarpet"
           }
          ],
          "scattergeo": [
           {
            "marker": {
             "colorbar": {
              "outlinewidth": 0,
              "ticks": ""
             }
            },
            "type": "scattergeo"
           }
          ],
          "scattergl": [
           {
            "marker": {
             "colorbar": {
              "outlinewidth": 0,
              "ticks": ""
             }
            },
            "type": "scattergl"
           }
          ],
          "scattermapbox": [
           {
            "marker": {
             "colorbar": {
              "outlinewidth": 0,
              "ticks": ""
             }
            },
            "type": "scattermapbox"
           }
          ],
          "scatterpolar": [
           {
            "marker": {
             "colorbar": {
              "outlinewidth": 0,
              "ticks": ""
             }
            },
            "type": "scatterpolar"
           }
          ],
          "scatterpolargl": [
           {
            "marker": {
             "colorbar": {
              "outlinewidth": 0,
              "ticks": ""
             }
            },
            "type": "scatterpolargl"
           }
          ],
          "scatterternary": [
           {
            "marker": {
             "colorbar": {
              "outlinewidth": 0,
              "ticks": ""
             }
            },
            "type": "scatterternary"
           }
          ],
          "surface": [
           {
            "colorbar": {
             "outlinewidth": 0,
             "ticks": ""
            },
            "colorscale": [
             [
              0,
              "#0d0887"
             ],
             [
              0.1111111111111111,
              "#46039f"
             ],
             [
              0.2222222222222222,
              "#7201a8"
             ],
             [
              0.3333333333333333,
              "#9c179e"
             ],
             [
              0.4444444444444444,
              "#bd3786"
             ],
             [
              0.5555555555555556,
              "#d8576b"
             ],
             [
              0.6666666666666666,
              "#ed7953"
             ],
             [
              0.7777777777777778,
              "#fb9f3a"
             ],
             [
              0.8888888888888888,
              "#fdca26"
             ],
             [
              1,
              "#f0f921"
             ]
            ],
            "type": "surface"
           }
          ],
          "table": [
           {
            "cells": {
             "fill": {
              "color": "#EBF0F8"
             },
             "line": {
              "color": "white"
             }
            },
            "header": {
             "fill": {
              "color": "#C8D4E3"
             },
             "line": {
              "color": "white"
             }
            },
            "type": "table"
           }
          ]
         },
         "layout": {
          "annotationdefaults": {
           "arrowcolor": "#2a3f5f",
           "arrowhead": 0,
           "arrowwidth": 1
          },
          "autotypenumbers": "strict",
          "coloraxis": {
           "colorbar": {
            "outlinewidth": 0,
            "ticks": ""
           }
          },
          "colorscale": {
           "diverging": [
            [
             0,
             "#8e0152"
            ],
            [
             0.1,
             "#c51b7d"
            ],
            [
             0.2,
             "#de77ae"
            ],
            [
             0.3,
             "#f1b6da"
            ],
            [
             0.4,
             "#fde0ef"
            ],
            [
             0.5,
             "#f7f7f7"
            ],
            [
             0.6,
             "#e6f5d0"
            ],
            [
             0.7,
             "#b8e186"
            ],
            [
             0.8,
             "#7fbc41"
            ],
            [
             0.9,
             "#4d9221"
            ],
            [
             1,
             "#276419"
            ]
           ],
           "sequential": [
            [
             0,
             "#0d0887"
            ],
            [
             0.1111111111111111,
             "#46039f"
            ],
            [
             0.2222222222222222,
             "#7201a8"
            ],
            [
             0.3333333333333333,
             "#9c179e"
            ],
            [
             0.4444444444444444,
             "#bd3786"
            ],
            [
             0.5555555555555556,
             "#d8576b"
            ],
            [
             0.6666666666666666,
             "#ed7953"
            ],
            [
             0.7777777777777778,
             "#fb9f3a"
            ],
            [
             0.8888888888888888,
             "#fdca26"
            ],
            [
             1,
             "#f0f921"
            ]
           ],
           "sequentialminus": [
            [
             0,
             "#0d0887"
            ],
            [
             0.1111111111111111,
             "#46039f"
            ],
            [
             0.2222222222222222,
             "#7201a8"
            ],
            [
             0.3333333333333333,
             "#9c179e"
            ],
            [
             0.4444444444444444,
             "#bd3786"
            ],
            [
             0.5555555555555556,
             "#d8576b"
            ],
            [
             0.6666666666666666,
             "#ed7953"
            ],
            [
             0.7777777777777778,
             "#fb9f3a"
            ],
            [
             0.8888888888888888,
             "#fdca26"
            ],
            [
             1,
             "#f0f921"
            ]
           ]
          },
          "colorway": [
           "#636efa",
           "#EF553B",
           "#00cc96",
           "#ab63fa",
           "#FFA15A",
           "#19d3f3",
           "#FF6692",
           "#B6E880",
           "#FF97FF",
           "#FECB52"
          ],
          "font": {
           "color": "#2a3f5f"
          },
          "geo": {
           "bgcolor": "white",
           "lakecolor": "white",
           "landcolor": "#E5ECF6",
           "showlakes": true,
           "showland": true,
           "subunitcolor": "white"
          },
          "hoverlabel": {
           "align": "left"
          },
          "hovermode": "closest",
          "mapbox": {
           "style": "light"
          },
          "paper_bgcolor": "white",
          "plot_bgcolor": "#E5ECF6",
          "polar": {
           "angularaxis": {
            "gridcolor": "white",
            "linecolor": "white",
            "ticks": ""
           },
           "bgcolor": "#E5ECF6",
           "radialaxis": {
            "gridcolor": "white",
            "linecolor": "white",
            "ticks": ""
           }
          },
          "scene": {
           "xaxis": {
            "backgroundcolor": "#E5ECF6",
            "gridcolor": "white",
            "gridwidth": 2,
            "linecolor": "white",
            "showbackground": true,
            "ticks": "",
            "zerolinecolor": "white"
           },
           "yaxis": {
            "backgroundcolor": "#E5ECF6",
            "gridcolor": "white",
            "gridwidth": 2,
            "linecolor": "white",
            "showbackground": true,
            "ticks": "",
            "zerolinecolor": "white"
           },
           "zaxis": {
            "backgroundcolor": "#E5ECF6",
            "gridcolor": "white",
            "gridwidth": 2,
            "linecolor": "white",
            "showbackground": true,
            "ticks": "",
            "zerolinecolor": "white"
           }
          },
          "shapedefaults": {
           "line": {
            "color": "#2a3f5f"
           }
          },
          "ternary": {
           "aaxis": {
            "gridcolor": "white",
            "linecolor": "white",
            "ticks": ""
           },
           "baxis": {
            "gridcolor": "white",
            "linecolor": "white",
            "ticks": ""
           },
           "bgcolor": "#E5ECF6",
           "caxis": {
            "gridcolor": "white",
            "linecolor": "white",
            "ticks": ""
           }
          },
          "title": {
           "x": 0.05
          },
          "xaxis": {
           "automargin": true,
           "gridcolor": "white",
           "linecolor": "white",
           "ticks": "",
           "title": {
            "standoff": 15
           },
           "zerolinecolor": "white",
           "zerolinewidth": 2
          },
          "yaxis": {
           "automargin": true,
           "gridcolor": "white",
           "linecolor": "white",
           "ticks": "",
           "title": {
            "standoff": 15
           },
           "zerolinecolor": "white",
           "zerolinewidth": 2
          }
         }
        },
        "title": {
         "text": "CPTS11"
        },
        "yaxis": {
         "title": {
          "text": "Profit"
         }
        }
       }
      }
     },
     "metadata": {},
     "output_type": "display_data"
    },
    {
     "data": {
      "application/vnd.plotly.v1+json": {
       "config": {
        "plotlyServerURL": "https://plot.ly"
       },
       "data": [
        {
         "close": [
          143.75,
          141.75,
          133.75,
          115,
          105.5,
          96.25,
          107.5,
          111.75,
          105.25,
          115.5,
          116,
          98.75,
          91.75,
          93.75,
          93.5,
          98.75,
          98.75,
          96.25,
          91.25,
          75.25,
          81.5,
          81.5,
          112,
          105,
          105,
          100.75,
          101.5,
          97.5,
          96.25,
          93.25,
          101.25,
          103.75,
          92.5,
          97.5,
          95.5,
          92.5,
          93,
          83.75,
          91,
          86,
          83.75,
          56.25,
          46.5,
          46.75,
          50,
          94.25,
          83.75,
          71.25,
          74.25,
          77.5,
          73.75,
          67.75,
          38.5,
          55,
          61.5,
          97.5,
          95.25,
          93.25,
          84.25,
          86.25,
          78.5,
          96.25,
          68.75,
          58.75,
          53.25,
          37,
          62.5,
          48.5,
          43.75,
          53.75,
          71.25,
          58.75,
          67.75,
          65.25,
          48.25,
          33.75,
          20.75,
          -6.25,
          -22.75,
          -37.75,
          -43.75,
          -36.5,
          -37,
          -43.5,
          -36.5,
          -52.5,
          -53.75,
          2.25,
          -4.25,
          -3.75,
          -3.25,
          -3.75,
          -3,
          4,
          2,
          2.25,
          1,
          -7.5,
          -3.75,
          0.5,
          -1.25,
          5.5,
          10,
          22,
          12.25,
          5.5,
          5.5
         ],
         "high": [
          154.75,
          154.75,
          142,
          116.5,
          118.75,
          113.75,
          115.25,
          118.5,
          115.25,
          118,
          116.5,
          101.75,
          95.5,
          96.25,
          100.5,
          101.75,
          101.75,
          105,
          108.75,
          91.25,
          93.75,
          93.75,
          115.5,
          105.75,
          105,
          103.5,
          105,
          100.25,
          100.75,
          103.75,
          106,
          106,
          102,
          97.5,
          95.5,
          95,
          96,
          96.25,
          91.25,
          92.75,
          88.25,
          63.75,
          68.5,
          63.5,
          80,
          95.75,
          85,
          79.25,
          80,
          85.75,
          77.5,
          71.25,
          57.5,
          79.25,
          100.5,
          101.25,
          99.25,
          95.5,
          86.25,
          86.25,
          96.25,
          99.75,
          83.25,
          69.5,
          54,
          43.25,
          71.25,
          54.5,
          83.75,
          76,
          73.5,
          75.75,
          76.5,
          70.5,
          48.25,
          37,
          24.5,
          -3.75,
          -18,
          -33,
          -29.5,
          -33.75,
          -33.75,
          -29,
          -33.75,
          -34.5,
          -17.75,
          2.5,
          -0.25,
          -2,
          0.75,
          3.5,
          5.25,
          5.25,
          6,
          6.5,
          3.75,
          0,
          7.25,
          8.5,
          8.5,
          15.75,
          27.25,
          26.75,
          21.25,
          9.25,
          9.25
         ],
         "low": [
          143.75,
          136.75,
          112.75,
          104.5,
          98.75,
          93.75,
          99.75,
          96.25,
          103.75,
          106.25,
          98.5,
          89.75,
          85.75,
          91.25,
          92.25,
          89.75,
          89.75,
          83.75,
          75.25,
          68.75,
          76,
          76,
          107,
          98.25,
          96.25,
          98.25,
          95,
          91.25,
          86.75,
          80,
          96,
          93.75,
          90.75,
          86.5,
          88.75,
          86,
          84,
          76.25,
          76.25,
          72.75,
          56.25,
          49.5,
          42.5,
          45.75,
          40,
          83.75,
          72.5,
          60,
          62.5,
          74.5,
          61.25,
          27.5,
          30,
          46.25,
          59,
          90,
          90.25,
          79,
          71.5,
          69,
          71.25,
          71.25,
          57.5,
          48.75,
          23.75,
          4,
          41.25,
          37.75,
          36.75,
          50,
          58.75,
          58.75,
          54,
          48.25,
          28.75,
          16,
          -8.75,
          -22.25,
          -39.5,
          -41.25,
          -43.75,
          -43.5,
          -56.25,
          -43.75,
          -60,
          -101.25,
          -70.25,
          -5,
          -6,
          -6.5,
          -7.75,
          -6.25,
          -6.25,
          -5,
          -2.5,
          -1.25,
          -10.75,
          -19.25,
          -6.25,
          -2.75,
          -3.5,
          -1.75,
          10,
          4.75,
          -4,
          -6.25,
          -6.25
         ],
         "open": [
          146.25,
          136.75,
          117.25,
          108.75,
          100,
          107.75,
          113.5,
          108.5,
          114.25,
          116,
          98.75,
          92.5,
          95.5,
          95.5,
          100.25,
          96.25,
          96.25,
          98.75,
          81,
          83.75,
          82,
          82,
          108.75,
          105,
          103.5,
          103.5,
          97,
          96.25,
          93.25,
          103.75,
          104.75,
          101.75,
          102,
          95.5,
          92.5,
          92,
          88.75,
          88,
          86,
          81.5,
          56.25,
          49.5,
          54.25,
          51.25,
          71.25,
          83.75,
          76,
          77,
          77.5,
          74.75,
          67,
          38.25,
          54.75,
          67.75,
          98.5,
          96.25,
          96,
          82.5,
          86.25,
          81.75,
          81.75,
          71.25,
          58.75,
          53.25,
          37.25,
          43.25,
          57.5,
          46.25,
          66,
          71.25,
          63.25,
          73,
          65.25,
          53,
          33.75,
          20.75,
          -5.5,
          -21.25,
          -39.5,
          -39.75,
          -34.5,
          -38.75,
          -41.25,
          -36.5,
          -51.25,
          -53.75,
          -23.75,
          -3.25,
          -3.25,
          -2.25,
          -3.75,
          -2.75,
          4,
          2,
          4,
          1,
          -7.5,
          -3.75,
          1,
          3.25,
          5.5,
          11.25,
          22.75,
          12.25,
          5,
          -1.25,
          -1.25
         ],
         "type": "candlestick",
         "x": [
          "2023-09-29",
          "2023-09-28",
          "2023-09-27",
          "2023-09-26",
          "2023-09-25",
          "2023-09-22",
          "2023-09-21",
          "2023-09-20",
          "2023-09-19",
          "2023-09-18",
          "2023-09-15",
          "2023-09-14",
          "2023-09-13",
          "2023-09-12",
          "2023-09-11",
          "2023-09-09",
          "2023-09-08",
          "2023-09-06",
          "2023-09-05",
          "2023-09-04",
          "2023-09-02",
          "2023-09-01",
          "2023-08-31",
          "2023-08-30",
          "2023-08-29",
          "2023-08-28",
          "2023-08-25",
          "2023-08-24",
          "2023-08-23",
          "2023-08-22",
          "2023-08-21",
          "2023-08-18",
          "2023-08-17",
          "2023-08-16",
          "2023-08-15",
          "2023-08-14",
          "2023-08-11",
          "2023-08-10",
          "2023-08-09",
          "2023-08-08",
          "2023-08-07",
          "2023-08-04",
          "2023-08-03",
          "2023-08-02",
          "2023-08-01",
          "2023-07-31",
          "2023-07-28",
          "2023-07-27",
          "2023-07-26",
          "2023-07-25",
          "2023-07-24",
          "2023-07-21",
          "2023-07-20",
          "2023-07-19",
          "2023-07-18",
          "2023-07-17",
          "2023-07-14",
          "2023-07-13",
          "2023-07-12",
          "2023-07-11",
          "2023-07-10",
          "2023-07-07",
          "2023-07-06",
          "2023-07-05",
          "2023-07-04",
          "2023-07-03",
          "2023-06-30",
          "2023-06-29",
          "2023-06-28",
          "2023-06-27",
          "2023-06-26",
          "2023-06-23",
          "2023-06-22",
          "2023-06-21",
          "2023-06-20",
          "2023-06-19",
          "2023-06-16",
          "2023-06-15",
          "2023-06-14",
          "2023-06-13",
          "2023-06-12",
          "2023-06-09",
          "2023-06-07",
          "2023-06-06",
          "2023-06-05",
          "2023-06-02",
          "2023-06-01",
          "2023-05-31",
          "2023-05-30",
          "2023-05-29",
          "2023-05-26",
          "2023-05-25",
          "2023-05-24",
          "2023-05-23",
          "2023-05-22",
          "2023-05-19",
          "2023-05-18",
          "2023-05-17",
          "2023-05-16",
          "2023-05-15",
          "2023-05-12",
          "2023-05-11",
          "2023-05-10",
          "2023-05-09",
          "2023-05-08",
          "2023-05-06",
          "2023-05-05"
         ]
        }
       ],
       "layout": {
        "template": {
         "data": {
          "bar": [
           {
            "error_x": {
             "color": "#2a3f5f"
            },
            "error_y": {
             "color": "#2a3f5f"
            },
            "marker": {
             "line": {
              "color": "#E5ECF6",
              "width": 0.5
             },
             "pattern": {
              "fillmode": "overlay",
              "size": 10,
              "solidity": 0.2
             }
            },
            "type": "bar"
           }
          ],
          "barpolar": [
           {
            "marker": {
             "line": {
              "color": "#E5ECF6",
              "width": 0.5
             },
             "pattern": {
              "fillmode": "overlay",
              "size": 10,
              "solidity": 0.2
             }
            },
            "type": "barpolar"
           }
          ],
          "carpet": [
           {
            "aaxis": {
             "endlinecolor": "#2a3f5f",
             "gridcolor": "white",
             "linecolor": "white",
             "minorgridcolor": "white",
             "startlinecolor": "#2a3f5f"
            },
            "baxis": {
             "endlinecolor": "#2a3f5f",
             "gridcolor": "white",
             "linecolor": "white",
             "minorgridcolor": "white",
             "startlinecolor": "#2a3f5f"
            },
            "type": "carpet"
           }
          ],
          "choropleth": [
           {
            "colorbar": {
             "outlinewidth": 0,
             "ticks": ""
            },
            "type": "choropleth"
           }
          ],
          "contour": [
           {
            "colorbar": {
             "outlinewidth": 0,
             "ticks": ""
            },
            "colorscale": [
             [
              0,
              "#0d0887"
             ],
             [
              0.1111111111111111,
              "#46039f"
             ],
             [
              0.2222222222222222,
              "#7201a8"
             ],
             [
              0.3333333333333333,
              "#9c179e"
             ],
             [
              0.4444444444444444,
              "#bd3786"
             ],
             [
              0.5555555555555556,
              "#d8576b"
             ],
             [
              0.6666666666666666,
              "#ed7953"
             ],
             [
              0.7777777777777778,
              "#fb9f3a"
             ],
             [
              0.8888888888888888,
              "#fdca26"
             ],
             [
              1,
              "#f0f921"
             ]
            ],
            "type": "contour"
           }
          ],
          "contourcarpet": [
           {
            "colorbar": {
             "outlinewidth": 0,
             "ticks": ""
            },
            "type": "contourcarpet"
           }
          ],
          "heatmap": [
           {
            "colorbar": {
             "outlinewidth": 0,
             "ticks": ""
            },
            "colorscale": [
             [
              0,
              "#0d0887"
             ],
             [
              0.1111111111111111,
              "#46039f"
             ],
             [
              0.2222222222222222,
              "#7201a8"
             ],
             [
              0.3333333333333333,
              "#9c179e"
             ],
             [
              0.4444444444444444,
              "#bd3786"
             ],
             [
              0.5555555555555556,
              "#d8576b"
             ],
             [
              0.6666666666666666,
              "#ed7953"
             ],
             [
              0.7777777777777778,
              "#fb9f3a"
             ],
             [
              0.8888888888888888,
              "#fdca26"
             ],
             [
              1,
              "#f0f921"
             ]
            ],
            "type": "heatmap"
           }
          ],
          "heatmapgl": [
           {
            "colorbar": {
             "outlinewidth": 0,
             "ticks": ""
            },
            "colorscale": [
             [
              0,
              "#0d0887"
             ],
             [
              0.1111111111111111,
              "#46039f"
             ],
             [
              0.2222222222222222,
              "#7201a8"
             ],
             [
              0.3333333333333333,
              "#9c179e"
             ],
             [
              0.4444444444444444,
              "#bd3786"
             ],
             [
              0.5555555555555556,
              "#d8576b"
             ],
             [
              0.6666666666666666,
              "#ed7953"
             ],
             [
              0.7777777777777778,
              "#fb9f3a"
             ],
             [
              0.8888888888888888,
              "#fdca26"
             ],
             [
              1,
              "#f0f921"
             ]
            ],
            "type": "heatmapgl"
           }
          ],
          "histogram": [
           {
            "marker": {
             "pattern": {
              "fillmode": "overlay",
              "size": 10,
              "solidity": 0.2
             }
            },
            "type": "histogram"
           }
          ],
          "histogram2d": [
           {
            "colorbar": {
             "outlinewidth": 0,
             "ticks": ""
            },
            "colorscale": [
             [
              0,
              "#0d0887"
             ],
             [
              0.1111111111111111,
              "#46039f"
             ],
             [
              0.2222222222222222,
              "#7201a8"
             ],
             [
              0.3333333333333333,
              "#9c179e"
             ],
             [
              0.4444444444444444,
              "#bd3786"
             ],
             [
              0.5555555555555556,
              "#d8576b"
             ],
             [
              0.6666666666666666,
              "#ed7953"
             ],
             [
              0.7777777777777778,
              "#fb9f3a"
             ],
             [
              0.8888888888888888,
              "#fdca26"
             ],
             [
              1,
              "#f0f921"
             ]
            ],
            "type": "histogram2d"
           }
          ],
          "histogram2dcontour": [
           {
            "colorbar": {
             "outlinewidth": 0,
             "ticks": ""
            },
            "colorscale": [
             [
              0,
              "#0d0887"
             ],
             [
              0.1111111111111111,
              "#46039f"
             ],
             [
              0.2222222222222222,
              "#7201a8"
             ],
             [
              0.3333333333333333,
              "#9c179e"
             ],
             [
              0.4444444444444444,
              "#bd3786"
             ],
             [
              0.5555555555555556,
              "#d8576b"
             ],
             [
              0.6666666666666666,
              "#ed7953"
             ],
             [
              0.7777777777777778,
              "#fb9f3a"
             ],
             [
              0.8888888888888888,
              "#fdca26"
             ],
             [
              1,
              "#f0f921"
             ]
            ],
            "type": "histogram2dcontour"
           }
          ],
          "mesh3d": [
           {
            "colorbar": {
             "outlinewidth": 0,
             "ticks": ""
            },
            "type": "mesh3d"
           }
          ],
          "parcoords": [
           {
            "line": {
             "colorbar": {
              "outlinewidth": 0,
              "ticks": ""
             }
            },
            "type": "parcoords"
           }
          ],
          "pie": [
           {
            "automargin": true,
            "type": "pie"
           }
          ],
          "scatter": [
           {
            "marker": {
             "colorbar": {
              "outlinewidth": 0,
              "ticks": ""
             }
            },
            "type": "scatter"
           }
          ],
          "scatter3d": [
           {
            "line": {
             "colorbar": {
              "outlinewidth": 0,
              "ticks": ""
             }
            },
            "marker": {
             "colorbar": {
              "outlinewidth": 0,
              "ticks": ""
             }
            },
            "type": "scatter3d"
           }
          ],
          "scattercarpet": [
           {
            "marker": {
             "colorbar": {
              "outlinewidth": 0,
              "ticks": ""
             }
            },
            "type": "scattercarpet"
           }
          ],
          "scattergeo": [
           {
            "marker": {
             "colorbar": {
              "outlinewidth": 0,
              "ticks": ""
             }
            },
            "type": "scattergeo"
           }
          ],
          "scattergl": [
           {
            "marker": {
             "colorbar": {
              "outlinewidth": 0,
              "ticks": ""
             }
            },
            "type": "scattergl"
           }
          ],
          "scattermapbox": [
           {
            "marker": {
             "colorbar": {
              "outlinewidth": 0,
              "ticks": ""
             }
            },
            "type": "scattermapbox"
           }
          ],
          "scatterpolar": [
           {
            "marker": {
             "colorbar": {
              "outlinewidth": 0,
              "ticks": ""
             }
            },
            "type": "scatterpolar"
           }
          ],
          "scatterpolargl": [
           {
            "marker": {
             "colorbar": {
              "outlinewidth": 0,
              "ticks": ""
             }
            },
            "type": "scatterpolargl"
           }
          ],
          "scatterternary": [
           {
            "marker": {
             "colorbar": {
              "outlinewidth": 0,
              "ticks": ""
             }
            },
            "type": "scatterternary"
           }
          ],
          "surface": [
           {
            "colorbar": {
             "outlinewidth": 0,
             "ticks": ""
            },
            "colorscale": [
             [
              0,
              "#0d0887"
             ],
             [
              0.1111111111111111,
              "#46039f"
             ],
             [
              0.2222222222222222,
              "#7201a8"
             ],
             [
              0.3333333333333333,
              "#9c179e"
             ],
             [
              0.4444444444444444,
              "#bd3786"
             ],
             [
              0.5555555555555556,
              "#d8576b"
             ],
             [
              0.6666666666666666,
              "#ed7953"
             ],
             [
              0.7777777777777778,
              "#fb9f3a"
             ],
             [
              0.8888888888888888,
              "#fdca26"
             ],
             [
              1,
              "#f0f921"
             ]
            ],
            "type": "surface"
           }
          ],
          "table": [
           {
            "cells": {
             "fill": {
              "color": "#EBF0F8"
             },
             "line": {
              "color": "white"
             }
            },
            "header": {
             "fill": {
              "color": "#C8D4E3"
             },
             "line": {
              "color": "white"
             }
            },
            "type": "table"
           }
          ]
         },
         "layout": {
          "annotationdefaults": {
           "arrowcolor": "#2a3f5f",
           "arrowhead": 0,
           "arrowwidth": 1
          },
          "autotypenumbers": "strict",
          "coloraxis": {
           "colorbar": {
            "outlinewidth": 0,
            "ticks": ""
           }
          },
          "colorscale": {
           "diverging": [
            [
             0,
             "#8e0152"
            ],
            [
             0.1,
             "#c51b7d"
            ],
            [
             0.2,
             "#de77ae"
            ],
            [
             0.3,
             "#f1b6da"
            ],
            [
             0.4,
             "#fde0ef"
            ],
            [
             0.5,
             "#f7f7f7"
            ],
            [
             0.6,
             "#e6f5d0"
            ],
            [
             0.7,
             "#b8e186"
            ],
            [
             0.8,
             "#7fbc41"
            ],
            [
             0.9,
             "#4d9221"
            ],
            [
             1,
             "#276419"
            ]
           ],
           "sequential": [
            [
             0,
             "#0d0887"
            ],
            [
             0.1111111111111111,
             "#46039f"
            ],
            [
             0.2222222222222222,
             "#7201a8"
            ],
            [
             0.3333333333333333,
             "#9c179e"
            ],
            [
             0.4444444444444444,
             "#bd3786"
            ],
            [
             0.5555555555555556,
             "#d8576b"
            ],
            [
             0.6666666666666666,
             "#ed7953"
            ],
            [
             0.7777777777777778,
             "#fb9f3a"
            ],
            [
             0.8888888888888888,
             "#fdca26"
            ],
            [
             1,
             "#f0f921"
            ]
           ],
           "sequentialminus": [
            [
             0,
             "#0d0887"
            ],
            [
             0.1111111111111111,
             "#46039f"
            ],
            [
             0.2222222222222222,
             "#7201a8"
            ],
            [
             0.3333333333333333,
             "#9c179e"
            ],
            [
             0.4444444444444444,
             "#bd3786"
            ],
            [
             0.5555555555555556,
             "#d8576b"
            ],
            [
             0.6666666666666666,
             "#ed7953"
            ],
            [
             0.7777777777777778,
             "#fb9f3a"
            ],
            [
             0.8888888888888888,
             "#fdca26"
            ],
            [
             1,
             "#f0f921"
            ]
           ]
          },
          "colorway": [
           "#636efa",
           "#EF553B",
           "#00cc96",
           "#ab63fa",
           "#FFA15A",
           "#19d3f3",
           "#FF6692",
           "#B6E880",
           "#FF97FF",
           "#FECB52"
          ],
          "font": {
           "color": "#2a3f5f"
          },
          "geo": {
           "bgcolor": "white",
           "lakecolor": "white",
           "landcolor": "#E5ECF6",
           "showlakes": true,
           "showland": true,
           "subunitcolor": "white"
          },
          "hoverlabel": {
           "align": "left"
          },
          "hovermode": "closest",
          "mapbox": {
           "style": "light"
          },
          "paper_bgcolor": "white",
          "plot_bgcolor": "#E5ECF6",
          "polar": {
           "angularaxis": {
            "gridcolor": "white",
            "linecolor": "white",
            "ticks": ""
           },
           "bgcolor": "#E5ECF6",
           "radialaxis": {
            "gridcolor": "white",
            "linecolor": "white",
            "ticks": ""
           }
          },
          "scene": {
           "xaxis": {
            "backgroundcolor": "#E5ECF6",
            "gridcolor": "white",
            "gridwidth": 2,
            "linecolor": "white",
            "showbackground": true,
            "ticks": "",
            "zerolinecolor": "white"
           },
           "yaxis": {
            "backgroundcolor": "#E5ECF6",
            "gridcolor": "white",
            "gridwidth": 2,
            "linecolor": "white",
            "showbackground": true,
            "ticks": "",
            "zerolinecolor": "white"
           },
           "zaxis": {
            "backgroundcolor": "#E5ECF6",
            "gridcolor": "white",
            "gridwidth": 2,
            "linecolor": "white",
            "showbackground": true,
            "ticks": "",
            "zerolinecolor": "white"
           }
          },
          "shapedefaults": {
           "line": {
            "color": "#2a3f5f"
           }
          },
          "ternary": {
           "aaxis": {
            "gridcolor": "white",
            "linecolor": "white",
            "ticks": ""
           },
           "baxis": {
            "gridcolor": "white",
            "linecolor": "white",
            "ticks": ""
           },
           "bgcolor": "#E5ECF6",
           "caxis": {
            "gridcolor": "white",
            "linecolor": "white",
            "ticks": ""
           }
          },
          "title": {
           "x": 0.05
          },
          "xaxis": {
           "automargin": true,
           "gridcolor": "white",
           "linecolor": "white",
           "ticks": "",
           "title": {
            "standoff": 15
           },
           "zerolinecolor": "white",
           "zerolinewidth": 2
          },
          "yaxis": {
           "automargin": true,
           "gridcolor": "white",
           "linecolor": "white",
           "ticks": "",
           "title": {
            "standoff": 15
           },
           "zerolinecolor": "white",
           "zerolinewidth": 2
          }
         }
        },
        "title": {
         "text": "KNCR11"
        },
        "yaxis": {
         "title": {
          "text": "Profit"
         }
        }
       }
      }
     },
     "metadata": {},
     "output_type": "display_data"
    },
    {
     "data": {
      "application/vnd.plotly.v1+json": {
       "config": {
        "plotlyServerURL": "https://plot.ly"
       },
       "data": [
        {
         "close": [
          44.79999999999973,
          34.799999999999955,
          10.799999999999727,
          -7.2000000000000455,
          0.599999999999909,
          18.200000000000045,
          0.599999999999909,
          -3.2000000000000455,
          -7.399999999999864,
          -3.2000000000000455,
          -13,
          -15.200000000000045,
          4.7999999999999545,
          -3,
          0.7999999999999545,
          -3.400000000000091,
          -3.400000000000091,
          -13,
          -14.200000000000045,
          -16,
          -15.600000000000136,
          -15.600000000000136,
          -20.600000000000136,
          -9.200000000000045,
          -13.200000000000045,
          -8.599999999999909,
          -8.400000000000091,
          -9.400000000000091,
          -5.600000000000136,
          -9.400000000000091,
          -3.7999999999999545,
          -18.59999999999991,
          -17.600000000000136,
          -18.40000000000009,
          -11,
          -6.399999999999864,
          -3.400000000000091,
          16.59999999999991,
          12.799999999999955,
          17,
          14.599999999999909,
          15.599999999999909,
          12.600000000000136,
          -9.400000000000091,
          -14.200000000000045,
          -12.800000000000182,
          -13.799999999999955,
          -18.200000000000045,
          -22.800000000000182,
          -21.200000000000045,
          -25.200000000000045,
          -28.200000000000045,
          -28.40000000000009,
          -24.59999999999991,
          -21.800000000000182,
          -24.200000000000045,
          -25.799999999999955,
          -22.399999999999864,
          0.599999999999909,
          -0.20000000000004547,
          -0.20000000000004547,
          1.599999999999909,
          1.7999999999999545,
          -0.6000000000001364,
          -0.6000000000001364,
          3,
          0.7999999999999545,
          -0.7999999999999545
         ],
         "high": [
          46.799999999999955,
          40.799999999999955,
          22.799999999999955,
          26.799999999999955,
          26.799999999999955,
          26.40000000000009,
          13.600000000000136,
          16.799999999999955,
          0.9999999999997726,
          0.7999999999999545,
          16.59999999999991,
          -8.400000000000091,
          6.400000000000091,
          2.199999999999818,
          0.7999999999999545,
          -3.2000000000000455,
          -3.400000000000091,
          -3.400000000000091,
          -11.399999999999864,
          -8.200000000000045,
          -8.200000000000045,
          -8.200000000000045,
          -5.400000000000091,
          -3.400000000000091,
          -3.2000000000000455,
          -7.399999999999864,
          -3.2000000000000455,
          -2.2000000000000455,
          -2.2000000000000455,
          -2.3999999999998636,
          -3.7999999999999545,
          -13,
          -12,
          -5.400000000000091,
          -3.2000000000000455,
          -1.800000000000182,
          -3.400000000000091,
          19.399999999999864,
          19.799999999999955,
          17.399999999999864,
          19.799999999999955,
          16.799999999999955,
          16.40000000000009,
          -9.200000000000045,
          -9.200000000000045,
          -6.399999999999864,
          -13.799999999999955,
          -13.799999999999955,
          -17.399999999999864,
          -19.200000000000045,
          -19.59999999999991,
          -25.799999999999955,
          -17.600000000000136,
          -15.799999999999955,
          -16.600000000000136,
          -15.200000000000045,
          -20.799999999999955,
          -17.600000000000136,
          6.7999999999999545,
          8.600000000000136,
          13.799999999999955,
          5.7999999999999545,
          7.399999999999864,
          7.7999999999999545,
          15.400000000000091,
          18.399999999999864,
          5.999999999999773,
          10.799999999999955
         ],
         "low": [
          20.799999999999955,
          4.7999999999999545,
          -7.2000000000000455,
          -17.199999999999818,
          -0.20000000000004547,
          -3,
          -6.7999999999999545,
          -7.800000000000182,
          -9.599999999999909,
          -12.200000000000045,
          -15.000000000000227,
          -22.200000000000045,
          -3.2000000000000455,
          -9.000000000000227,
          -19.200000000000045,
          -11.800000000000182,
          -11.800000000000182,
          -18.40000000000009,
          -21,
          -23.200000000000045,
          -21.200000000000045,
          -21.200000000000045,
          -21.200000000000045,
          -13.200000000000045,
          -16.200000000000045,
          -23.200000000000045,
          -14.400000000000091,
          -13.200000000000045,
          -13.200000000000045,
          -13.200000000000045,
          -18.59999999999991,
          -21.200000000000045,
          -18.59999999999991,
          -20.799999999999955,
          -12.800000000000182,
          -19.200000000000045,
          -20.600000000000136,
          12.600000000000136,
          9.999999999999773,
          6.7999999999999545,
          0.9999999999997726,
          3.7999999999999545,
          -14.599999999999909,
          -15.400000000000091,
          -20.200000000000045,
          -17.200000000000045,
          -19.799999999999955,
          -22,
          -25.000000000000227,
          -28.200000000000045,
          -29.200000000000045,
          -35.200000000000045,
          -32.200000000000045,
          -31,
          -25.799999999999955,
          -25.600000000000136,
          -26.200000000000045,
          -26.200000000000045,
          -3.2000000000000455,
          -0.20000000000004547,
          -2.2000000000000455,
          -3.2000000000000455,
          -3.400000000000091,
          -3,
          -3.2000000000000455,
          0.7999999999999545,
          -5.2000000000000455,
          -7
         ],
         "open": [
          34.799999999999955,
          12.799999999999955,
          4.7999999999999545,
          -3.2000000000000455,
          21.59999999999991,
          3.4000000000003183,
          13.600000000000136,
          -4.7999999999999545,
          -7,
          -3,
          -15.000000000000227,
          -15.200000000000045,
          -3,
          -0.20000000000004547,
          -3.2000000000000455,
          -6.2000000000000455,
          -6.2000000000000455,
          -11.600000000000136,
          -21,
          -13.200000000000045,
          -11.200000000000045,
          -11.200000000000045,
          -6.800000000000182,
          -9.200000000000045,
          -8.599999999999909,
          -7.399999999999864,
          -6.2000000000000455,
          -3.7999999999999545,
          -9.400000000000091,
          -4.599999999999909,
          -15.799999999999955,
          -18.40000000000009,
          -14.599999999999909,
          -13.799999999999955,
          -6.399999999999864,
          -1.800000000000182,
          -13.200000000000045,
          12.799999999999955,
          11.200000000000045,
          17,
          16.59999999999991,
          14,
          -9.599999999999909,
          -15.200000000000045,
          -12.800000000000182,
          -15.200000000000045,
          -17.399999999999864,
          -22,
          -21.200000000000045,
          -24.000000000000227,
          -29.200000000000045,
          -32.600000000000136,
          -26.600000000000136,
          -21.800000000000182,
          -23.200000000000045,
          -22.200000000000045,
          -23.200000000000045,
          -18.799999999999955,
          6.400000000000091,
          8.199999999999818,
          2.7999999999999545,
          1.7999999999999545,
          -0.6000000000001364,
          -0.6000000000001364,
          4.599999999999909,
          5.7999999999999545,
          -0.7999999999999545,
          4.399999999999864
         ],
         "type": "candlestick",
         "x": [
          "2023-09-29",
          "2023-09-28",
          "2023-09-27",
          "2023-09-26",
          "2023-09-25",
          "2023-09-22",
          "2023-09-21",
          "2023-09-20",
          "2023-09-19",
          "2023-09-18",
          "2023-09-15",
          "2023-09-14",
          "2023-09-13",
          "2023-09-12",
          "2023-09-11",
          "2023-09-09",
          "2023-09-08",
          "2023-09-06",
          "2023-09-05",
          "2023-09-04",
          "2023-09-02",
          "2023-09-01",
          "2023-08-31",
          "2023-08-30",
          "2023-08-29",
          "2023-08-28",
          "2023-08-25",
          "2023-08-24",
          "2023-08-23",
          "2023-08-22",
          "2023-08-21",
          "2023-08-18",
          "2023-08-17",
          "2023-08-16",
          "2023-08-15",
          "2023-08-14",
          "2023-08-11",
          "2023-08-10",
          "2023-08-09",
          "2023-08-08",
          "2023-08-07",
          "2023-08-04",
          "2023-08-03",
          "2023-08-02",
          "2023-08-01",
          "2023-07-31",
          "2023-07-28",
          "2023-07-27",
          "2023-07-26",
          "2023-07-25",
          "2023-07-24",
          "2023-07-21",
          "2023-07-20",
          "2023-07-19",
          "2023-07-18",
          "2023-07-17",
          "2023-07-14",
          "2023-07-13",
          "2023-07-12",
          "2023-07-11",
          "2023-07-10",
          "2023-07-07",
          "2023-07-06",
          "2023-07-05",
          "2023-07-04",
          "2023-07-03",
          "2023-06-30",
          "2023-06-29"
         ]
        }
       ],
       "layout": {
        "template": {
         "data": {
          "bar": [
           {
            "error_x": {
             "color": "#2a3f5f"
            },
            "error_y": {
             "color": "#2a3f5f"
            },
            "marker": {
             "line": {
              "color": "#E5ECF6",
              "width": 0.5
             },
             "pattern": {
              "fillmode": "overlay",
              "size": 10,
              "solidity": 0.2
             }
            },
            "type": "bar"
           }
          ],
          "barpolar": [
           {
            "marker": {
             "line": {
              "color": "#E5ECF6",
              "width": 0.5
             },
             "pattern": {
              "fillmode": "overlay",
              "size": 10,
              "solidity": 0.2
             }
            },
            "type": "barpolar"
           }
          ],
          "carpet": [
           {
            "aaxis": {
             "endlinecolor": "#2a3f5f",
             "gridcolor": "white",
             "linecolor": "white",
             "minorgridcolor": "white",
             "startlinecolor": "#2a3f5f"
            },
            "baxis": {
             "endlinecolor": "#2a3f5f",
             "gridcolor": "white",
             "linecolor": "white",
             "minorgridcolor": "white",
             "startlinecolor": "#2a3f5f"
            },
            "type": "carpet"
           }
          ],
          "choropleth": [
           {
            "colorbar": {
             "outlinewidth": 0,
             "ticks": ""
            },
            "type": "choropleth"
           }
          ],
          "contour": [
           {
            "colorbar": {
             "outlinewidth": 0,
             "ticks": ""
            },
            "colorscale": [
             [
              0,
              "#0d0887"
             ],
             [
              0.1111111111111111,
              "#46039f"
             ],
             [
              0.2222222222222222,
              "#7201a8"
             ],
             [
              0.3333333333333333,
              "#9c179e"
             ],
             [
              0.4444444444444444,
              "#bd3786"
             ],
             [
              0.5555555555555556,
              "#d8576b"
             ],
             [
              0.6666666666666666,
              "#ed7953"
             ],
             [
              0.7777777777777778,
              "#fb9f3a"
             ],
             [
              0.8888888888888888,
              "#fdca26"
             ],
             [
              1,
              "#f0f921"
             ]
            ],
            "type": "contour"
           }
          ],
          "contourcarpet": [
           {
            "colorbar": {
             "outlinewidth": 0,
             "ticks": ""
            },
            "type": "contourcarpet"
           }
          ],
          "heatmap": [
           {
            "colorbar": {
             "outlinewidth": 0,
             "ticks": ""
            },
            "colorscale": [
             [
              0,
              "#0d0887"
             ],
             [
              0.1111111111111111,
              "#46039f"
             ],
             [
              0.2222222222222222,
              "#7201a8"
             ],
             [
              0.3333333333333333,
              "#9c179e"
             ],
             [
              0.4444444444444444,
              "#bd3786"
             ],
             [
              0.5555555555555556,
              "#d8576b"
             ],
             [
              0.6666666666666666,
              "#ed7953"
             ],
             [
              0.7777777777777778,
              "#fb9f3a"
             ],
             [
              0.8888888888888888,
              "#fdca26"
             ],
             [
              1,
              "#f0f921"
             ]
            ],
            "type": "heatmap"
           }
          ],
          "heatmapgl": [
           {
            "colorbar": {
             "outlinewidth": 0,
             "ticks": ""
            },
            "colorscale": [
             [
              0,
              "#0d0887"
             ],
             [
              0.1111111111111111,
              "#46039f"
             ],
             [
              0.2222222222222222,
              "#7201a8"
             ],
             [
              0.3333333333333333,
              "#9c179e"
             ],
             [
              0.4444444444444444,
              "#bd3786"
             ],
             [
              0.5555555555555556,
              "#d8576b"
             ],
             [
              0.6666666666666666,
              "#ed7953"
             ],
             [
              0.7777777777777778,
              "#fb9f3a"
             ],
             [
              0.8888888888888888,
              "#fdca26"
             ],
             [
              1,
              "#f0f921"
             ]
            ],
            "type": "heatmapgl"
           }
          ],
          "histogram": [
           {
            "marker": {
             "pattern": {
              "fillmode": "overlay",
              "size": 10,
              "solidity": 0.2
             }
            },
            "type": "histogram"
           }
          ],
          "histogram2d": [
           {
            "colorbar": {
             "outlinewidth": 0,
             "ticks": ""
            },
            "colorscale": [
             [
              0,
              "#0d0887"
             ],
             [
              0.1111111111111111,
              "#46039f"
             ],
             [
              0.2222222222222222,
              "#7201a8"
             ],
             [
              0.3333333333333333,
              "#9c179e"
             ],
             [
              0.4444444444444444,
              "#bd3786"
             ],
             [
              0.5555555555555556,
              "#d8576b"
             ],
             [
              0.6666666666666666,
              "#ed7953"
             ],
             [
              0.7777777777777778,
              "#fb9f3a"
             ],
             [
              0.8888888888888888,
              "#fdca26"
             ],
             [
              1,
              "#f0f921"
             ]
            ],
            "type": "histogram2d"
           }
          ],
          "histogram2dcontour": [
           {
            "colorbar": {
             "outlinewidth": 0,
             "ticks": ""
            },
            "colorscale": [
             [
              0,
              "#0d0887"
             ],
             [
              0.1111111111111111,
              "#46039f"
             ],
             [
              0.2222222222222222,
              "#7201a8"
             ],
             [
              0.3333333333333333,
              "#9c179e"
             ],
             [
              0.4444444444444444,
              "#bd3786"
             ],
             [
              0.5555555555555556,
              "#d8576b"
             ],
             [
              0.6666666666666666,
              "#ed7953"
             ],
             [
              0.7777777777777778,
              "#fb9f3a"
             ],
             [
              0.8888888888888888,
              "#fdca26"
             ],
             [
              1,
              "#f0f921"
             ]
            ],
            "type": "histogram2dcontour"
           }
          ],
          "mesh3d": [
           {
            "colorbar": {
             "outlinewidth": 0,
             "ticks": ""
            },
            "type": "mesh3d"
           }
          ],
          "parcoords": [
           {
            "line": {
             "colorbar": {
              "outlinewidth": 0,
              "ticks": ""
             }
            },
            "type": "parcoords"
           }
          ],
          "pie": [
           {
            "automargin": true,
            "type": "pie"
           }
          ],
          "scatter": [
           {
            "marker": {
             "colorbar": {
              "outlinewidth": 0,
              "ticks": ""
             }
            },
            "type": "scatter"
           }
          ],
          "scatter3d": [
           {
            "line": {
             "colorbar": {
              "outlinewidth": 0,
              "ticks": ""
             }
            },
            "marker": {
             "colorbar": {
              "outlinewidth": 0,
              "ticks": ""
             }
            },
            "type": "scatter3d"
           }
          ],
          "scattercarpet": [
           {
            "marker": {
             "colorbar": {
              "outlinewidth": 0,
              "ticks": ""
             }
            },
            "type": "scattercarpet"
           }
          ],
          "scattergeo": [
           {
            "marker": {
             "colorbar": {
              "outlinewidth": 0,
              "ticks": ""
             }
            },
            "type": "scattergeo"
           }
          ],
          "scattergl": [
           {
            "marker": {
             "colorbar": {
              "outlinewidth": 0,
              "ticks": ""
             }
            },
            "type": "scattergl"
           }
          ],
          "scattermapbox": [
           {
            "marker": {
             "colorbar": {
              "outlinewidth": 0,
              "ticks": ""
             }
            },
            "type": "scattermapbox"
           }
          ],
          "scatterpolar": [
           {
            "marker": {
             "colorbar": {
              "outlinewidth": 0,
              "ticks": ""
             }
            },
            "type": "scatterpolar"
           }
          ],
          "scatterpolargl": [
           {
            "marker": {
             "colorbar": {
              "outlinewidth": 0,
              "ticks": ""
             }
            },
            "type": "scatterpolargl"
           }
          ],
          "scatterternary": [
           {
            "marker": {
             "colorbar": {
              "outlinewidth": 0,
              "ticks": ""
             }
            },
            "type": "scatterternary"
           }
          ],
          "surface": [
           {
            "colorbar": {
             "outlinewidth": 0,
             "ticks": ""
            },
            "colorscale": [
             [
              0,
              "#0d0887"
             ],
             [
              0.1111111111111111,
              "#46039f"
             ],
             [
              0.2222222222222222,
              "#7201a8"
             ],
             [
              0.3333333333333333,
              "#9c179e"
             ],
             [
              0.4444444444444444,
              "#bd3786"
             ],
             [
              0.5555555555555556,
              "#d8576b"
             ],
             [
              0.6666666666666666,
              "#ed7953"
             ],
             [
              0.7777777777777778,
              "#fb9f3a"
             ],
             [
              0.8888888888888888,
              "#fdca26"
             ],
             [
              1,
              "#f0f921"
             ]
            ],
            "type": "surface"
           }
          ],
          "table": [
           {
            "cells": {
             "fill": {
              "color": "#EBF0F8"
             },
             "line": {
              "color": "white"
             }
            },
            "header": {
             "fill": {
              "color": "#C8D4E3"
             },
             "line": {
              "color": "white"
             }
            },
            "type": "table"
           }
          ]
         },
         "layout": {
          "annotationdefaults": {
           "arrowcolor": "#2a3f5f",
           "arrowhead": 0,
           "arrowwidth": 1
          },
          "autotypenumbers": "strict",
          "coloraxis": {
           "colorbar": {
            "outlinewidth": 0,
            "ticks": ""
           }
          },
          "colorscale": {
           "diverging": [
            [
             0,
             "#8e0152"
            ],
            [
             0.1,
             "#c51b7d"
            ],
            [
             0.2,
             "#de77ae"
            ],
            [
             0.3,
             "#f1b6da"
            ],
            [
             0.4,
             "#fde0ef"
            ],
            [
             0.5,
             "#f7f7f7"
            ],
            [
             0.6,
             "#e6f5d0"
            ],
            [
             0.7,
             "#b8e186"
            ],
            [
             0.8,
             "#7fbc41"
            ],
            [
             0.9,
             "#4d9221"
            ],
            [
             1,
             "#276419"
            ]
           ],
           "sequential": [
            [
             0,
             "#0d0887"
            ],
            [
             0.1111111111111111,
             "#46039f"
            ],
            [
             0.2222222222222222,
             "#7201a8"
            ],
            [
             0.3333333333333333,
             "#9c179e"
            ],
            [
             0.4444444444444444,
             "#bd3786"
            ],
            [
             0.5555555555555556,
             "#d8576b"
            ],
            [
             0.6666666666666666,
             "#ed7953"
            ],
            [
             0.7777777777777778,
             "#fb9f3a"
            ],
            [
             0.8888888888888888,
             "#fdca26"
            ],
            [
             1,
             "#f0f921"
            ]
           ],
           "sequentialminus": [
            [
             0,
             "#0d0887"
            ],
            [
             0.1111111111111111,
             "#46039f"
            ],
            [
             0.2222222222222222,
             "#7201a8"
            ],
            [
             0.3333333333333333,
             "#9c179e"
            ],
            [
             0.4444444444444444,
             "#bd3786"
            ],
            [
             0.5555555555555556,
             "#d8576b"
            ],
            [
             0.6666666666666666,
             "#ed7953"
            ],
            [
             0.7777777777777778,
             "#fb9f3a"
            ],
            [
             0.8888888888888888,
             "#fdca26"
            ],
            [
             1,
             "#f0f921"
            ]
           ]
          },
          "colorway": [
           "#636efa",
           "#EF553B",
           "#00cc96",
           "#ab63fa",
           "#FFA15A",
           "#19d3f3",
           "#FF6692",
           "#B6E880",
           "#FF97FF",
           "#FECB52"
          ],
          "font": {
           "color": "#2a3f5f"
          },
          "geo": {
           "bgcolor": "white",
           "lakecolor": "white",
           "landcolor": "#E5ECF6",
           "showlakes": true,
           "showland": true,
           "subunitcolor": "white"
          },
          "hoverlabel": {
           "align": "left"
          },
          "hovermode": "closest",
          "mapbox": {
           "style": "light"
          },
          "paper_bgcolor": "white",
          "plot_bgcolor": "#E5ECF6",
          "polar": {
           "angularaxis": {
            "gridcolor": "white",
            "linecolor": "white",
            "ticks": ""
           },
           "bgcolor": "#E5ECF6",
           "radialaxis": {
            "gridcolor": "white",
            "linecolor": "white",
            "ticks": ""
           }
          },
          "scene": {
           "xaxis": {
            "backgroundcolor": "#E5ECF6",
            "gridcolor": "white",
            "gridwidth": 2,
            "linecolor": "white",
            "showbackground": true,
            "ticks": "",
            "zerolinecolor": "white"
           },
           "yaxis": {
            "backgroundcolor": "#E5ECF6",
            "gridcolor": "white",
            "gridwidth": 2,
            "linecolor": "white",
            "showbackground": true,
            "ticks": "",
            "zerolinecolor": "white"
           },
           "zaxis": {
            "backgroundcolor": "#E5ECF6",
            "gridcolor": "white",
            "gridwidth": 2,
            "linecolor": "white",
            "showbackground": true,
            "ticks": "",
            "zerolinecolor": "white"
           }
          },
          "shapedefaults": {
           "line": {
            "color": "#2a3f5f"
           }
          },
          "ternary": {
           "aaxis": {
            "gridcolor": "white",
            "linecolor": "white",
            "ticks": ""
           },
           "baxis": {
            "gridcolor": "white",
            "linecolor": "white",
            "ticks": ""
           },
           "bgcolor": "#E5ECF6",
           "caxis": {
            "gridcolor": "white",
            "linecolor": "white",
            "ticks": ""
           }
          },
          "title": {
           "x": 0.05
          },
          "xaxis": {
           "automargin": true,
           "gridcolor": "white",
           "linecolor": "white",
           "ticks": "",
           "title": {
            "standoff": 15
           },
           "zerolinecolor": "white",
           "zerolinewidth": 2
          },
          "yaxis": {
           "automargin": true,
           "gridcolor": "white",
           "linecolor": "white",
           "ticks": "",
           "title": {
            "standoff": 15
           },
           "zerolinecolor": "white",
           "zerolinewidth": 2
          }
         }
        },
        "title": {
         "text": "CPTR11"
        },
        "yaxis": {
         "title": {
          "text": "Profit"
         }
        }
       }
      }
     },
     "metadata": {},
     "output_type": "display_data"
    },
    {
     "data": {
      "application/vnd.plotly.v1+json": {
       "config": {
        "plotlyServerURL": "https://plot.ly"
       },
       "data": [
        {
         "close": [
          -50.40000000000009,
          -64.40000000000009,
          -92.40000000000009,
          -84.40000000000009,
          -61.80000000000018,
          -55,
          -57.40000000000009,
          -55.40000000000009,
          -55.600000000000136,
          -48.59999999999991,
          -41.20000000000027,
          -61,
          -57.40000000000009,
          -54.00000000000023,
          -51.40000000000009,
          -50,
          -50,
          -45,
          -40,
          -24.40000000000009,
          -12.599999999999909,
          -12.599999999999909,
          34.79999999999973,
          25.999999999999773,
          23.59999999999991,
          24.799999999999727,
          20.59999999999991,
          18.799999999999727,
          15.599999999999909,
          10.599999999999909,
          15.599999999999909,
          10,
          8.399999999999864,
          16.799999999999955,
          12.199999999999818,
          -0.6000000000001364,
          -6,
          -12.200000000000045,
          -6,
          -6.400000000000091,
          -24.40000000000009,
          -22.40000000000009,
          -23.59999999999991,
          -25,
          -28.40000000000009,
          -6.400000000000091,
          -4.400000000000091,
          -9.400000000000091,
          3.599999999999909,
          6.199999999999818,
          6.599999999999909,
          -0.40000000000009095,
          0.7999999999999545,
          -9.600000000000136,
          -1.400000000000091,
          -12.400000000000091,
          -8.599999999999909,
          -24.000000000000227,
          -17.59999999999991,
          -26.800000000000182,
          -18.40000000000009,
          -20.40000000000009,
          -33.40000000000009,
          -30.799999999999955,
          -15.799999999999955,
          -29.200000000000045,
          19.59999999999991,
          2.199999999999818
         ],
         "high": [
          -38.59999999999991,
          -56.40000000000009,
          -72,
          -57,
          -54.40000000000009,
          -54.40000000000009,
          -50,
          -54.600000000000136,
          -50.40000000000009,
          -33.80000000000018,
          -25.40000000000009,
          -54.200000000000045,
          -48.40000000000009,
          -34.600000000000136,
          -28.000000000000227,
          -42.40000000000009,
          -42.40000000000009,
          -40.20000000000027,
          -21.40000000000009,
          -6.400000000000091,
          1.599999999999909,
          1.599999999999909,
          35.200000000000045,
          27.59999999999991,
          29.799999999999727,
          25.59999999999991,
          20.59999999999991,
          20.399999999999864,
          15.599999999999909,
          19.399999999999864,
          20.399999999999864,
          15.599999999999909,
          16.799999999999955,
          21.40000000000009,
          21.199999999999818,
          -0.40000000000009095,
          -6,
          -4.400000000000091,
          -4.400000000000091,
          -4.400000000000091,
          -14.400000000000091,
          -14.400000000000091,
          -16.800000000000182,
          -24.40000000000009,
          -14.799999999999955,
          13,
          5.599999999999909,
          4.2000000000000455,
          9.599999999999909,
          7.599999999999909,
          7.599999999999909,
          1.599999999999909,
          14.599999999999909,
          14,
          15.200000000000045,
          5,
          -7.400000000000091,
          -14.600000000000136,
          -10.200000000000273,
          -15.400000000000091,
          -14.600000000000136,
          -15,
          -17.40000000000009,
          -8.800000000000182,
          -15.600000000000136,
          -4.400000000000091,
          19.59999999999991,
          2.199999999999818
         ],
         "low": [
          -74.00000000000023,
          -94.40000000000009,
          -94.20000000000005,
          -90.40000000000009,
          -62.200000000000045,
          -59.40000000000009,
          -62,
          -64.00000000000023,
          -61.20000000000027,
          -50.40000000000009,
          -61,
          -61.20000000000027,
          -58.40000000000009,
          -60,
          -54.40000000000009,
          -60,
          -60,
          -48.40000000000009,
          -44.40000000000009,
          -24.40000000000009,
          -22.200000000000045,
          -22.200000000000045,
          19.799999999999727,
          17.59999999999991,
          16.59999999999991,
          15.799999999999955,
          13.799999999999727,
          13.799999999999727,
          7.199999999999818,
          5.599999999999909,
          2.199999999999818,
          -0.40000000000009095,
          -14.400000000000091,
          -4.400000000000091,
          -0.6000000000001364,
          -12.400000000000091,
          -14.400000000000091,
          -16.800000000000182,
          -12.400000000000091,
          -20.40000000000009,
          -28.40000000000009,
          -23.59999999999991,
          -29.40000000000009,
          -44.40000000000009,
          -44.40000000000009,
          -8.400000000000091,
          -9.400000000000091,
          -22.40000000000009,
          -4.2000000000000455,
          1.599999999999909,
          -10.400000000000091,
          -7.400000000000091,
          -6.400000000000091,
          -12.200000000000045,
          -6.400000000000091,
          -21.40000000000009,
          -24.000000000000227,
          -30,
          -24.40000000000009,
          -27.800000000000182,
          -31.40000000000009,
          -33.59999999999991,
          -37.40000000000009,
          -35.40000000000009,
          -64.00000000000023,
          -38.40000000000009,
          0,
          -4.400000000000091
         ],
         "open": [
          -64.79999999999995,
          -92.40000000000009,
          -84.40000000000009,
          -61.80000000000018,
          -55,
          -56.40000000000009,
          -55.40000000000009,
          -55.600000000000136,
          -50.40000000000009,
          -41.20000000000027,
          -61,
          -57.40000000000009,
          -54.00000000000023,
          -51.40000000000009,
          -50,
          -45,
          -45,
          -40.20000000000027,
          -24.40000000000009,
          -12.599999999999909,
          1.599999999999909,
          1.599999999999909,
          25.999999999999773,
          23.59999999999991,
          24.799999999999727,
          20.999999999999773,
          18.59999999999991,
          20.399999999999864,
          10.599999999999909,
          15.599999999999909,
          15.999999999999773,
          5.599999999999909,
          13.599999999999909,
          15.599999999999909,
          1.599999999999909,
          -6,
          -8.800000000000182,
          -6,
          -7.2000000000000455,
          -20.40000000000009,
          -19.799999999999955,
          -23.59999999999991,
          -24.40000000000009,
          -28.40000000000009,
          -30.200000000000273,
          -4.400000000000091,
          -9.400000000000091,
          3.599999999999909,
          7.599999999999909,
          6.400000000000091,
          1.400000000000091,
          0.7999999999999545,
          -6,
          -1.400000000000091,
          -6.400000000000091,
          -8.400000000000091,
          -24.000000000000227,
          -20.40000000000009,
          -24.40000000000009,
          -18.59999999999991,
          -20.40000000000009,
          -33.40000000000009,
          -26.600000000000136,
          -15.799999999999955,
          -29.200000000000045,
          -4.400000000000091,
          3,
          1.599999999999909
         ],
         "type": "candlestick",
         "x": [
          "2023-09-29",
          "2023-09-28",
          "2023-09-27",
          "2023-09-26",
          "2023-09-25",
          "2023-09-22",
          "2023-09-21",
          "2023-09-20",
          "2023-09-19",
          "2023-09-18",
          "2023-09-15",
          "2023-09-14",
          "2023-09-13",
          "2023-09-12",
          "2023-09-11",
          "2023-09-09",
          "2023-09-08",
          "2023-09-06",
          "2023-09-05",
          "2023-09-04",
          "2023-09-02",
          "2023-09-01",
          "2023-08-31",
          "2023-08-30",
          "2023-08-29",
          "2023-08-28",
          "2023-08-25",
          "2023-08-24",
          "2023-08-23",
          "2023-08-22",
          "2023-08-21",
          "2023-08-18",
          "2023-08-17",
          "2023-08-16",
          "2023-08-15",
          "2023-08-14",
          "2023-08-11",
          "2023-08-10",
          "2023-08-09",
          "2023-08-08",
          "2023-08-07",
          "2023-08-04",
          "2023-08-03",
          "2023-08-02",
          "2023-08-01",
          "2023-07-31",
          "2023-07-28",
          "2023-07-27",
          "2023-07-26",
          "2023-07-25",
          "2023-07-24",
          "2023-07-21",
          "2023-07-20",
          "2023-07-19",
          "2023-07-18",
          "2023-07-17",
          "2023-07-14",
          "2023-07-13",
          "2023-07-12",
          "2023-07-11",
          "2023-07-10",
          "2023-07-07",
          "2023-07-06",
          "2023-07-05",
          "2023-07-04",
          "2023-07-03",
          "2023-06-30",
          "2023-06-29"
         ]
        }
       ],
       "layout": {
        "template": {
         "data": {
          "bar": [
           {
            "error_x": {
             "color": "#2a3f5f"
            },
            "error_y": {
             "color": "#2a3f5f"
            },
            "marker": {
             "line": {
              "color": "#E5ECF6",
              "width": 0.5
             },
             "pattern": {
              "fillmode": "overlay",
              "size": 10,
              "solidity": 0.2
             }
            },
            "type": "bar"
           }
          ],
          "barpolar": [
           {
            "marker": {
             "line": {
              "color": "#E5ECF6",
              "width": 0.5
             },
             "pattern": {
              "fillmode": "overlay",
              "size": 10,
              "solidity": 0.2
             }
            },
            "type": "barpolar"
           }
          ],
          "carpet": [
           {
            "aaxis": {
             "endlinecolor": "#2a3f5f",
             "gridcolor": "white",
             "linecolor": "white",
             "minorgridcolor": "white",
             "startlinecolor": "#2a3f5f"
            },
            "baxis": {
             "endlinecolor": "#2a3f5f",
             "gridcolor": "white",
             "linecolor": "white",
             "minorgridcolor": "white",
             "startlinecolor": "#2a3f5f"
            },
            "type": "carpet"
           }
          ],
          "choropleth": [
           {
            "colorbar": {
             "outlinewidth": 0,
             "ticks": ""
            },
            "type": "choropleth"
           }
          ],
          "contour": [
           {
            "colorbar": {
             "outlinewidth": 0,
             "ticks": ""
            },
            "colorscale": [
             [
              0,
              "#0d0887"
             ],
             [
              0.1111111111111111,
              "#46039f"
             ],
             [
              0.2222222222222222,
              "#7201a8"
             ],
             [
              0.3333333333333333,
              "#9c179e"
             ],
             [
              0.4444444444444444,
              "#bd3786"
             ],
             [
              0.5555555555555556,
              "#d8576b"
             ],
             [
              0.6666666666666666,
              "#ed7953"
             ],
             [
              0.7777777777777778,
              "#fb9f3a"
             ],
             [
              0.8888888888888888,
              "#fdca26"
             ],
             [
              1,
              "#f0f921"
             ]
            ],
            "type": "contour"
           }
          ],
          "contourcarpet": [
           {
            "colorbar": {
             "outlinewidth": 0,
             "ticks": ""
            },
            "type": "contourcarpet"
           }
          ],
          "heatmap": [
           {
            "colorbar": {
             "outlinewidth": 0,
             "ticks": ""
            },
            "colorscale": [
             [
              0,
              "#0d0887"
             ],
             [
              0.1111111111111111,
              "#46039f"
             ],
             [
              0.2222222222222222,
              "#7201a8"
             ],
             [
              0.3333333333333333,
              "#9c179e"
             ],
             [
              0.4444444444444444,
              "#bd3786"
             ],
             [
              0.5555555555555556,
              "#d8576b"
             ],
             [
              0.6666666666666666,
              "#ed7953"
             ],
             [
              0.7777777777777778,
              "#fb9f3a"
             ],
             [
              0.8888888888888888,
              "#fdca26"
             ],
             [
              1,
              "#f0f921"
             ]
            ],
            "type": "heatmap"
           }
          ],
          "heatmapgl": [
           {
            "colorbar": {
             "outlinewidth": 0,
             "ticks": ""
            },
            "colorscale": [
             [
              0,
              "#0d0887"
             ],
             [
              0.1111111111111111,
              "#46039f"
             ],
             [
              0.2222222222222222,
              "#7201a8"
             ],
             [
              0.3333333333333333,
              "#9c179e"
             ],
             [
              0.4444444444444444,
              "#bd3786"
             ],
             [
              0.5555555555555556,
              "#d8576b"
             ],
             [
              0.6666666666666666,
              "#ed7953"
             ],
             [
              0.7777777777777778,
              "#fb9f3a"
             ],
             [
              0.8888888888888888,
              "#fdca26"
             ],
             [
              1,
              "#f0f921"
             ]
            ],
            "type": "heatmapgl"
           }
          ],
          "histogram": [
           {
            "marker": {
             "pattern": {
              "fillmode": "overlay",
              "size": 10,
              "solidity": 0.2
             }
            },
            "type": "histogram"
           }
          ],
          "histogram2d": [
           {
            "colorbar": {
             "outlinewidth": 0,
             "ticks": ""
            },
            "colorscale": [
             [
              0,
              "#0d0887"
             ],
             [
              0.1111111111111111,
              "#46039f"
             ],
             [
              0.2222222222222222,
              "#7201a8"
             ],
             [
              0.3333333333333333,
              "#9c179e"
             ],
             [
              0.4444444444444444,
              "#bd3786"
             ],
             [
              0.5555555555555556,
              "#d8576b"
             ],
             [
              0.6666666666666666,
              "#ed7953"
             ],
             [
              0.7777777777777778,
              "#fb9f3a"
             ],
             [
              0.8888888888888888,
              "#fdca26"
             ],
             [
              1,
              "#f0f921"
             ]
            ],
            "type": "histogram2d"
           }
          ],
          "histogram2dcontour": [
           {
            "colorbar": {
             "outlinewidth": 0,
             "ticks": ""
            },
            "colorscale": [
             [
              0,
              "#0d0887"
             ],
             [
              0.1111111111111111,
              "#46039f"
             ],
             [
              0.2222222222222222,
              "#7201a8"
             ],
             [
              0.3333333333333333,
              "#9c179e"
             ],
             [
              0.4444444444444444,
              "#bd3786"
             ],
             [
              0.5555555555555556,
              "#d8576b"
             ],
             [
              0.6666666666666666,
              "#ed7953"
             ],
             [
              0.7777777777777778,
              "#fb9f3a"
             ],
             [
              0.8888888888888888,
              "#fdca26"
             ],
             [
              1,
              "#f0f921"
             ]
            ],
            "type": "histogram2dcontour"
           }
          ],
          "mesh3d": [
           {
            "colorbar": {
             "outlinewidth": 0,
             "ticks": ""
            },
            "type": "mesh3d"
           }
          ],
          "parcoords": [
           {
            "line": {
             "colorbar": {
              "outlinewidth": 0,
              "ticks": ""
             }
            },
            "type": "parcoords"
           }
          ],
          "pie": [
           {
            "automargin": true,
            "type": "pie"
           }
          ],
          "scatter": [
           {
            "marker": {
             "colorbar": {
              "outlinewidth": 0,
              "ticks": ""
             }
            },
            "type": "scatter"
           }
          ],
          "scatter3d": [
           {
            "line": {
             "colorbar": {
              "outlinewidth": 0,
              "ticks": ""
             }
            },
            "marker": {
             "colorbar": {
              "outlinewidth": 0,
              "ticks": ""
             }
            },
            "type": "scatter3d"
           }
          ],
          "scattercarpet": [
           {
            "marker": {
             "colorbar": {
              "outlinewidth": 0,
              "ticks": ""
             }
            },
            "type": "scattercarpet"
           }
          ],
          "scattergeo": [
           {
            "marker": {
             "colorbar": {
              "outlinewidth": 0,
              "ticks": ""
             }
            },
            "type": "scattergeo"
           }
          ],
          "scattergl": [
           {
            "marker": {
             "colorbar": {
              "outlinewidth": 0,
              "ticks": ""
             }
            },
            "type": "scattergl"
           }
          ],
          "scattermapbox": [
           {
            "marker": {
             "colorbar": {
              "outlinewidth": 0,
              "ticks": ""
             }
            },
            "type": "scattermapbox"
           }
          ],
          "scatterpolar": [
           {
            "marker": {
             "colorbar": {
              "outlinewidth": 0,
              "ticks": ""
             }
            },
            "type": "scatterpolar"
           }
          ],
          "scatterpolargl": [
           {
            "marker": {
             "colorbar": {
              "outlinewidth": 0,
              "ticks": ""
             }
            },
            "type": "scatterpolargl"
           }
          ],
          "scatterternary": [
           {
            "marker": {
             "colorbar": {
              "outlinewidth": 0,
              "ticks": ""
             }
            },
            "type": "scatterternary"
           }
          ],
          "surface": [
           {
            "colorbar": {
             "outlinewidth": 0,
             "ticks": ""
            },
            "colorscale": [
             [
              0,
              "#0d0887"
             ],
             [
              0.1111111111111111,
              "#46039f"
             ],
             [
              0.2222222222222222,
              "#7201a8"
             ],
             [
              0.3333333333333333,
              "#9c179e"
             ],
             [
              0.4444444444444444,
              "#bd3786"
             ],
             [
              0.5555555555555556,
              "#d8576b"
             ],
             [
              0.6666666666666666,
              "#ed7953"
             ],
             [
              0.7777777777777778,
              "#fb9f3a"
             ],
             [
              0.8888888888888888,
              "#fdca26"
             ],
             [
              1,
              "#f0f921"
             ]
            ],
            "type": "surface"
           }
          ],
          "table": [
           {
            "cells": {
             "fill": {
              "color": "#EBF0F8"
             },
             "line": {
              "color": "white"
             }
            },
            "header": {
             "fill": {
              "color": "#C8D4E3"
             },
             "line": {
              "color": "white"
             }
            },
            "type": "table"
           }
          ]
         },
         "layout": {
          "annotationdefaults": {
           "arrowcolor": "#2a3f5f",
           "arrowhead": 0,
           "arrowwidth": 1
          },
          "autotypenumbers": "strict",
          "coloraxis": {
           "colorbar": {
            "outlinewidth": 0,
            "ticks": ""
           }
          },
          "colorscale": {
           "diverging": [
            [
             0,
             "#8e0152"
            ],
            [
             0.1,
             "#c51b7d"
            ],
            [
             0.2,
             "#de77ae"
            ],
            [
             0.3,
             "#f1b6da"
            ],
            [
             0.4,
             "#fde0ef"
            ],
            [
             0.5,
             "#f7f7f7"
            ],
            [
             0.6,
             "#e6f5d0"
            ],
            [
             0.7,
             "#b8e186"
            ],
            [
             0.8,
             "#7fbc41"
            ],
            [
             0.9,
             "#4d9221"
            ],
            [
             1,
             "#276419"
            ]
           ],
           "sequential": [
            [
             0,
             "#0d0887"
            ],
            [
             0.1111111111111111,
             "#46039f"
            ],
            [
             0.2222222222222222,
             "#7201a8"
            ],
            [
             0.3333333333333333,
             "#9c179e"
            ],
            [
             0.4444444444444444,
             "#bd3786"
            ],
            [
             0.5555555555555556,
             "#d8576b"
            ],
            [
             0.6666666666666666,
             "#ed7953"
            ],
            [
             0.7777777777777778,
             "#fb9f3a"
            ],
            [
             0.8888888888888888,
             "#fdca26"
            ],
            [
             1,
             "#f0f921"
            ]
           ],
           "sequentialminus": [
            [
             0,
             "#0d0887"
            ],
            [
             0.1111111111111111,
             "#46039f"
            ],
            [
             0.2222222222222222,
             "#7201a8"
            ],
            [
             0.3333333333333333,
             "#9c179e"
            ],
            [
             0.4444444444444444,
             "#bd3786"
            ],
            [
             0.5555555555555556,
             "#d8576b"
            ],
            [
             0.6666666666666666,
             "#ed7953"
            ],
            [
             0.7777777777777778,
             "#fb9f3a"
            ],
            [
             0.8888888888888888,
             "#fdca26"
            ],
            [
             1,
             "#f0f921"
            ]
           ]
          },
          "colorway": [
           "#636efa",
           "#EF553B",
           "#00cc96",
           "#ab63fa",
           "#FFA15A",
           "#19d3f3",
           "#FF6692",
           "#B6E880",
           "#FF97FF",
           "#FECB52"
          ],
          "font": {
           "color": "#2a3f5f"
          },
          "geo": {
           "bgcolor": "white",
           "lakecolor": "white",
           "landcolor": "#E5ECF6",
           "showlakes": true,
           "showland": true,
           "subunitcolor": "white"
          },
          "hoverlabel": {
           "align": "left"
          },
          "hovermode": "closest",
          "mapbox": {
           "style": "light"
          },
          "paper_bgcolor": "white",
          "plot_bgcolor": "#E5ECF6",
          "polar": {
           "angularaxis": {
            "gridcolor": "white",
            "linecolor": "white",
            "ticks": ""
           },
           "bgcolor": "#E5ECF6",
           "radialaxis": {
            "gridcolor": "white",
            "linecolor": "white",
            "ticks": ""
           }
          },
          "scene": {
           "xaxis": {
            "backgroundcolor": "#E5ECF6",
            "gridcolor": "white",
            "gridwidth": 2,
            "linecolor": "white",
            "showbackground": true,
            "ticks": "",
            "zerolinecolor": "white"
           },
           "yaxis": {
            "backgroundcolor": "#E5ECF6",
            "gridcolor": "white",
            "gridwidth": 2,
            "linecolor": "white",
            "showbackground": true,
            "ticks": "",
            "zerolinecolor": "white"
           },
           "zaxis": {
            "backgroundcolor": "#E5ECF6",
            "gridcolor": "white",
            "gridwidth": 2,
            "linecolor": "white",
            "showbackground": true,
            "ticks": "",
            "zerolinecolor": "white"
           }
          },
          "shapedefaults": {
           "line": {
            "color": "#2a3f5f"
           }
          },
          "ternary": {
           "aaxis": {
            "gridcolor": "white",
            "linecolor": "white",
            "ticks": ""
           },
           "baxis": {
            "gridcolor": "white",
            "linecolor": "white",
            "ticks": ""
           },
           "bgcolor": "#E5ECF6",
           "caxis": {
            "gridcolor": "white",
            "linecolor": "white",
            "ticks": ""
           }
          },
          "title": {
           "x": 0.05
          },
          "xaxis": {
           "automargin": true,
           "gridcolor": "white",
           "linecolor": "white",
           "ticks": "",
           "title": {
            "standoff": 15
           },
           "zerolinecolor": "white",
           "zerolinewidth": 2
          },
          "yaxis": {
           "automargin": true,
           "gridcolor": "white",
           "linecolor": "white",
           "ticks": "",
           "title": {
            "standoff": 15
           },
           "zerolinecolor": "white",
           "zerolinewidth": 2
          }
         }
        },
        "title": {
         "text": "HABT11"
        },
        "yaxis": {
         "title": {
          "text": "Profit"
         }
        }
       }
      }
     },
     "metadata": {},
     "output_type": "display_data"
    },
    {
     "data": {
      "application/vnd.plotly.v1+json": {
       "config": {
        "plotlyServerURL": "https://plot.ly"
       },
       "data": [
        {
         "close": [
          7.599999999999909,
          9.11999999999989,
          -17.480000000000132,
          -15.580000000000041,
          -0.38000000000010914,
          -3.4200000000000728,
          -0.7600000000002183,
          23.179999999999836,
          5.699999999999818,
          19,
          21.659999999999854,
          23.939999999999827,
          28.11999999999989,
          22.799999999999955,
          16.7199999999998,
          -9.120000000000118,
          -10.6400000000001,
          -0.7600000000002183,
          14.819999999999936,
          24.319999999999936,
          15.959999999999809,
          25.079999999999927,
          45.59999999999991,
          28.87999999999988,
          -5.700000000000159,
          10.639999999999873,
          22.799999999999955,
          9.879999999999882,
          -6.080000000000041,
          -1.900000000000091,
          -9.88000000000011,
          2.2799999999999727,
          3.0399999999999636,
          8.739999999999782,
          23.939999999999827,
          22.039999999999964,
          18.61999999999989,
          22.419999999999845,
          24.699999999999818,
          33.059999999999945,
          52.819999999999936,
          61.179999999999836,
          64.59999999999991,
          61.93999999999983,
          58.13999999999987,
          42.179999999999836,
          66.5,
          60.419999999999845,
          58.13999999999987,
          75.61999999999989,
          56.23999999999978,
          36.47999999999979,
          47.87999999999988,
          69.15999999999985,
          48.25999999999999,
          59.659999999999854,
          47.87999999999988,
          54.33999999999992,
          73.7199999999998,
          80.93999999999983,
          60.419999999999845,
          76.75999999999999,
          67.25999999999999,
          74.09999999999991,
          53.57999999999993,
          56.23999999999978,
          43.319999999999936,
          49.399999999999864,
          61.559999999999945,
          63.07999999999993,
          66.5,
          77.13999999999987,
          66.5,
          77.13999999999987,
          62.319999999999936,
          58.899999999999864,
          44.83999999999992,
          30.399999999999864,
          18.61999999999989,
          30.019999999999982,
          15.579999999999927,
          12.539999999999964,
          5.319999999999936
         ],
         "high": [
          21.279999999999973,
          14.059999999999945,
          -3.4200000000000728,
          -0.38000000000010914,
          6.839999999999918,
          7.979999999999791,
          14.819999999999936,
          31.539999999999964,
          15.579999999999927,
          30.019999999999982,
          37.61999999999989,
          36.47999999999979,
          39.13999999999987,
          26.2199999999998,
          18.23999999999978,
          3.7999999999999545,
          6.079999999999927,
          17.47999999999979,
          26.59999999999991,
          34.57999999999993,
          23.939999999999827,
          50.919999999999845,
          60.039999999999964,
          37.23999999999978,
          11.019999999999982,
          22.419999999999845,
          26.97999999999979,
          12.919999999999845,
          2.6599999999998545,
          6.459999999999809,
          12.539999999999964,
          19.37999999999988,
          13.299999999999955,
          23.179999999999836,
          30.019999999999982,
          35.33999999999992,
          22.419999999999845,
          38,
          48.25999999999999,
          58.13999999999987,
          80.55999999999995,
          66.11999999999989,
          65.3599999999999,
          71.05999999999995,
          59.659999999999854,
          64.97999999999979,
          68.01999999999998,
          73.7199999999998,
          85.11999999999989,
          75.61999999999989,
          56.23999999999978,
          53.19999999999982,
          73.33999999999992,
          69.15999999999985,
          67.63999999999987,
          67.63999999999987,
          62.319999999999936,
          70.29999999999995,
          89.67999999999984,
          93.09999999999991,
          72.19999999999982,
          83.2199999999998,
          76.37999999999988,
          76,
          72.57999999999993,
          58.51999999999998,
          51.679999999999836,
          69.15999999999985,
          73.33999999999992,
          69.91999999999985,
          75.61999999999989,
          82.07999999999993,
          68.39999999999986,
          79.41999999999985,
          69.53999999999996,
          60.419999999999845,
          45.97999999999979,
          33.819999999999936,
          39.13999999999987,
          30.019999999999982,
          23.179999999999836,
          16.7199999999998,
          10.259999999999991
         ],
         "low": [
          0.37999999999988177,
          -21.280000000000086,
          -24.70000000000016,
          -16.340000000000146,
          -3.0400000000000773,
          -4.560000000000059,
          -1.900000000000091,
          8.3599999999999,
          1.8999999999998636,
          13.299999999999955,
          16.339999999999918,
          17.47999999999979,
          18.23999999999978,
          11.779999999999973,
          -4.560000000000059,
          -18.24000000000001,
          -15.580000000000041,
          -2.2800000000002,
          11.779999999999973,
          12.159999999999854,
          6.459999999999809,
          21.659999999999854,
          33.43999999999983,
          -11.02000000000021,
          -12.920000000000073,
          4.939999999999827,
          3.7999999999999545,
          -3.0400000000000773,
          -11.02000000000021,
          -17.860000000000127,
          -10.260000000000218,
          -0.7600000000002183,
          -5.32000000000005,
          6.079999999999927,
          17.09999999999991,
          19.37999999999988,
          -3.4200000000000728,
          3.7999999999999545,
          23.179999999999836,
          26.2199999999998,
          48.25999999999999,
          49.399999999999864,
          48.25999999999999,
          56.23999999999978,
          39.899999999999864,
          41.039999999999964,
          50.159999999999854,
          49.77999999999997,
          50.539999999999964,
          53.95999999999981,
          26.2199999999998,
          33.43999999999983,
          44.07999999999993,
          43.69999999999982,
          43.69999999999982,
          43.69999999999982,
          45.2199999999998,
          41.419999999999845,
          69.91999999999985,
          62.319999999999936,
          60.419999999999845,
          62.69999999999982,
          65.3599999999999,
          51.299999999999955,
          50.919999999999845,
          45.59999999999991,
          37.61999999999989,
          36.8599999999999,
          53.95999999999981,
          55.8599999999999,
          58.899999999999864,
          63.83999999999992,
          51.299999999999955,
          58.13999999999987,
          47.11999999999989,
          40.659999999999854,
          28.87999999999988,
          20.139999999999873,
          15.579999999999927,
          12.159999999999854,
          6.459999999999809,
          5.319999999999936,
          -6.8400000000001455
         ],
         "open": [
          18.61999999999989,
          -18.24000000000001,
          -7.600000000000136,
          -1.5200000000002092,
          -2.660000000000082,
          4.179999999999836,
          11.019999999999982,
          9.879999999999882,
          11.019999999999982,
          24.319999999999936,
          34.57999999999993,
          30.019999999999982,
          24.699999999999818,
          17.8599999999999,
          -0.38000000000010914,
          -13.680000000000177,
          1.8999999999998636,
          14.819999999999936,
          19.75999999999999,
          17.09999999999991,
          20.519999999999982,
          49.399999999999864,
          37.61999999999989,
          -4.940000000000168,
          9.11999999999989,
          22.419999999999845,
          9.879999999999882,
          -0.38000000000010914,
          -5.700000000000159,
          -11.780000000000086,
          11.779999999999973,
          1.5199999999999818,
          11.019999999999982,
          17.8599999999999,
          23.559999999999945,
          24.319999999999936,
          18.61999999999989,
          13.299999999999955,
          34.95999999999981,
          50.159999999999854,
          69.53999999999996,
          63.83999999999992,
          50.159999999999854,
          67.63999999999987,
          44.83999999999992,
          64.97999999999979,
          60.039999999999964,
          73.7199999999998,
          75.61999999999989,
          56.61999999999989,
          41.799999999999955,
          47.87999999999988,
          69.15999999999985,
          46.3599999999999,
          62.319999999999936,
          45.97999999999979,
          56.61999999999989,
          68.39999999999986,
          89.67999999999984,
          66.87999999999988,
          69.15999999999985,
          64.97999999999979,
          70.67999999999984,
          58.13999999999987,
          66.87999999999988,
          46.3599999999999,
          49.01999999999998,
          67.25999999999999,
          61.559999999999945,
          69.91999999999985,
          70.67999999999984,
          65.73999999999978,
          68.39999999999986,
          59.659999999999854,
          56.23999999999978,
          41.419999999999845,
          36.47999999999979,
          23.939999999999827,
          34.95999999999981,
          21.279999999999973,
          18.61999999999989,
          12.159999999999854,
          5.319999999999936
         ],
         "type": "candlestick",
         "x": [
          "2023-09-29",
          "2023-09-28",
          "2023-09-27",
          "2023-09-26",
          "2023-09-25",
          "2023-09-22",
          "2023-09-21",
          "2023-09-20",
          "2023-09-19",
          "2023-09-18",
          "2023-09-15",
          "2023-09-14",
          "2023-09-13",
          "2023-09-12",
          "2023-09-11",
          "2023-09-08",
          "2023-09-06",
          "2023-09-05",
          "2023-09-04",
          "2023-09-01",
          "2023-08-31",
          "2023-08-30",
          "2023-08-29",
          "2023-08-28",
          "2023-08-25",
          "2023-08-24",
          "2023-08-23",
          "2023-08-22",
          "2023-08-21",
          "2023-08-18",
          "2023-08-17",
          "2023-08-16",
          "2023-08-15",
          "2023-08-14",
          "2023-08-11",
          "2023-08-10",
          "2023-08-09",
          "2023-08-08",
          "2023-08-07",
          "2023-08-04",
          "2023-08-03",
          "2023-08-02",
          "2023-08-01",
          "2023-07-31",
          "2023-07-28",
          "2023-07-27",
          "2023-07-26",
          "2023-07-25",
          "2023-07-24",
          "2023-07-21",
          "2023-07-20",
          "2023-07-19",
          "2023-07-18",
          "2023-07-17",
          "2023-07-14",
          "2023-07-13",
          "2023-07-12",
          "2023-07-11",
          "2023-07-10",
          "2023-07-07",
          "2023-07-06",
          "2023-07-05",
          "2023-07-04",
          "2023-07-03",
          "2023-06-30",
          "2023-06-29",
          "2023-06-28",
          "2023-06-27",
          "2023-06-26",
          "2023-06-23",
          "2023-06-22",
          "2023-06-21",
          "2023-06-20",
          "2023-06-19",
          "2023-06-16",
          "2023-06-15",
          "2023-06-14",
          "2023-06-13",
          "2023-06-12",
          "2023-06-09",
          "2023-06-07",
          "2023-06-06",
          "2023-06-05"
         ]
        }
       ],
       "layout": {
        "template": {
         "data": {
          "bar": [
           {
            "error_x": {
             "color": "#2a3f5f"
            },
            "error_y": {
             "color": "#2a3f5f"
            },
            "marker": {
             "line": {
              "color": "#E5ECF6",
              "width": 0.5
             },
             "pattern": {
              "fillmode": "overlay",
              "size": 10,
              "solidity": 0.2
             }
            },
            "type": "bar"
           }
          ],
          "barpolar": [
           {
            "marker": {
             "line": {
              "color": "#E5ECF6",
              "width": 0.5
             },
             "pattern": {
              "fillmode": "overlay",
              "size": 10,
              "solidity": 0.2
             }
            },
            "type": "barpolar"
           }
          ],
          "carpet": [
           {
            "aaxis": {
             "endlinecolor": "#2a3f5f",
             "gridcolor": "white",
             "linecolor": "white",
             "minorgridcolor": "white",
             "startlinecolor": "#2a3f5f"
            },
            "baxis": {
             "endlinecolor": "#2a3f5f",
             "gridcolor": "white",
             "linecolor": "white",
             "minorgridcolor": "white",
             "startlinecolor": "#2a3f5f"
            },
            "type": "carpet"
           }
          ],
          "choropleth": [
           {
            "colorbar": {
             "outlinewidth": 0,
             "ticks": ""
            },
            "type": "choropleth"
           }
          ],
          "contour": [
           {
            "colorbar": {
             "outlinewidth": 0,
             "ticks": ""
            },
            "colorscale": [
             [
              0,
              "#0d0887"
             ],
             [
              0.1111111111111111,
              "#46039f"
             ],
             [
              0.2222222222222222,
              "#7201a8"
             ],
             [
              0.3333333333333333,
              "#9c179e"
             ],
             [
              0.4444444444444444,
              "#bd3786"
             ],
             [
              0.5555555555555556,
              "#d8576b"
             ],
             [
              0.6666666666666666,
              "#ed7953"
             ],
             [
              0.7777777777777778,
              "#fb9f3a"
             ],
             [
              0.8888888888888888,
              "#fdca26"
             ],
             [
              1,
              "#f0f921"
             ]
            ],
            "type": "contour"
           }
          ],
          "contourcarpet": [
           {
            "colorbar": {
             "outlinewidth": 0,
             "ticks": ""
            },
            "type": "contourcarpet"
           }
          ],
          "heatmap": [
           {
            "colorbar": {
             "outlinewidth": 0,
             "ticks": ""
            },
            "colorscale": [
             [
              0,
              "#0d0887"
             ],
             [
              0.1111111111111111,
              "#46039f"
             ],
             [
              0.2222222222222222,
              "#7201a8"
             ],
             [
              0.3333333333333333,
              "#9c179e"
             ],
             [
              0.4444444444444444,
              "#bd3786"
             ],
             [
              0.5555555555555556,
              "#d8576b"
             ],
             [
              0.6666666666666666,
              "#ed7953"
             ],
             [
              0.7777777777777778,
              "#fb9f3a"
             ],
             [
              0.8888888888888888,
              "#fdca26"
             ],
             [
              1,
              "#f0f921"
             ]
            ],
            "type": "heatmap"
           }
          ],
          "heatmapgl": [
           {
            "colorbar": {
             "outlinewidth": 0,
             "ticks": ""
            },
            "colorscale": [
             [
              0,
              "#0d0887"
             ],
             [
              0.1111111111111111,
              "#46039f"
             ],
             [
              0.2222222222222222,
              "#7201a8"
             ],
             [
              0.3333333333333333,
              "#9c179e"
             ],
             [
              0.4444444444444444,
              "#bd3786"
             ],
             [
              0.5555555555555556,
              "#d8576b"
             ],
             [
              0.6666666666666666,
              "#ed7953"
             ],
             [
              0.7777777777777778,
              "#fb9f3a"
             ],
             [
              0.8888888888888888,
              "#fdca26"
             ],
             [
              1,
              "#f0f921"
             ]
            ],
            "type": "heatmapgl"
           }
          ],
          "histogram": [
           {
            "marker": {
             "pattern": {
              "fillmode": "overlay",
              "size": 10,
              "solidity": 0.2
             }
            },
            "type": "histogram"
           }
          ],
          "histogram2d": [
           {
            "colorbar": {
             "outlinewidth": 0,
             "ticks": ""
            },
            "colorscale": [
             [
              0,
              "#0d0887"
             ],
             [
              0.1111111111111111,
              "#46039f"
             ],
             [
              0.2222222222222222,
              "#7201a8"
             ],
             [
              0.3333333333333333,
              "#9c179e"
             ],
             [
              0.4444444444444444,
              "#bd3786"
             ],
             [
              0.5555555555555556,
              "#d8576b"
             ],
             [
              0.6666666666666666,
              "#ed7953"
             ],
             [
              0.7777777777777778,
              "#fb9f3a"
             ],
             [
              0.8888888888888888,
              "#fdca26"
             ],
             [
              1,
              "#f0f921"
             ]
            ],
            "type": "histogram2d"
           }
          ],
          "histogram2dcontour": [
           {
            "colorbar": {
             "outlinewidth": 0,
             "ticks": ""
            },
            "colorscale": [
             [
              0,
              "#0d0887"
             ],
             [
              0.1111111111111111,
              "#46039f"
             ],
             [
              0.2222222222222222,
              "#7201a8"
             ],
             [
              0.3333333333333333,
              "#9c179e"
             ],
             [
              0.4444444444444444,
              "#bd3786"
             ],
             [
              0.5555555555555556,
              "#d8576b"
             ],
             [
              0.6666666666666666,
              "#ed7953"
             ],
             [
              0.7777777777777778,
              "#fb9f3a"
             ],
             [
              0.8888888888888888,
              "#fdca26"
             ],
             [
              1,
              "#f0f921"
             ]
            ],
            "type": "histogram2dcontour"
           }
          ],
          "mesh3d": [
           {
            "colorbar": {
             "outlinewidth": 0,
             "ticks": ""
            },
            "type": "mesh3d"
           }
          ],
          "parcoords": [
           {
            "line": {
             "colorbar": {
              "outlinewidth": 0,
              "ticks": ""
             }
            },
            "type": "parcoords"
           }
          ],
          "pie": [
           {
            "automargin": true,
            "type": "pie"
           }
          ],
          "scatter": [
           {
            "marker": {
             "colorbar": {
              "outlinewidth": 0,
              "ticks": ""
             }
            },
            "type": "scatter"
           }
          ],
          "scatter3d": [
           {
            "line": {
             "colorbar": {
              "outlinewidth": 0,
              "ticks": ""
             }
            },
            "marker": {
             "colorbar": {
              "outlinewidth": 0,
              "ticks": ""
             }
            },
            "type": "scatter3d"
           }
          ],
          "scattercarpet": [
           {
            "marker": {
             "colorbar": {
              "outlinewidth": 0,
              "ticks": ""
             }
            },
            "type": "scattercarpet"
           }
          ],
          "scattergeo": [
           {
            "marker": {
             "colorbar": {
              "outlinewidth": 0,
              "ticks": ""
             }
            },
            "type": "scattergeo"
           }
          ],
          "scattergl": [
           {
            "marker": {
             "colorbar": {
              "outlinewidth": 0,
              "ticks": ""
             }
            },
            "type": "scattergl"
           }
          ],
          "scattermapbox": [
           {
            "marker": {
             "colorbar": {
              "outlinewidth": 0,
              "ticks": ""
             }
            },
            "type": "scattermapbox"
           }
          ],
          "scatterpolar": [
           {
            "marker": {
             "colorbar": {
              "outlinewidth": 0,
              "ticks": ""
             }
            },
            "type": "scatterpolar"
           }
          ],
          "scatterpolargl": [
           {
            "marker": {
             "colorbar": {
              "outlinewidth": 0,
              "ticks": ""
             }
            },
            "type": "scatterpolargl"
           }
          ],
          "scatterternary": [
           {
            "marker": {
             "colorbar": {
              "outlinewidth": 0,
              "ticks": ""
             }
            },
            "type": "scatterternary"
           }
          ],
          "surface": [
           {
            "colorbar": {
             "outlinewidth": 0,
             "ticks": ""
            },
            "colorscale": [
             [
              0,
              "#0d0887"
             ],
             [
              0.1111111111111111,
              "#46039f"
             ],
             [
              0.2222222222222222,
              "#7201a8"
             ],
             [
              0.3333333333333333,
              "#9c179e"
             ],
             [
              0.4444444444444444,
              "#bd3786"
             ],
             [
              0.5555555555555556,
              "#d8576b"
             ],
             [
              0.6666666666666666,
              "#ed7953"
             ],
             [
              0.7777777777777778,
              "#fb9f3a"
             ],
             [
              0.8888888888888888,
              "#fdca26"
             ],
             [
              1,
              "#f0f921"
             ]
            ],
            "type": "surface"
           }
          ],
          "table": [
           {
            "cells": {
             "fill": {
              "color": "#EBF0F8"
             },
             "line": {
              "color": "white"
             }
            },
            "header": {
             "fill": {
              "color": "#C8D4E3"
             },
             "line": {
              "color": "white"
             }
            },
            "type": "table"
           }
          ]
         },
         "layout": {
          "annotationdefaults": {
           "arrowcolor": "#2a3f5f",
           "arrowhead": 0,
           "arrowwidth": 1
          },
          "autotypenumbers": "strict",
          "coloraxis": {
           "colorbar": {
            "outlinewidth": 0,
            "ticks": ""
           }
          },
          "colorscale": {
           "diverging": [
            [
             0,
             "#8e0152"
            ],
            [
             0.1,
             "#c51b7d"
            ],
            [
             0.2,
             "#de77ae"
            ],
            [
             0.3,
             "#f1b6da"
            ],
            [
             0.4,
             "#fde0ef"
            ],
            [
             0.5,
             "#f7f7f7"
            ],
            [
             0.6,
             "#e6f5d0"
            ],
            [
             0.7,
             "#b8e186"
            ],
            [
             0.8,
             "#7fbc41"
            ],
            [
             0.9,
             "#4d9221"
            ],
            [
             1,
             "#276419"
            ]
           ],
           "sequential": [
            [
             0,
             "#0d0887"
            ],
            [
             0.1111111111111111,
             "#46039f"
            ],
            [
             0.2222222222222222,
             "#7201a8"
            ],
            [
             0.3333333333333333,
             "#9c179e"
            ],
            [
             0.4444444444444444,
             "#bd3786"
            ],
            [
             0.5555555555555556,
             "#d8576b"
            ],
            [
             0.6666666666666666,
             "#ed7953"
            ],
            [
             0.7777777777777778,
             "#fb9f3a"
            ],
            [
             0.8888888888888888,
             "#fdca26"
            ],
            [
             1,
             "#f0f921"
            ]
           ],
           "sequentialminus": [
            [
             0,
             "#0d0887"
            ],
            [
             0.1111111111111111,
             "#46039f"
            ],
            [
             0.2222222222222222,
             "#7201a8"
            ],
            [
             0.3333333333333333,
             "#9c179e"
            ],
            [
             0.4444444444444444,
             "#bd3786"
            ],
            [
             0.5555555555555556,
             "#d8576b"
            ],
            [
             0.6666666666666666,
             "#ed7953"
            ],
            [
             0.7777777777777778,
             "#fb9f3a"
            ],
            [
             0.8888888888888888,
             "#fdca26"
            ],
            [
             1,
             "#f0f921"
            ]
           ]
          },
          "colorway": [
           "#636efa",
           "#EF553B",
           "#00cc96",
           "#ab63fa",
           "#FFA15A",
           "#19d3f3",
           "#FF6692",
           "#B6E880",
           "#FF97FF",
           "#FECB52"
          ],
          "font": {
           "color": "#2a3f5f"
          },
          "geo": {
           "bgcolor": "white",
           "lakecolor": "white",
           "landcolor": "#E5ECF6",
           "showlakes": true,
           "showland": true,
           "subunitcolor": "white"
          },
          "hoverlabel": {
           "align": "left"
          },
          "hovermode": "closest",
          "mapbox": {
           "style": "light"
          },
          "paper_bgcolor": "white",
          "plot_bgcolor": "#E5ECF6",
          "polar": {
           "angularaxis": {
            "gridcolor": "white",
            "linecolor": "white",
            "ticks": ""
           },
           "bgcolor": "#E5ECF6",
           "radialaxis": {
            "gridcolor": "white",
            "linecolor": "white",
            "ticks": ""
           }
          },
          "scene": {
           "xaxis": {
            "backgroundcolor": "#E5ECF6",
            "gridcolor": "white",
            "gridwidth": 2,
            "linecolor": "white",
            "showbackground": true,
            "ticks": "",
            "zerolinecolor": "white"
           },
           "yaxis": {
            "backgroundcolor": "#E5ECF6",
            "gridcolor": "white",
            "gridwidth": 2,
            "linecolor": "white",
            "showbackground": true,
            "ticks": "",
            "zerolinecolor": "white"
           },
           "zaxis": {
            "backgroundcolor": "#E5ECF6",
            "gridcolor": "white",
            "gridwidth": 2,
            "linecolor": "white",
            "showbackground": true,
            "ticks": "",
            "zerolinecolor": "white"
           }
          },
          "shapedefaults": {
           "line": {
            "color": "#2a3f5f"
           }
          },
          "ternary": {
           "aaxis": {
            "gridcolor": "white",
            "linecolor": "white",
            "ticks": ""
           },
           "baxis": {
            "gridcolor": "white",
            "linecolor": "white",
            "ticks": ""
           },
           "bgcolor": "#E5ECF6",
           "caxis": {
            "gridcolor": "white",
            "linecolor": "white",
            "ticks": ""
           }
          },
          "title": {
           "x": 0.05
          },
          "xaxis": {
           "automargin": true,
           "gridcolor": "white",
           "linecolor": "white",
           "ticks": "",
           "title": {
            "standoff": 15
           },
           "zerolinecolor": "white",
           "zerolinewidth": 2
          },
          "yaxis": {
           "automargin": true,
           "gridcolor": "white",
           "linecolor": "white",
           "ticks": "",
           "title": {
            "standoff": 15
           },
           "zerolinecolor": "white",
           "zerolinewidth": 2
          }
         }
        },
        "title": {
         "text": "ITUB4"
        },
        "yaxis": {
         "title": {
          "text": "Profit"
         }
        }
       }
      }
     },
     "metadata": {},
     "output_type": "display_data"
    },
    {
     "data": {
      "application/vnd.plotly.v1+json": {
       "config": {
        "plotlyServerURL": "https://plot.ly"
       },
       "data": [
        {
         "close": [
          507.6500000000001,
          494.1600000000003,
          499.1300000000001,
          423.8699999999999,
          479.96000000000004,
          464.34000000000015,
          445.1700000000001,
          482.8000000000002,
          477.1199999999999,
          471.44000000000005,
          454.4000000000001,
          452.98,
          393.34000000000015,
          428.84000000000015,
          417.48,
          419.6100000000001,
          419.6100000000001,
          428.1300000000001,
          417.48,
          340.8000000000002,
          364.94000000000005,
          315.9500000000003,
          364.23,
          348.6100000000001,
          343.6399999999999,
          318.0799999999999,
          333.6999999999998,
          337.25,
          221.51999999999998,
          270.5100000000002,
          286.1300000000001,
          280.4500000000003,
          287.5500000000002,
          239.26999999999998,
          223.6500000000001,
          217.9699999999998,
          222.94000000000005,
          210.8699999999999,
          193.82999999999993,
          191.70000000000027,
          178.21000000000004,
          243.5300000000002,
          215.84000000000015,
          220.80999999999995,
          257.02,
          161.17000000000007,
          134.9000000000001,
          249.21000000000004,
          249.21000000000004,
          199.51000000000022,
          155.49000000000024,
          116.44000000000005,
          114.30999999999995,
          95.13999999999987,
          106.5,
          110.76000000000022,
          151.94000000000005,
          119.2800000000002,
          117.86000000000013,
          146.26000000000022,
          142.71000000000004,
          153.36000000000013,
          186.01999999999998,
          188.86000000000013,
          183.88999999999987,
          144.84000000000015,
          251.34000000000015,
          241.4000000000001,
          220.80999999999995,
          237.8499999999999,
          189.57000000000016,
          281.15999999999985,
          309.55999999999995,
          218.67999999999984,
          208.0300000000002,
          152.6500000000001,
          134.9000000000001,
          185.30999999999995,
          97.26999999999998,
          235.7199999999998,
          198.09000000000015,
          97.98000000000002,
          39.75999999999999,
          -1.4200000000000728
         ],
         "high": [
          511.1999999999998,
          500.5500000000002,
          499.1300000000001,
          468.60000000000036,
          485.6399999999999,
          475.6999999999998,
          482.8000000000002,
          505.52,
          506.23,
          512.6199999999999,
          461.5,
          462.21000000000004,
          440.9100000000003,
          446.59000000000015,
          440.1999999999998,
          438.7800000000002,
          438.7800000000002,
          448.00999999999976,
          426,
          371.3299999999999,
          369.1999999999998,
          376.3000000000002,
          369.9100000000003,
          355.71000000000004,
          344.35000000000036,
          353.5799999999999,
          371.3299999999999,
          337.25,
          221.51999999999998,
          322.34000000000015,
          297.49000000000024,
          333.6999999999998,
          318.78999999999996,
          330.8600000000001,
          230.75,
          252.05000000000018,
          239.26999999999998,
          229.32999999999993,
          205.9000000000001,
          213.71000000000004,
          259.1500000000001,
          258.44000000000005,
          219.38999999999987,
          255.5999999999999,
          259.8600000000001,
          174.65999999999985,
          241.4000000000001,
          264.8299999999999,
          252.76000000000022,
          207.32000000000016,
          168.26999999999998,
          132.05999999999995,
          116.44000000000005,
          121.40999999999985,
          113.59999999999991,
          148.38999999999987,
          158.32999999999993,
          161.8800000000001,
          144.84000000000015,
          154.7800000000002,
          192.40999999999985,
          178.21000000000004,
          217.26000000000022,
          205.9000000000001,
          190.99000000000024,
          254.88999999999987,
          257.73,
          261.99000000000024,
          263.40999999999985,
          252.76000000000022,
          269.09000000000015,
          298.2000000000003,
          320.21000000000004,
          231.46000000000004,
          210.8699999999999,
          172.5300000000002,
          238.55999999999995,
          185.30999999999995,
          124.25,
          248.5,
          205.9000000000001,
          111.4699999999998,
          53.960000000000036,
          4.970000000000027
         ],
         "low": [
          479.96000000000004,
          477.1199999999999,
          446.59000000000015,
          423.8699999999999,
          457.24000000000024,
          448.72000000000025,
          435.94000000000005,
          462.9200000000001,
          467.17999999999984,
          451.55999999999995,
          434.52,
          398.30999999999995,
          393.34000000000015,
          426,
          414.6399999999999,
          409.6700000000001,
          409.6700000000001,
          406.8299999999999,
          335.8299999999999,
          335.1199999999999,
          317.3699999999999,
          311.69000000000005,
          341.50999999999976,
          319.5,
          310.27,
          306.0100000000002,
          308.8499999999999,
          255.5999999999999,
          195.25,
          247.07999999999993,
          261.99000000000024,
          271.2199999999998,
          240.69000000000005,
          238.55999999999995,
          197.3800000000001,
          189.57000000000016,
          186.73000000000002,
          189.57000000000016,
          158.32999999999993,
          168.26999999999998,
          159.75,
          222.23000000000002,
          164.01000000000022,
          174.65999999999985,
          199.51000000000022,
          129.92999999999984,
          134.19000000000005,
          222.94000000000005,
          192.40999999999985,
          161.17000000000007,
          116.44000000000005,
          98.69000000000005,
          76.68000000000006,
          86.62000000000012,
          32.66000000000008,
          97.26999999999998,
          110.05000000000018,
          117.15000000000009,
          107.21000000000004,
          107.92000000000007,
          132.76999999999998,
          117.86000000000013,
          154.07000000000016,
          175.3699999999999,
          158.32999999999993,
          129.92999999999984,
          232.17000000000007,
          217.26000000000022,
          202.3499999999999,
          186.73000000000002,
          170.4000000000001,
          254.88999999999987,
          238.55999999999995,
          171.11000000000013,
          146.26000000000022,
          110.05000000000018,
          127.09000000000015,
          98.69000000000005,
          78.10000000000014,
          181.05000000000018,
          108.63000000000011,
          66.74000000000001,
          -19.87999999999988,
          -18.460000000000036
         ],
         "open": [
          497.71000000000004,
          494.1600000000003,
          452.27,
          462.21000000000004,
          458.6600000000003,
          463.6300000000001,
          462.21000000000004,
          472.8600000000001,
          477.1199999999999,
          462.21000000000004,
          452.98,
          398.30999999999995,
          437.3600000000001,
          430.25999999999976,
          424.5799999999999,
          425.28999999999996,
          425.28999999999996,
          416.05999999999995,
          339.3800000000001,
          368.49000000000024,
          335.1199999999999,
          370.6199999999999,
          349.3199999999997,
          348.6100000000001,
          327.30999999999995,
          347.19000000000005,
          339.3800000000001,
          263.40999999999985,
          213.71000000000004,
          298.90999999999985,
          278.32000000000016,
          302.46000000000004,
          249.21000000000004,
          323.75999999999976,
          212.28999999999996,
          221.51999999999998,
          199.51000000000022,
          193.1199999999999,
          171.82000000000016,
          168.26999999999998,
          227.90999999999985,
          244.24000000000024,
          214.42000000000007,
          255.5999999999999,
          199.51000000000022,
          137.74000000000024,
          238.55999999999995,
          245.65999999999985,
          213.71000000000004,
          164.01000000000022,
          117.86000000000013,
          112.17999999999984,
          93.72000000000003,
          107.21000000000004,
          65.31999999999994,
          142.71000000000004,
          112.17999999999984,
          121.40999999999985,
          144.84000000000015,
          115.01999999999998,
          161.17000000000007,
          167.55999999999995,
          189.57000000000016,
          175.3699999999999,
          158.32999999999993,
          249.21000000000004,
          249.21000000000004,
          219.38999999999987,
          244.24000000000024,
          186.73000000000002,
          263.40999999999985,
          281.8699999999999,
          244.24000000000024,
          199.51000000000022,
          151.94000000000005,
          123.53999999999996,
          192.40999999999985,
          102.95000000000027,
          124.25,
          193.82999999999993,
          114.30999999999995,
          82.3599999999999,
          -2.839999999999918,
          3.5499999999999545
         ],
         "type": "candlestick",
         "x": [
          "2023-09-29",
          "2023-09-28",
          "2023-09-27",
          "2023-09-26",
          "2023-09-25",
          "2023-09-22",
          "2023-09-21",
          "2023-09-20",
          "2023-09-19",
          "2023-09-18",
          "2023-09-15",
          "2023-09-14",
          "2023-09-13",
          "2023-09-12",
          "2023-09-11",
          "2023-09-09",
          "2023-09-08",
          "2023-09-06",
          "2023-09-05",
          "2023-09-04",
          "2023-09-01",
          "2023-08-31",
          "2023-08-30",
          "2023-08-29",
          "2023-08-28",
          "2023-08-25",
          "2023-08-24",
          "2023-08-23",
          "2023-08-22",
          "2023-08-21",
          "2023-08-18",
          "2023-08-17",
          "2023-08-16",
          "2023-08-15",
          "2023-08-14",
          "2023-08-11",
          "2023-08-10",
          "2023-08-09",
          "2023-08-08",
          "2023-08-07",
          "2023-08-04",
          "2023-08-03",
          "2023-08-02",
          "2023-08-01",
          "2023-07-31",
          "2023-07-28",
          "2023-07-27",
          "2023-07-26",
          "2023-07-25",
          "2023-07-24",
          "2023-07-21",
          "2023-07-20",
          "2023-07-19",
          "2023-07-18",
          "2023-07-17",
          "2023-07-14",
          "2023-07-13",
          "2023-07-12",
          "2023-07-11",
          "2023-07-10",
          "2023-07-07",
          "2023-07-06",
          "2023-07-05",
          "2023-07-04",
          "2023-07-03",
          "2023-06-30",
          "2023-06-29",
          "2023-06-28",
          "2023-06-27",
          "2023-06-26",
          "2023-06-23",
          "2023-06-22",
          "2023-06-21",
          "2023-06-20",
          "2023-06-19",
          "2023-06-16",
          "2023-06-15",
          "2023-06-14",
          "2023-06-13",
          "2023-06-12",
          "2023-06-09",
          "2023-06-07",
          "2023-06-06",
          "2023-06-05"
         ]
        }
       ],
       "layout": {
        "template": {
         "data": {
          "bar": [
           {
            "error_x": {
             "color": "#2a3f5f"
            },
            "error_y": {
             "color": "#2a3f5f"
            },
            "marker": {
             "line": {
              "color": "#E5ECF6",
              "width": 0.5
             },
             "pattern": {
              "fillmode": "overlay",
              "size": 10,
              "solidity": 0.2
             }
            },
            "type": "bar"
           }
          ],
          "barpolar": [
           {
            "marker": {
             "line": {
              "color": "#E5ECF6",
              "width": 0.5
             },
             "pattern": {
              "fillmode": "overlay",
              "size": 10,
              "solidity": 0.2
             }
            },
            "type": "barpolar"
           }
          ],
          "carpet": [
           {
            "aaxis": {
             "endlinecolor": "#2a3f5f",
             "gridcolor": "white",
             "linecolor": "white",
             "minorgridcolor": "white",
             "startlinecolor": "#2a3f5f"
            },
            "baxis": {
             "endlinecolor": "#2a3f5f",
             "gridcolor": "white",
             "linecolor": "white",
             "minorgridcolor": "white",
             "startlinecolor": "#2a3f5f"
            },
            "type": "carpet"
           }
          ],
          "choropleth": [
           {
            "colorbar": {
             "outlinewidth": 0,
             "ticks": ""
            },
            "type": "choropleth"
           }
          ],
          "contour": [
           {
            "colorbar": {
             "outlinewidth": 0,
             "ticks": ""
            },
            "colorscale": [
             [
              0,
              "#0d0887"
             ],
             [
              0.1111111111111111,
              "#46039f"
             ],
             [
              0.2222222222222222,
              "#7201a8"
             ],
             [
              0.3333333333333333,
              "#9c179e"
             ],
             [
              0.4444444444444444,
              "#bd3786"
             ],
             [
              0.5555555555555556,
              "#d8576b"
             ],
             [
              0.6666666666666666,
              "#ed7953"
             ],
             [
              0.7777777777777778,
              "#fb9f3a"
             ],
             [
              0.8888888888888888,
              "#fdca26"
             ],
             [
              1,
              "#f0f921"
             ]
            ],
            "type": "contour"
           }
          ],
          "contourcarpet": [
           {
            "colorbar": {
             "outlinewidth": 0,
             "ticks": ""
            },
            "type": "contourcarpet"
           }
          ],
          "heatmap": [
           {
            "colorbar": {
             "outlinewidth": 0,
             "ticks": ""
            },
            "colorscale": [
             [
              0,
              "#0d0887"
             ],
             [
              0.1111111111111111,
              "#46039f"
             ],
             [
              0.2222222222222222,
              "#7201a8"
             ],
             [
              0.3333333333333333,
              "#9c179e"
             ],
             [
              0.4444444444444444,
              "#bd3786"
             ],
             [
              0.5555555555555556,
              "#d8576b"
             ],
             [
              0.6666666666666666,
              "#ed7953"
             ],
             [
              0.7777777777777778,
              "#fb9f3a"
             ],
             [
              0.8888888888888888,
              "#fdca26"
             ],
             [
              1,
              "#f0f921"
             ]
            ],
            "type": "heatmap"
           }
          ],
          "heatmapgl": [
           {
            "colorbar": {
             "outlinewidth": 0,
             "ticks": ""
            },
            "colorscale": [
             [
              0,
              "#0d0887"
             ],
             [
              0.1111111111111111,
              "#46039f"
             ],
             [
              0.2222222222222222,
              "#7201a8"
             ],
             [
              0.3333333333333333,
              "#9c179e"
             ],
             [
              0.4444444444444444,
              "#bd3786"
             ],
             [
              0.5555555555555556,
              "#d8576b"
             ],
             [
              0.6666666666666666,
              "#ed7953"
             ],
             [
              0.7777777777777778,
              "#fb9f3a"
             ],
             [
              0.8888888888888888,
              "#fdca26"
             ],
             [
              1,
              "#f0f921"
             ]
            ],
            "type": "heatmapgl"
           }
          ],
          "histogram": [
           {
            "marker": {
             "pattern": {
              "fillmode": "overlay",
              "size": 10,
              "solidity": 0.2
             }
            },
            "type": "histogram"
           }
          ],
          "histogram2d": [
           {
            "colorbar": {
             "outlinewidth": 0,
             "ticks": ""
            },
            "colorscale": [
             [
              0,
              "#0d0887"
             ],
             [
              0.1111111111111111,
              "#46039f"
             ],
             [
              0.2222222222222222,
              "#7201a8"
             ],
             [
              0.3333333333333333,
              "#9c179e"
             ],
             [
              0.4444444444444444,
              "#bd3786"
             ],
             [
              0.5555555555555556,
              "#d8576b"
             ],
             [
              0.6666666666666666,
              "#ed7953"
             ],
             [
              0.7777777777777778,
              "#fb9f3a"
             ],
             [
              0.8888888888888888,
              "#fdca26"
             ],
             [
              1,
              "#f0f921"
             ]
            ],
            "type": "histogram2d"
           }
          ],
          "histogram2dcontour": [
           {
            "colorbar": {
             "outlinewidth": 0,
             "ticks": ""
            },
            "colorscale": [
             [
              0,
              "#0d0887"
             ],
             [
              0.1111111111111111,
              "#46039f"
             ],
             [
              0.2222222222222222,
              "#7201a8"
             ],
             [
              0.3333333333333333,
              "#9c179e"
             ],
             [
              0.4444444444444444,
              "#bd3786"
             ],
             [
              0.5555555555555556,
              "#d8576b"
             ],
             [
              0.6666666666666666,
              "#ed7953"
             ],
             [
              0.7777777777777778,
              "#fb9f3a"
             ],
             [
              0.8888888888888888,
              "#fdca26"
             ],
             [
              1,
              "#f0f921"
             ]
            ],
            "type": "histogram2dcontour"
           }
          ],
          "mesh3d": [
           {
            "colorbar": {
             "outlinewidth": 0,
             "ticks": ""
            },
            "type": "mesh3d"
           }
          ],
          "parcoords": [
           {
            "line": {
             "colorbar": {
              "outlinewidth": 0,
              "ticks": ""
             }
            },
            "type": "parcoords"
           }
          ],
          "pie": [
           {
            "automargin": true,
            "type": "pie"
           }
          ],
          "scatter": [
           {
            "marker": {
             "colorbar": {
              "outlinewidth": 0,
              "ticks": ""
             }
            },
            "type": "scatter"
           }
          ],
          "scatter3d": [
           {
            "line": {
             "colorbar": {
              "outlinewidth": 0,
              "ticks": ""
             }
            },
            "marker": {
             "colorbar": {
              "outlinewidth": 0,
              "ticks": ""
             }
            },
            "type": "scatter3d"
           }
          ],
          "scattercarpet": [
           {
            "marker": {
             "colorbar": {
              "outlinewidth": 0,
              "ticks": ""
             }
            },
            "type": "scattercarpet"
           }
          ],
          "scattergeo": [
           {
            "marker": {
             "colorbar": {
              "outlinewidth": 0,
              "ticks": ""
             }
            },
            "type": "scattergeo"
           }
          ],
          "scattergl": [
           {
            "marker": {
             "colorbar": {
              "outlinewidth": 0,
              "ticks": ""
             }
            },
            "type": "scattergl"
           }
          ],
          "scattermapbox": [
           {
            "marker": {
             "colorbar": {
              "outlinewidth": 0,
              "ticks": ""
             }
            },
            "type": "scattermapbox"
           }
          ],
          "scatterpolar": [
           {
            "marker": {
             "colorbar": {
              "outlinewidth": 0,
              "ticks": ""
             }
            },
            "type": "scatterpolar"
           }
          ],
          "scatterpolargl": [
           {
            "marker": {
             "colorbar": {
              "outlinewidth": 0,
              "ticks": ""
             }
            },
            "type": "scatterpolargl"
           }
          ],
          "scatterternary": [
           {
            "marker": {
             "colorbar": {
              "outlinewidth": 0,
              "ticks": ""
             }
            },
            "type": "scatterternary"
           }
          ],
          "surface": [
           {
            "colorbar": {
             "outlinewidth": 0,
             "ticks": ""
            },
            "colorscale": [
             [
              0,
              "#0d0887"
             ],
             [
              0.1111111111111111,
              "#46039f"
             ],
             [
              0.2222222222222222,
              "#7201a8"
             ],
             [
              0.3333333333333333,
              "#9c179e"
             ],
             [
              0.4444444444444444,
              "#bd3786"
             ],
             [
              0.5555555555555556,
              "#d8576b"
             ],
             [
              0.6666666666666666,
              "#ed7953"
             ],
             [
              0.7777777777777778,
              "#fb9f3a"
             ],
             [
              0.8888888888888888,
              "#fdca26"
             ],
             [
              1,
              "#f0f921"
             ]
            ],
            "type": "surface"
           }
          ],
          "table": [
           {
            "cells": {
             "fill": {
              "color": "#EBF0F8"
             },
             "line": {
              "color": "white"
             }
            },
            "header": {
             "fill": {
              "color": "#C8D4E3"
             },
             "line": {
              "color": "white"
             }
            },
            "type": "table"
           }
          ]
         },
         "layout": {
          "annotationdefaults": {
           "arrowcolor": "#2a3f5f",
           "arrowhead": 0,
           "arrowwidth": 1
          },
          "autotypenumbers": "strict",
          "coloraxis": {
           "colorbar": {
            "outlinewidth": 0,
            "ticks": ""
           }
          },
          "colorscale": {
           "diverging": [
            [
             0,
             "#8e0152"
            ],
            [
             0.1,
             "#c51b7d"
            ],
            [
             0.2,
             "#de77ae"
            ],
            [
             0.3,
             "#f1b6da"
            ],
            [
             0.4,
             "#fde0ef"
            ],
            [
             0.5,
             "#f7f7f7"
            ],
            [
             0.6,
             "#e6f5d0"
            ],
            [
             0.7,
             "#b8e186"
            ],
            [
             0.8,
             "#7fbc41"
            ],
            [
             0.9,
             "#4d9221"
            ],
            [
             1,
             "#276419"
            ]
           ],
           "sequential": [
            [
             0,
             "#0d0887"
            ],
            [
             0.1111111111111111,
             "#46039f"
            ],
            [
             0.2222222222222222,
             "#7201a8"
            ],
            [
             0.3333333333333333,
             "#9c179e"
            ],
            [
             0.4444444444444444,
             "#bd3786"
            ],
            [
             0.5555555555555556,
             "#d8576b"
            ],
            [
             0.6666666666666666,
             "#ed7953"
            ],
            [
             0.7777777777777778,
             "#fb9f3a"
            ],
            [
             0.8888888888888888,
             "#fdca26"
            ],
            [
             1,
             "#f0f921"
            ]
           ],
           "sequentialminus": [
            [
             0,
             "#0d0887"
            ],
            [
             0.1111111111111111,
             "#46039f"
            ],
            [
             0.2222222222222222,
             "#7201a8"
            ],
            [
             0.3333333333333333,
             "#9c179e"
            ],
            [
             0.4444444444444444,
             "#bd3786"
            ],
            [
             0.5555555555555556,
             "#d8576b"
            ],
            [
             0.6666666666666666,
             "#ed7953"
            ],
            [
             0.7777777777777778,
             "#fb9f3a"
            ],
            [
             0.8888888888888888,
             "#fdca26"
            ],
            [
             1,
             "#f0f921"
            ]
           ]
          },
          "colorway": [
           "#636efa",
           "#EF553B",
           "#00cc96",
           "#ab63fa",
           "#FFA15A",
           "#19d3f3",
           "#FF6692",
           "#B6E880",
           "#FF97FF",
           "#FECB52"
          ],
          "font": {
           "color": "#2a3f5f"
          },
          "geo": {
           "bgcolor": "white",
           "lakecolor": "white",
           "landcolor": "#E5ECF6",
           "showlakes": true,
           "showland": true,
           "subunitcolor": "white"
          },
          "hoverlabel": {
           "align": "left"
          },
          "hovermode": "closest",
          "mapbox": {
           "style": "light"
          },
          "paper_bgcolor": "white",
          "plot_bgcolor": "#E5ECF6",
          "polar": {
           "angularaxis": {
            "gridcolor": "white",
            "linecolor": "white",
            "ticks": ""
           },
           "bgcolor": "#E5ECF6",
           "radialaxis": {
            "gridcolor": "white",
            "linecolor": "white",
            "ticks": ""
           }
          },
          "scene": {
           "xaxis": {
            "backgroundcolor": "#E5ECF6",
            "gridcolor": "white",
            "gridwidth": 2,
            "linecolor": "white",
            "showbackground": true,
            "ticks": "",
            "zerolinecolor": "white"
           },
           "yaxis": {
            "backgroundcolor": "#E5ECF6",
            "gridcolor": "white",
            "gridwidth": 2,
            "linecolor": "white",
            "showbackground": true,
            "ticks": "",
            "zerolinecolor": "white"
           },
           "zaxis": {
            "backgroundcolor": "#E5ECF6",
            "gridcolor": "white",
            "gridwidth": 2,
            "linecolor": "white",
            "showbackground": true,
            "ticks": "",
            "zerolinecolor": "white"
           }
          },
          "shapedefaults": {
           "line": {
            "color": "#2a3f5f"
           }
          },
          "ternary": {
           "aaxis": {
            "gridcolor": "white",
            "linecolor": "white",
            "ticks": ""
           },
           "baxis": {
            "gridcolor": "white",
            "linecolor": "white",
            "ticks": ""
           },
           "bgcolor": "#E5ECF6",
           "caxis": {
            "gridcolor": "white",
            "linecolor": "white",
            "ticks": ""
           }
          },
          "title": {
           "x": 0.05
          },
          "xaxis": {
           "automargin": true,
           "gridcolor": "white",
           "linecolor": "white",
           "ticks": "",
           "title": {
            "standoff": 15
           },
           "zerolinecolor": "white",
           "zerolinewidth": 2
          },
          "yaxis": {
           "automargin": true,
           "gridcolor": "white",
           "linecolor": "white",
           "ticks": "",
           "title": {
            "standoff": 15
           },
           "zerolinecolor": "white",
           "zerolinewidth": 2
          }
         }
        },
        "title": {
         "text": "PETR4"
        },
        "yaxis": {
         "title": {
          "text": "Profit"
         }
        }
       }
      }
     },
     "metadata": {},
     "output_type": "display_data"
    },
    {
     "data": {
      "application/vnd.plotly.v1+json": {
       "config": {
        "plotlyServerURL": "https://plot.ly"
       },
       "data": [
        {
         "close": [
          1163.7699999999995,
          1081.2999999999995,
          1015.9499999999994,
          880.6399999999995,
          954.6299999999997,
          24872.789999999997,
          657.7999999999997,
          715.1499999999999,
          1118.62,
          1126.36,
          1115.2099999999991,
          1073.0299999999997,
          1014.4499999999996,
          1070.3899999999999,
          1045.0599999999997,
          647.3699999999999,
          1032.1499999999994,
          971.2099999999998,
          925.22,
          887.78,
          199.74999999999977,
          934.31,
          954.4299999999994,
          1014.6699999999996,
          1038.8099999999997,
          1001.0099999999991,
          954.0399999999996,
          937.7699999999991,
          921.4599999999996,
          774.7999999999995,
          889.64,
          888.4000000000001,
          818.8799999999997,
          848.5800000000004,
          787.2699999999995,
          779.4399999999996,
          820.3599999999994,
          838.379999999999,
          813.5399999999997,
          789.8599999999994,
          756.0099999999998,
          671.4799999999996,
          718.71,
          653.8899999999999,
          611.5499999999995,
          817.8699999999997,
          705.9199999999998,
          586.2799999999995,
          716.1099999999992,
          744.48,
          696.1499999999994,
          699.9700000000005,
          601.3799999999999,
          577.7299999999996,
          659.3099999999993,
          710.4299999999996,
          701.9800000000005,
          715.3199999999997,
          677.5700000000004,
          673.8399999999997,
          709.1499999999994,
          854.7099999999994,
          803.5099999999998,
          809.5899999999999,
          753.1199999999997,
          697.049999999999,
          733.4699999999996,
          757.8599999999994,
          712.6199999999997,
          654.3899999999996,
          716.2199999999998,
          654.4099999999999,
          712.3399999999997,
          781.7999999999993,
          642.6399999999994,
          597.8399999999997,
          518.3300000000002,
          456.11999999999966,
          459.54999999999995,
          304.96000000000026,
          434.93999999999915,
          416.62000000000035,
          248.4099999999994,
          189.12999999999988,
          120.77999999999997,
          72.67999999999984,
          107.59999999999945,
          198.77999999999975,
          201.19000000000005,
          195.48999999999978,
          196.3499999999999,
          198.01999999999998,
          187.44999999999982,
          183.77999999999975,
          169.3699999999999,
          181.8399999999997,
          157.0699999999997,
          140.1500000000001,
          118.61999999999989,
          112.02999999999975,
          41.90000000000009,
          106.85999999999967,
          128.9399999999996,
          66.2199999999998,
          80.51999999999998,
          6.6599999999998545,
          3.6599999999998545
         ],
         "high": [
          1221.3799999999992,
          1200.5199999999998,
          1116.9799999999993,
          1103.9000000000003,
          1157.8599999999992,
          25280.679999999997,
          751.6300000000001,
          821.3399999999997,
          1196.8699999999992,
          1241.0399999999993,
          1246.6899999999996,
          1147.639999999999,
          1139.0599999999995,
          1136.8299999999997,
          1128.5499999999993,
          684.8799999999999,
          1088.9799999999998,
          1054.7399999999993,
          1047.1999999999994,
          991.6099999999994,
          243.74999999999932,
          997.9299999999992,
          1102.8099999999995,
          1106.6799999999996,
          1082.1699999999994,
          1046.3299999999997,
          1026.4599999999994,
          1004.1099999999994,
          956.5699999999993,
          894.6499999999994,
          979.6099999999997,
          954.1499999999994,
          953.9099999999996,
          950.6199999999997,
          929.77,
          859.1399999999994,
          885.4299999999998,
          904.5399999999995,
          863.2699999999995,
          831.0099999999995,
          824.81,
          829.5199999999993,
          824.1500000000001,
          709.2299999999993,
          780.8699999999997,
          883.5899999999999,
          734.5599999999993,
          767.0800000000002,
          795.6899999999994,
          795.99,
          805.1799999999998,
          743.2099999999998,
          685.6999999999991,
          744.55,
          792.9199999999994,
          772.7299999999998,
          782.9499999999996,
          756.0199999999991,
          779.1299999999997,
          765.8400000000001,
          900.7399999999993,
          974.1599999999992,
          884.2399999999996,
          938.2899999999997,
          848.69,
          795.6099999999999,
          883.6699999999994,
          793.6999999999996,
          806.1700000000001,
          789.8299999999995,
          749.55,
          765.3099999999997,
          789.77,
          830.0900000000001,
          668.7099999999998,
          641.4699999999996,
          596.6500000000001,
          582.9099999999996,
          473.4399999999994,
          375.2499999999998,
          502.8900000000003,
          428.3600000000001,
          335.6999999999998,
          237.28999999999996,
          157.9699999999998,
          180.15999999999985,
          191.98999999999978,
          220.69999999999982,
          232.3199999999997,
          216.14999999999964,
          232.69999999999936,
          222.53999999999996,
          212.74999999999955,
          193.26999999999998,
          195.51999999999998,
          204.88999999999942,
          189.79999999999973,
          164.44999999999982,
          156.64999999999964,
          142.26999999999998,
          160.94999999999982,
          155.0999999999999,
          148.8199999999997,
          152.55999999999995,
          145.19999999999982,
          39.69999999999982,
          39.69999999999982
         ],
         "low": [
          1038.7899999999988,
          949.1399999999987,
          894.3899999999995,
          832.5799999999999,
          899.9299999999997,
          24740.78,
          618.6899999999998,
          643.9199999999996,
          1030.4099999999992,
          1022.4299999999994,
          999.9599999999991,
          890.119999999999,
          955.4399999999994,
          987.0099999999993,
          967.6999999999996,
          572.3299999999995,
          923.9899999999996,
          869.6099999999996,
          773.6599999999994,
          812.1499999999992,
          153.52999999999975,
          814.5599999999995,
          906.4799999999991,
          926.8699999999997,
          946.4599999999996,
          863.5499999999995,
          856.0199999999995,
          851.5899999999992,
          779.2399999999993,
          697.7099999999997,
          805.8899999999996,
          775.2899999999997,
          771.5599999999995,
          726.1099999999994,
          706.8499999999993,
          696.8499999999997,
          709.7099999999998,
          738.7299999999996,
          713.1499999999999,
          649.6299999999992,
          626.3499999999997,
          591.7999999999995,
          605.5799999999997,
          528.7699999999998,
          485.46999999999935,
          716.2199999999996,
          561.5799999999995,
          535.9699999999998,
          648.8499999999995,
          627.79,
          583.109999999999,
          545.3299999999995,
          510.2699999999993,
          507.9599999999998,
          606.1799999999998,
          574.3899999999994,
          611.9299999999998,
          568.97,
          607.8100000000002,
          612.4799999999996,
          620.7999999999997,
          754.98,
          670.9299999999996,
          674.0899999999997,
          568.3299999999992,
          566.2199999999998,
          612.4699999999993,
          662.7499999999995,
          591.3499999999999,
          586.8499999999997,
          617.1099999999994,
          568.2099999999998,
          642.0199999999993,
          618.1399999999996,
          530.9799999999998,
          472.23,
          364.25,
          356.05999999999995,
          259.8299999999997,
          242.27999999999952,
          361.6199999999999,
          220.50999999999976,
          134.69999999999982,
          89.63999999999987,
          38.47999999999956,
          -49.809999999999945,
          56.23999999999978,
          172.98999999999978,
          152.85999999999967,
          161.92999999999984,
          150.5,
          167.55000000000018,
          159.29999999999973,
          153.94999999999982,
          147.44999999999982,
          142.69999999999982,
          107.19999999999936,
          71.92000000000007,
          101.04999999999973,
          28.6899999999996,
          26.759999999999764,
          66.79999999999973,
          51.029999999999745,
          28.869999999999436,
          -4.640000000000327,
          -38.150000000000546,
          -52.250000000000455
         ],
         "open": [
          1130.08,
          1029.63,
          964.2699999999995,
          946.9099999999994,
          1083.3600000000004,
          25088.21,
          700.95,
          717.8900000000001,
          1144.1399999999994,
          1137.6799999999992,
          1084.4599999999994,
          953.7699999999993,
          1092.569999999999,
          1047.2399999999993,
          1053.359999999999,
          622.5899999999999,
          978.8099999999997,
          948.5399999999995,
          884.2499999999998,
          940.6500000000001,
          220.87999999999943,
          907.5999999999992,
          1024.439999999999,
          1047.3199999999993,
          1016.8599999999997,
          963.6599999999997,
          949.3399999999995,
          939.6699999999998,
          822.6899999999994,
          850.7399999999998,
          912.5699999999994,
          825.1399999999995,
          876.6400000000006,
          797.5099999999995,
          891.5899999999999,
          819.0599999999997,
          772.8299999999997,
          806.0300000000002,
          774.3899999999999,
          714.6699999999998,
          676.3399999999997,
          703.9599999999991,
          704.4899999999998,
          620.1199999999994,
          728.8699999999994,
          758.45,
          597.9299999999998,
          711.7799999999995,
          735.8599999999994,
          725.2499999999998,
          699.2300000000002,
          605.9299999999998,
          592.7099999999996,
          664.1399999999994,
          716.5199999999998,
          658.8499999999997,
          692.3799999999994,
          637.0799999999995,
          698.5699999999993,
          717.9199999999994,
          809.2499999999998,
          816.2199999999998,
          787.7299999999996,
          752.0499999999995,
          678.7399999999991,
          686.5899999999995,
          776.46,
          731.9699999999993,
          690.9199999999996,
          712.1000000000001,
          653.9499999999998,
          702.6799999999996,
          743.0499999999993,
          663.5799999999995,
          581.4799999999998,
          518.5899999999997,
          444.9499999999998,
          458.9299999999996,
          288.8700000000001,
          335.3499999999997,
          418.7199999999996,
          276.3499999999997,
          241.85999999999945,
          134.93999999999983,
          85.45999999999958,
          113,
          146.00999999999976,
          202.19000000000005,
          203.23999999999978,
          199.46000000000004,
          206.86000000000013,
          187.42999999999984,
          182.30000000000018,
          171.48999999999978,
          179.77999999999975,
          164.67000000000007,
          145.05999999999995,
          119.22000000000025,
          114.56999999999971,
          52.38999999999987,
          97.69000000000005,
          129.5999999999999,
          77.98999999999978,
          84.42000000000007,
          6.1599999999998545,
          6,
          0.3000000000001819
         ],
         "type": "candlestick",
         "x": [
          "2023-09-29",
          "2023-09-28",
          "2023-09-27",
          "2023-09-26",
          "2023-09-25",
          "2023-09-22",
          "2023-09-21",
          "2023-09-20",
          "2023-09-19",
          "2023-09-18",
          "2023-09-15",
          "2023-09-14",
          "2023-09-13",
          "2023-09-12",
          "2023-09-11",
          "2023-09-09",
          "2023-09-08",
          "2023-09-06",
          "2023-09-05",
          "2023-09-04",
          "2023-09-02",
          "2023-09-01",
          "2023-08-31",
          "2023-08-30",
          "2023-08-29",
          "2023-08-28",
          "2023-08-25",
          "2023-08-24",
          "2023-08-23",
          "2023-08-22",
          "2023-08-21",
          "2023-08-18",
          "2023-08-17",
          "2023-08-16",
          "2023-08-15",
          "2023-08-14",
          "2023-08-11",
          "2023-08-10",
          "2023-08-09",
          "2023-08-08",
          "2023-08-07",
          "2023-08-04",
          "2023-08-03",
          "2023-08-02",
          "2023-08-01",
          "2023-07-31",
          "2023-07-28",
          "2023-07-27",
          "2023-07-26",
          "2023-07-25",
          "2023-07-24",
          "2023-07-21",
          "2023-07-20",
          "2023-07-19",
          "2023-07-18",
          "2023-07-17",
          "2023-07-14",
          "2023-07-13",
          "2023-07-12",
          "2023-07-11",
          "2023-07-10",
          "2023-07-07",
          "2023-07-06",
          "2023-07-05",
          "2023-07-04",
          "2023-07-03",
          "2023-06-30",
          "2023-06-29",
          "2023-06-28",
          "2023-06-27",
          "2023-06-26",
          "2023-06-23",
          "2023-06-22",
          "2023-06-21",
          "2023-06-20",
          "2023-06-19",
          "2023-06-16",
          "2023-06-15",
          "2023-06-14",
          "2023-06-13",
          "2023-06-12",
          "2023-06-09",
          "2023-06-07",
          "2023-06-06",
          "2023-06-05",
          "2023-06-02",
          "2023-06-01",
          "2023-05-31",
          "2023-05-30",
          "2023-05-29",
          "2023-05-26",
          "2023-05-25",
          "2023-05-24",
          "2023-05-23",
          "2023-05-22",
          "2023-05-19",
          "2023-05-18",
          "2023-05-17",
          "2023-05-16",
          "2023-05-15",
          "2023-05-12",
          "2023-05-11",
          "2023-05-10",
          "2023-05-09",
          "2023-05-08",
          "2023-05-06",
          "2023-05-05"
         ]
        }
       ],
       "layout": {
        "template": {
         "data": {
          "bar": [
           {
            "error_x": {
             "color": "#2a3f5f"
            },
            "error_y": {
             "color": "#2a3f5f"
            },
            "marker": {
             "line": {
              "color": "#E5ECF6",
              "width": 0.5
             },
             "pattern": {
              "fillmode": "overlay",
              "size": 10,
              "solidity": 0.2
             }
            },
            "type": "bar"
           }
          ],
          "barpolar": [
           {
            "marker": {
             "line": {
              "color": "#E5ECF6",
              "width": 0.5
             },
             "pattern": {
              "fillmode": "overlay",
              "size": 10,
              "solidity": 0.2
             }
            },
            "type": "barpolar"
           }
          ],
          "carpet": [
           {
            "aaxis": {
             "endlinecolor": "#2a3f5f",
             "gridcolor": "white",
             "linecolor": "white",
             "minorgridcolor": "white",
             "startlinecolor": "#2a3f5f"
            },
            "baxis": {
             "endlinecolor": "#2a3f5f",
             "gridcolor": "white",
             "linecolor": "white",
             "minorgridcolor": "white",
             "startlinecolor": "#2a3f5f"
            },
            "type": "carpet"
           }
          ],
          "choropleth": [
           {
            "colorbar": {
             "outlinewidth": 0,
             "ticks": ""
            },
            "type": "choropleth"
           }
          ],
          "contour": [
           {
            "colorbar": {
             "outlinewidth": 0,
             "ticks": ""
            },
            "colorscale": [
             [
              0,
              "#0d0887"
             ],
             [
              0.1111111111111111,
              "#46039f"
             ],
             [
              0.2222222222222222,
              "#7201a8"
             ],
             [
              0.3333333333333333,
              "#9c179e"
             ],
             [
              0.4444444444444444,
              "#bd3786"
             ],
             [
              0.5555555555555556,
              "#d8576b"
             ],
             [
              0.6666666666666666,
              "#ed7953"
             ],
             [
              0.7777777777777778,
              "#fb9f3a"
             ],
             [
              0.8888888888888888,
              "#fdca26"
             ],
             [
              1,
              "#f0f921"
             ]
            ],
            "type": "contour"
           }
          ],
          "contourcarpet": [
           {
            "colorbar": {
             "outlinewidth": 0,
             "ticks": ""
            },
            "type": "contourcarpet"
           }
          ],
          "heatmap": [
           {
            "colorbar": {
             "outlinewidth": 0,
             "ticks": ""
            },
            "colorscale": [
             [
              0,
              "#0d0887"
             ],
             [
              0.1111111111111111,
              "#46039f"
             ],
             [
              0.2222222222222222,
              "#7201a8"
             ],
             [
              0.3333333333333333,
              "#9c179e"
             ],
             [
              0.4444444444444444,
              "#bd3786"
             ],
             [
              0.5555555555555556,
              "#d8576b"
             ],
             [
              0.6666666666666666,
              "#ed7953"
             ],
             [
              0.7777777777777778,
              "#fb9f3a"
             ],
             [
              0.8888888888888888,
              "#fdca26"
             ],
             [
              1,
              "#f0f921"
             ]
            ],
            "type": "heatmap"
           }
          ],
          "heatmapgl": [
           {
            "colorbar": {
             "outlinewidth": 0,
             "ticks": ""
            },
            "colorscale": [
             [
              0,
              "#0d0887"
             ],
             [
              0.1111111111111111,
              "#46039f"
             ],
             [
              0.2222222222222222,
              "#7201a8"
             ],
             [
              0.3333333333333333,
              "#9c179e"
             ],
             [
              0.4444444444444444,
              "#bd3786"
             ],
             [
              0.5555555555555556,
              "#d8576b"
             ],
             [
              0.6666666666666666,
              "#ed7953"
             ],
             [
              0.7777777777777778,
              "#fb9f3a"
             ],
             [
              0.8888888888888888,
              "#fdca26"
             ],
             [
              1,
              "#f0f921"
             ]
            ],
            "type": "heatmapgl"
           }
          ],
          "histogram": [
           {
            "marker": {
             "pattern": {
              "fillmode": "overlay",
              "size": 10,
              "solidity": 0.2
             }
            },
            "type": "histogram"
           }
          ],
          "histogram2d": [
           {
            "colorbar": {
             "outlinewidth": 0,
             "ticks": ""
            },
            "colorscale": [
             [
              0,
              "#0d0887"
             ],
             [
              0.1111111111111111,
              "#46039f"
             ],
             [
              0.2222222222222222,
              "#7201a8"
             ],
             [
              0.3333333333333333,
              "#9c179e"
             ],
             [
              0.4444444444444444,
              "#bd3786"
             ],
             [
              0.5555555555555556,
              "#d8576b"
             ],
             [
              0.6666666666666666,
              "#ed7953"
             ],
             [
              0.7777777777777778,
              "#fb9f3a"
             ],
             [
              0.8888888888888888,
              "#fdca26"
             ],
             [
              1,
              "#f0f921"
             ]
            ],
            "type": "histogram2d"
           }
          ],
          "histogram2dcontour": [
           {
            "colorbar": {
             "outlinewidth": 0,
             "ticks": ""
            },
            "colorscale": [
             [
              0,
              "#0d0887"
             ],
             [
              0.1111111111111111,
              "#46039f"
             ],
             [
              0.2222222222222222,
              "#7201a8"
             ],
             [
              0.3333333333333333,
              "#9c179e"
             ],
             [
              0.4444444444444444,
              "#bd3786"
             ],
             [
              0.5555555555555556,
              "#d8576b"
             ],
             [
              0.6666666666666666,
              "#ed7953"
             ],
             [
              0.7777777777777778,
              "#fb9f3a"
             ],
             [
              0.8888888888888888,
              "#fdca26"
             ],
             [
              1,
              "#f0f921"
             ]
            ],
            "type": "histogram2dcontour"
           }
          ],
          "mesh3d": [
           {
            "colorbar": {
             "outlinewidth": 0,
             "ticks": ""
            },
            "type": "mesh3d"
           }
          ],
          "parcoords": [
           {
            "line": {
             "colorbar": {
              "outlinewidth": 0,
              "ticks": ""
             }
            },
            "type": "parcoords"
           }
          ],
          "pie": [
           {
            "automargin": true,
            "type": "pie"
           }
          ],
          "scatter": [
           {
            "marker": {
             "colorbar": {
              "outlinewidth": 0,
              "ticks": ""
             }
            },
            "type": "scatter"
           }
          ],
          "scatter3d": [
           {
            "line": {
             "colorbar": {
              "outlinewidth": 0,
              "ticks": ""
             }
            },
            "marker": {
             "colorbar": {
              "outlinewidth": 0,
              "ticks": ""
             }
            },
            "type": "scatter3d"
           }
          ],
          "scattercarpet": [
           {
            "marker": {
             "colorbar": {
              "outlinewidth": 0,
              "ticks": ""
             }
            },
            "type": "scattercarpet"
           }
          ],
          "scattergeo": [
           {
            "marker": {
             "colorbar": {
              "outlinewidth": 0,
              "ticks": ""
             }
            },
            "type": "scattergeo"
           }
          ],
          "scattergl": [
           {
            "marker": {
             "colorbar": {
              "outlinewidth": 0,
              "ticks": ""
             }
            },
            "type": "scattergl"
           }
          ],
          "scattermapbox": [
           {
            "marker": {
             "colorbar": {
              "outlinewidth": 0,
              "ticks": ""
             }
            },
            "type": "scattermapbox"
           }
          ],
          "scatterpolar": [
           {
            "marker": {
             "colorbar": {
              "outlinewidth": 0,
              "ticks": ""
             }
            },
            "type": "scatterpolar"
           }
          ],
          "scatterpolargl": [
           {
            "marker": {
             "colorbar": {
              "outlinewidth": 0,
              "ticks": ""
             }
            },
            "type": "scatterpolargl"
           }
          ],
          "scatterternary": [
           {
            "marker": {
             "colorbar": {
              "outlinewidth": 0,
              "ticks": ""
             }
            },
            "type": "scatterternary"
           }
          ],
          "surface": [
           {
            "colorbar": {
             "outlinewidth": 0,
             "ticks": ""
            },
            "colorscale": [
             [
              0,
              "#0d0887"
             ],
             [
              0.1111111111111111,
              "#46039f"
             ],
             [
              0.2222222222222222,
              "#7201a8"
             ],
             [
              0.3333333333333333,
              "#9c179e"
             ],
             [
              0.4444444444444444,
              "#bd3786"
             ],
             [
              0.5555555555555556,
              "#d8576b"
             ],
             [
              0.6666666666666666,
              "#ed7953"
             ],
             [
              0.7777777777777778,
              "#fb9f3a"
             ],
             [
              0.8888888888888888,
              "#fdca26"
             ],
             [
              1,
              "#f0f921"
             ]
            ],
            "type": "surface"
           }
          ],
          "table": [
           {
            "cells": {
             "fill": {
              "color": "#EBF0F8"
             },
             "line": {
              "color": "white"
             }
            },
            "header": {
             "fill": {
              "color": "#C8D4E3"
             },
             "line": {
              "color": "white"
             }
            },
            "type": "table"
           }
          ]
         },
         "layout": {
          "annotationdefaults": {
           "arrowcolor": "#2a3f5f",
           "arrowhead": 0,
           "arrowwidth": 1
          },
          "autotypenumbers": "strict",
          "coloraxis": {
           "colorbar": {
            "outlinewidth": 0,
            "ticks": ""
           }
          },
          "colorscale": {
           "diverging": [
            [
             0,
             "#8e0152"
            ],
            [
             0.1,
             "#c51b7d"
            ],
            [
             0.2,
             "#de77ae"
            ],
            [
             0.3,
             "#f1b6da"
            ],
            [
             0.4,
             "#fde0ef"
            ],
            [
             0.5,
             "#f7f7f7"
            ],
            [
             0.6,
             "#e6f5d0"
            ],
            [
             0.7,
             "#b8e186"
            ],
            [
             0.8,
             "#7fbc41"
            ],
            [
             0.9,
             "#4d9221"
            ],
            [
             1,
             "#276419"
            ]
           ],
           "sequential": [
            [
             0,
             "#0d0887"
            ],
            [
             0.1111111111111111,
             "#46039f"
            ],
            [
             0.2222222222222222,
             "#7201a8"
            ],
            [
             0.3333333333333333,
             "#9c179e"
            ],
            [
             0.4444444444444444,
             "#bd3786"
            ],
            [
             0.5555555555555556,
             "#d8576b"
            ],
            [
             0.6666666666666666,
             "#ed7953"
            ],
            [
             0.7777777777777778,
             "#fb9f3a"
            ],
            [
             0.8888888888888888,
             "#fdca26"
            ],
            [
             1,
             "#f0f921"
            ]
           ],
           "sequentialminus": [
            [
             0,
             "#0d0887"
            ],
            [
             0.1111111111111111,
             "#46039f"
            ],
            [
             0.2222222222222222,
             "#7201a8"
            ],
            [
             0.3333333333333333,
             "#9c179e"
            ],
            [
             0.4444444444444444,
             "#bd3786"
            ],
            [
             0.5555555555555556,
             "#d8576b"
            ],
            [
             0.6666666666666666,
             "#ed7953"
            ],
            [
             0.7777777777777778,
             "#fb9f3a"
            ],
            [
             0.8888888888888888,
             "#fdca26"
            ],
            [
             1,
             "#f0f921"
            ]
           ]
          },
          "colorway": [
           "#636efa",
           "#EF553B",
           "#00cc96",
           "#ab63fa",
           "#FFA15A",
           "#19d3f3",
           "#FF6692",
           "#B6E880",
           "#FF97FF",
           "#FECB52"
          ],
          "font": {
           "color": "#2a3f5f"
          },
          "geo": {
           "bgcolor": "white",
           "lakecolor": "white",
           "landcolor": "#E5ECF6",
           "showlakes": true,
           "showland": true,
           "subunitcolor": "white"
          },
          "hoverlabel": {
           "align": "left"
          },
          "hovermode": "closest",
          "mapbox": {
           "style": "light"
          },
          "paper_bgcolor": "white",
          "plot_bgcolor": "#E5ECF6",
          "polar": {
           "angularaxis": {
            "gridcolor": "white",
            "linecolor": "white",
            "ticks": ""
           },
           "bgcolor": "#E5ECF6",
           "radialaxis": {
            "gridcolor": "white",
            "linecolor": "white",
            "ticks": ""
           }
          },
          "scene": {
           "xaxis": {
            "backgroundcolor": "#E5ECF6",
            "gridcolor": "white",
            "gridwidth": 2,
            "linecolor": "white",
            "showbackground": true,
            "ticks": "",
            "zerolinecolor": "white"
           },
           "yaxis": {
            "backgroundcolor": "#E5ECF6",
            "gridcolor": "white",
            "gridwidth": 2,
            "linecolor": "white",
            "showbackground": true,
            "ticks": "",
            "zerolinecolor": "white"
           },
           "zaxis": {
            "backgroundcolor": "#E5ECF6",
            "gridcolor": "white",
            "gridwidth": 2,
            "linecolor": "white",
            "showbackground": true,
            "ticks": "",
            "zerolinecolor": "white"
           }
          },
          "shapedefaults": {
           "line": {
            "color": "#2a3f5f"
           }
          },
          "ternary": {
           "aaxis": {
            "gridcolor": "white",
            "linecolor": "white",
            "ticks": ""
           },
           "baxis": {
            "gridcolor": "white",
            "linecolor": "white",
            "ticks": ""
           },
           "bgcolor": "#E5ECF6",
           "caxis": {
            "gridcolor": "white",
            "linecolor": "white",
            "ticks": ""
           }
          },
          "title": {
           "x": 0.05
          },
          "xaxis": {
           "automargin": true,
           "gridcolor": "white",
           "linecolor": "white",
           "ticks": "",
           "title": {
            "standoff": 15
           },
           "zerolinecolor": "white",
           "zerolinewidth": 2
          },
          "yaxis": {
           "automargin": true,
           "gridcolor": "white",
           "linecolor": "white",
           "ticks": "",
           "title": {
            "standoff": 15
           },
           "zerolinecolor": "white",
           "zerolinewidth": 2
          }
         }
        },
        "title": {
         "text": "TUDAO"
        },
        "yaxis": {
         "title": {
          "text": "Profit"
         }
        }
       }
      }
     },
     "metadata": {},
     "output_type": "display_data"
    }
   ],
   "source": [
    "plot_candlestick_chart(XPCI11, \"XPCI11\")\n",
    "plot_candlestick_chart(CPTS11, \"CPTS11\")\n",
    "plot_candlestick_chart(KNCR11, \"KNCR11\")\n",
    "plot_candlestick_chart(CPTR11, \"CPTR11\")\n",
    "plot_candlestick_chart(HABT11, \"HABT11\")\n",
    "plot_candlestick_chart(ITUB4, \"ITUB4\")\n",
    "plot_candlestick_chart(PETR4, \"PETR4\")\n",
    "plot_candlestick_chart(XPCI11, \"XPCI11\", True)\n",
    "plot_candlestick_chart(CPTS11, \"CPTS11\", True)\n",
    "plot_candlestick_chart(KNCR11, \"KNCR11\", True)\n",
    "plot_candlestick_chart(CPTR11, \"CPTR11\", True)\n",
    "plot_candlestick_chart(HABT11, \"HABT11\", True)\n",
    "plot_candlestick_chart(ITUB4, \"ITUB4\", True)\n",
    "plot_candlestick_chart(PETR4, \"PETR4\", True)\n",
    "a = merge(ITUB4, PETR4)\n",
    "b = merge(a, KNCR11)\n",
    "c = merge(CPTS11, b)\n",
    "d = merge(XPCI11, c)\n",
    "e = merge(CPTR11, d)\n",
    "tudao = merge(HABT11, e)\n",
    "plot_candlestick_chart(tudao, \"TUDAO\", True)"
   ]
  }
 ],
 "metadata": {
  "kernelspec": {
   "display_name": "Python 3",
   "language": "python",
   "name": "python3"
  },
  "language_info": {
   "codemirror_mode": {
    "name": "ipython",
    "version": 3
   },
   "file_extension": ".py",
   "mimetype": "text/x-python",
   "name": "python",
   "nbconvert_exporter": "python",
   "pygments_lexer": "ipython3",
   "version": "3.11.6"
  },
  "orig_nbformat": 4
 },
 "nbformat": 4,
 "nbformat_minor": 2
}
